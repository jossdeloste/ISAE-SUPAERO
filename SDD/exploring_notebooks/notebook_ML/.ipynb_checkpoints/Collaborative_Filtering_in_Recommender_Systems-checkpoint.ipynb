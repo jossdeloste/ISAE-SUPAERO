{
 "cells": [
  {
   "cell_type": "markdown",
   "metadata": {},
   "source": [
    "This notebook was created by Josselin Deloste."
   ]
  },
  {
   "cell_type": "markdown",
   "metadata": {},
   "source": [
    "<div style=\"font-size:22pt; line-height:25pt; font-weight:bold; text-align:center;\">Collaborative Filtering in Recommender Systems</div>\n",
    "\n",
    "Recommender systems are omnipresent in most of your everyday consulted websites. Indeed you all have been recommanded either a movie to watch (on Netflix, Amazon prime), a song to listen (on Deezer or Spotify), an item to buy (Ebay, Amazon), a person to follow (Instagram, Facebook, Twitter). All of these approaches are the results of recommander systems which have obvious applications when it comes to maximize customer satisfaction by improving the service quality, providing easier navigation and/or to increase advertising campaign returns. \n",
    "\n",
    "\n",
    "$\\textbf{How do these companies do ?}$\n",
    "\n",
    "They use various techniques combining different datasets which are : \n",
    "- pure user datasets - only user informations e.g : location, profession, age, passions, interests etc ...\n",
    "- pure item datasets - only item informations e.g Movies : genre, year, actors, version etc ...\n",
    "- user-item datasets - user-item informations e.g : ratings etc ... \n",
    "- mixed datasets - a mix of the foregoing\n",
    "\n",
    "Recommender systems techniques relying only on user-item informations are known as $\\textit{collaborative filtering}$ methods. The following course aims to present the latter algorithms and to explain how $\\textit{collaborative filtering}$ approaches are used in recommender systems through easy examples. \n",
    "\n",
    "1. [Collaborative Filtering](#sec1)\n",
    "2. [Pratical case Introduction - The movieLens dataset](#sec2)\n",
    "3. [User based collaborative filtering](#sec3)\n",
    "4. [Item based collaborative filtering](#sec4)\n",
    "5. [Matrix factorization collaborative filtering](#sec5)"
   ]
  },
  {
   "cell_type": "markdown",
   "metadata": {},
   "source": [
    "# 1. <a id=\"sec1\"></a>Collaborative Filtering (CF)\n",
    "\n",
    "**Idea:**\n",
    "\n",
    "\n",
    "\n",
    "<img src=\"fig1.jpg\" width=\"600px\">  \n",
    "Word-of-mouth has always been one of the most powerful marketing tool ! Have you liked something recently ? It is highly likely that someone who has liked similar items will appreciate it too or that you would like a similar product ! The problem remains to evaluate the \"user-user or item-item similarity\".\n",
    "\n",
    "**Some notation:**\n",
    "- $M$ : rating matrix $M:=[m_{ui}]_{u,i\\in  [\\![1,n]\\!]^{2}}$ where $m_{ui}$ corresponds to the item $i$ rating given by user $u$\n",
    "\n",
    "Typical rating matrix:\n",
    "\\begin{equation}\n",
    "M \\in \\mathbb{R}^{m \\times n} = \\left [ \\begin{array}{cccccccc}\n",
    "0.5 & NaN & 2   & NaN & NaN & NaN & 5   & NaN \\\\\n",
    "NaN & 4   & NaN & NaN & 0.5 & 3   & 2   & 1   \\\\\n",
    "1   & 3   & 3   & NaN & NaN & 0.5 & 3   & 4   \\\\\n",
    "4   & 5   & 2   & 4   & 2   & NaN & 2.5 & NaN \\\\\n",
    "2   & NaN & 4   & 5   & 3.5 & NaN & NaN & 3   \\\\\n",
    "NaN & 2   & 3.5 & 0.5 & 2   & 3   & 2   & NaN \\\\\n",
    "3   & NaN & NaN & 5   & 4   & 0.5 & 3   & 4   \\\\\n",
    "1.5 & NaN & NaN & 2   & 3   & NaN & NaN & NaN \\\\\n",
    "NaN & 3   & 3   & NaN & 3.5 & NaN & 4   & 3   \\\\\n",
    "NaN & 2.5 & NaN & 4   & 4   & 3   & NaN & NaN \\\\\n",
    "\\end{array} \\right ]\n",
    "\\end{equation}\n",
    "\n",
    "$\\textit{Remark :}$ The rating matrix is a sparse matrix. Indeed in general by modifying our initial notation system, we can assume that unknown matrix entries are zeros (we just need not to allow 0 grades). \n",
    "\n",
    "In our example, $m:=10$ users have accepted to rate $n:=8$ items $\\textit{e.g}$ in this matrix user 1 has given a 0.5 note to item 1 and a 5 note to item 7. \n",
    "\n",
    "Collaborative Filtering aims to fill in the matrix using only existing values: we want to replace all remaining unknown values by approximations based on the available rates and not user or item features. Thus, these approximations will correspond to our recommendations. "
   ]
  },
  {
   "cell_type": "markdown",
   "metadata": {},
   "source": [
    "# 2.<a id=\"sec2\"></a> Our practise case : Would you like to update your old-fashined movie recommending system ?"
   ]
  },
  {
   "cell_type": "markdown",
   "metadata": {},
   "source": [
    "$\\textbf{History:}$ \n",
    "\n",
    "Historically collaborative filtering had been substantially developped during Netflix early years when the company released a fully open $USD 1 000 000 prize money competition. At the end of the competition Netflix improves its recommendation satisfactions by 10 %.\n",
    "\n",
    "During this recommender system course we will study recommender algorithms through movie recommendations."
   ]
  },
  {
   "cell_type": "code",
   "execution_count": 48,
   "metadata": {},
   "outputs": [],
   "source": [
    "# importing needed libraries\n",
    "import pandas as pd\n",
    "import numpy as np\n",
    "import scipy.sparse as sp\n",
    "import matplotlib.pyplot as plt\n",
    "import scipy.stats as st"
   ]
  },
  {
   "cell_type": "code",
   "execution_count": 236,
   "metadata": {},
   "outputs": [
    {
     "name": "stdout",
     "output_type": "stream",
     "text": [
      "(100234, 4)\n"
     ]
    },
    {
     "data": {
      "text/html": [
       "<div>\n",
       "<style scoped>\n",
       "    .dataframe tbody tr th:only-of-type {\n",
       "        vertical-align: middle;\n",
       "    }\n",
       "\n",
       "    .dataframe tbody tr th {\n",
       "        vertical-align: top;\n",
       "    }\n",
       "\n",
       "    .dataframe thead th {\n",
       "        text-align: right;\n",
       "    }\n",
       "</style>\n",
       "<table border=\"1\" class=\"dataframe\">\n",
       "  <thead>\n",
       "    <tr style=\"text-align: right;\">\n",
       "      <th></th>\n",
       "      <th>userId</th>\n",
       "      <th>movieId</th>\n",
       "      <th>rating</th>\n",
       "      <th>timestamp</th>\n",
       "    </tr>\n",
       "  </thead>\n",
       "  <tbody>\n",
       "    <tr>\n",
       "      <th>0</th>\n",
       "      <td>1</td>\n",
       "      <td>1</td>\n",
       "      <td>5.0</td>\n",
       "      <td>847117005</td>\n",
       "    </tr>\n",
       "    <tr>\n",
       "      <th>1</th>\n",
       "      <td>1</td>\n",
       "      <td>2</td>\n",
       "      <td>3.0</td>\n",
       "      <td>847642142</td>\n",
       "    </tr>\n",
       "    <tr>\n",
       "      <th>2</th>\n",
       "      <td>1</td>\n",
       "      <td>10</td>\n",
       "      <td>3.0</td>\n",
       "      <td>847641896</td>\n",
       "    </tr>\n",
       "    <tr>\n",
       "      <th>3</th>\n",
       "      <td>1</td>\n",
       "      <td>32</td>\n",
       "      <td>4.0</td>\n",
       "      <td>847642008</td>\n",
       "    </tr>\n",
       "    <tr>\n",
       "      <th>4</th>\n",
       "      <td>1</td>\n",
       "      <td>34</td>\n",
       "      <td>4.0</td>\n",
       "      <td>847641956</td>\n",
       "    </tr>\n",
       "  </tbody>\n",
       "</table>\n",
       "</div>"
      ],
      "text/plain": [
       "   userId  movieId  rating  timestamp\n",
       "0       1        1     5.0  847117005\n",
       "1       1        2     3.0  847642142\n",
       "2       1       10     3.0  847641896\n",
       "3       1       32     4.0  847642008\n",
       "4       1       34     4.0  847641956"
      ]
     },
     "execution_count": 236,
     "metadata": {},
     "output_type": "execute_result"
    }
   ],
   "source": [
    "# Load our ratings data\n",
    "ratings = pd.read_csv('./Movies_data/ratings.csv')\n",
    "\n",
    "print(ratings.shape)\n",
    "ratings.head()"
   ]
  },
  {
   "cell_type": "code",
   "execution_count": 237,
   "metadata": {},
   "outputs": [
    {
     "name": "stdout",
     "output_type": "stream",
     "text": [
      "(8927, 3)\n"
     ]
    },
    {
     "data": {
      "text/html": [
       "<div>\n",
       "<style scoped>\n",
       "    .dataframe tbody tr th:only-of-type {\n",
       "        vertical-align: middle;\n",
       "    }\n",
       "\n",
       "    .dataframe tbody tr th {\n",
       "        vertical-align: top;\n",
       "    }\n",
       "\n",
       "    .dataframe thead th {\n",
       "        text-align: right;\n",
       "    }\n",
       "</style>\n",
       "<table border=\"1\" class=\"dataframe\">\n",
       "  <thead>\n",
       "    <tr style=\"text-align: right;\">\n",
       "      <th></th>\n",
       "      <th>movieId</th>\n",
       "      <th>title</th>\n",
       "      <th>genres</th>\n",
       "    </tr>\n",
       "  </thead>\n",
       "  <tbody>\n",
       "    <tr>\n",
       "      <th>0</th>\n",
       "      <td>1</td>\n",
       "      <td>Toy Story (1995)</td>\n",
       "      <td>Adventure|Animation|Children|Comedy|Fantasy</td>\n",
       "    </tr>\n",
       "    <tr>\n",
       "      <th>1</th>\n",
       "      <td>2</td>\n",
       "      <td>Jumanji (1995)</td>\n",
       "      <td>Adventure|Children|Fantasy</td>\n",
       "    </tr>\n",
       "    <tr>\n",
       "      <th>2</th>\n",
       "      <td>3</td>\n",
       "      <td>Grumpier Old Men (1995)</td>\n",
       "      <td>Comedy|Romance</td>\n",
       "    </tr>\n",
       "    <tr>\n",
       "      <th>3</th>\n",
       "      <td>4</td>\n",
       "      <td>Waiting to Exhale (1995)</td>\n",
       "      <td>Comedy|Drama|Romance</td>\n",
       "    </tr>\n",
       "    <tr>\n",
       "      <th>4</th>\n",
       "      <td>5</td>\n",
       "      <td>Father of the Bride Part II (1995)</td>\n",
       "      <td>Comedy</td>\n",
       "    </tr>\n",
       "  </tbody>\n",
       "</table>\n",
       "</div>"
      ],
      "text/plain": [
       "   movieId                               title  \\\n",
       "0        1                    Toy Story (1995)   \n",
       "1        2                      Jumanji (1995)   \n",
       "2        3             Grumpier Old Men (1995)   \n",
       "3        4            Waiting to Exhale (1995)   \n",
       "4        5  Father of the Bride Part II (1995)   \n",
       "\n",
       "                                        genres  \n",
       "0  Adventure|Animation|Children|Comedy|Fantasy  \n",
       "1                   Adventure|Children|Fantasy  \n",
       "2                               Comedy|Romance  \n",
       "3                         Comedy|Drama|Romance  \n",
       "4                                       Comedy  "
      ]
     },
     "execution_count": 237,
     "metadata": {},
     "output_type": "execute_result"
    }
   ],
   "source": [
    "#Load our movies data\n",
    "movies = pd.read_csv('./Movies_data/movies.csv')\n",
    "\n",
    "print(movies.shape)\n",
    "movies.head()"
   ]
  },
  {
   "cell_type": "code",
   "execution_count": 474,
   "metadata": {},
   "outputs": [
    {
     "data": {
      "text/html": [
       "<div>\n",
       "<style scoped>\n",
       "    .dataframe tbody tr th:only-of-type {\n",
       "        vertical-align: middle;\n",
       "    }\n",
       "\n",
       "    .dataframe tbody tr th {\n",
       "        vertical-align: top;\n",
       "    }\n",
       "\n",
       "    .dataframe thead th {\n",
       "        text-align: right;\n",
       "    }\n",
       "</style>\n",
       "<table border=\"1\" class=\"dataframe\">\n",
       "  <thead>\n",
       "    <tr style=\"text-align: right;\">\n",
       "      <th>movieId</th>\n",
       "      <th>1</th>\n",
       "      <th>2</th>\n",
       "      <th>3</th>\n",
       "      <th>4</th>\n",
       "      <th>5</th>\n",
       "      <th>6</th>\n",
       "      <th>7</th>\n",
       "      <th>8</th>\n",
       "      <th>9</th>\n",
       "      <th>10</th>\n",
       "      <th>...</th>\n",
       "      <th>132796</th>\n",
       "      <th>133419</th>\n",
       "      <th>133545</th>\n",
       "      <th>133897</th>\n",
       "      <th>134170</th>\n",
       "      <th>134368</th>\n",
       "      <th>134393</th>\n",
       "      <th>134783</th>\n",
       "      <th>134853</th>\n",
       "      <th>135887</th>\n",
       "    </tr>\n",
       "    <tr>\n",
       "      <th>userId</th>\n",
       "      <th></th>\n",
       "      <th></th>\n",
       "      <th></th>\n",
       "      <th></th>\n",
       "      <th></th>\n",
       "      <th></th>\n",
       "      <th></th>\n",
       "      <th></th>\n",
       "      <th></th>\n",
       "      <th></th>\n",
       "      <th></th>\n",
       "      <th></th>\n",
       "      <th></th>\n",
       "      <th></th>\n",
       "      <th></th>\n",
       "      <th></th>\n",
       "      <th></th>\n",
       "      <th></th>\n",
       "      <th></th>\n",
       "      <th></th>\n",
       "      <th></th>\n",
       "    </tr>\n",
       "  </thead>\n",
       "  <tbody>\n",
       "    <tr>\n",
       "      <th>1</th>\n",
       "      <td>5.0</td>\n",
       "      <td>3.0</td>\n",
       "      <td>0.0</td>\n",
       "      <td>0.0</td>\n",
       "      <td>0.0</td>\n",
       "      <td>0.0</td>\n",
       "      <td>0.0</td>\n",
       "      <td>0.0</td>\n",
       "      <td>0.0</td>\n",
       "      <td>3.0</td>\n",
       "      <td>...</td>\n",
       "      <td>0.0</td>\n",
       "      <td>0.0</td>\n",
       "      <td>0.0</td>\n",
       "      <td>0.0</td>\n",
       "      <td>0.0</td>\n",
       "      <td>0.0</td>\n",
       "      <td>0.0</td>\n",
       "      <td>0.0</td>\n",
       "      <td>0.0</td>\n",
       "      <td>0.0</td>\n",
       "    </tr>\n",
       "    <tr>\n",
       "      <th>2</th>\n",
       "      <td>3.0</td>\n",
       "      <td>3.0</td>\n",
       "      <td>0.0</td>\n",
       "      <td>0.0</td>\n",
       "      <td>0.0</td>\n",
       "      <td>0.0</td>\n",
       "      <td>0.0</td>\n",
       "      <td>0.0</td>\n",
       "      <td>0.0</td>\n",
       "      <td>0.0</td>\n",
       "      <td>...</td>\n",
       "      <td>0.0</td>\n",
       "      <td>0.0</td>\n",
       "      <td>0.0</td>\n",
       "      <td>0.0</td>\n",
       "      <td>0.0</td>\n",
       "      <td>0.0</td>\n",
       "      <td>0.0</td>\n",
       "      <td>0.0</td>\n",
       "      <td>0.0</td>\n",
       "      <td>0.0</td>\n",
       "    </tr>\n",
       "    <tr>\n",
       "      <th>3</th>\n",
       "      <td>0.0</td>\n",
       "      <td>0.0</td>\n",
       "      <td>0.0</td>\n",
       "      <td>0.0</td>\n",
       "      <td>0.0</td>\n",
       "      <td>0.0</td>\n",
       "      <td>0.0</td>\n",
       "      <td>0.0</td>\n",
       "      <td>0.0</td>\n",
       "      <td>0.0</td>\n",
       "      <td>...</td>\n",
       "      <td>0.0</td>\n",
       "      <td>0.0</td>\n",
       "      <td>0.0</td>\n",
       "      <td>0.0</td>\n",
       "      <td>0.0</td>\n",
       "      <td>0.0</td>\n",
       "      <td>0.0</td>\n",
       "      <td>0.0</td>\n",
       "      <td>0.0</td>\n",
       "      <td>0.0</td>\n",
       "    </tr>\n",
       "    <tr>\n",
       "      <th>4</th>\n",
       "      <td>0.0</td>\n",
       "      <td>0.0</td>\n",
       "      <td>0.0</td>\n",
       "      <td>0.0</td>\n",
       "      <td>0.0</td>\n",
       "      <td>0.0</td>\n",
       "      <td>0.0</td>\n",
       "      <td>0.0</td>\n",
       "      <td>0.0</td>\n",
       "      <td>0.0</td>\n",
       "      <td>...</td>\n",
       "      <td>0.0</td>\n",
       "      <td>0.0</td>\n",
       "      <td>0.0</td>\n",
       "      <td>0.0</td>\n",
       "      <td>0.0</td>\n",
       "      <td>0.0</td>\n",
       "      <td>0.0</td>\n",
       "      <td>0.0</td>\n",
       "      <td>0.0</td>\n",
       "      <td>0.0</td>\n",
       "    </tr>\n",
       "    <tr>\n",
       "      <th>5</th>\n",
       "      <td>4.0</td>\n",
       "      <td>0.0</td>\n",
       "      <td>0.0</td>\n",
       "      <td>0.0</td>\n",
       "      <td>3.0</td>\n",
       "      <td>4.0</td>\n",
       "      <td>0.0</td>\n",
       "      <td>0.0</td>\n",
       "      <td>0.0</td>\n",
       "      <td>0.0</td>\n",
       "      <td>...</td>\n",
       "      <td>0.0</td>\n",
       "      <td>0.0</td>\n",
       "      <td>0.0</td>\n",
       "      <td>0.0</td>\n",
       "      <td>0.0</td>\n",
       "      <td>0.0</td>\n",
       "      <td>0.0</td>\n",
       "      <td>0.0</td>\n",
       "      <td>0.0</td>\n",
       "      <td>0.0</td>\n",
       "    </tr>\n",
       "  </tbody>\n",
       "</table>\n",
       "<p>5 rows × 8915 columns</p>\n",
       "</div>"
      ],
      "text/plain": [
       "movieId  1       2       3       4       5       6       7       8       \\\n",
       "userId                                                                    \n",
       "1           5.0     3.0     0.0     0.0     0.0     0.0     0.0     0.0   \n",
       "2           3.0     3.0     0.0     0.0     0.0     0.0     0.0     0.0   \n",
       "3           0.0     0.0     0.0     0.0     0.0     0.0     0.0     0.0   \n",
       "4           0.0     0.0     0.0     0.0     0.0     0.0     0.0     0.0   \n",
       "5           4.0     0.0     0.0     0.0     3.0     4.0     0.0     0.0   \n",
       "\n",
       "movieId  9       10       ...    132796  133419  133545  133897  134170  \\\n",
       "userId                    ...                                             \n",
       "1           0.0     3.0   ...       0.0     0.0     0.0     0.0     0.0   \n",
       "2           0.0     0.0   ...       0.0     0.0     0.0     0.0     0.0   \n",
       "3           0.0     0.0   ...       0.0     0.0     0.0     0.0     0.0   \n",
       "4           0.0     0.0   ...       0.0     0.0     0.0     0.0     0.0   \n",
       "5           0.0     0.0   ...       0.0     0.0     0.0     0.0     0.0   \n",
       "\n",
       "movieId  134368  134393  134783  134853  135887  \n",
       "userId                                           \n",
       "1           0.0     0.0     0.0     0.0     0.0  \n",
       "2           0.0     0.0     0.0     0.0     0.0  \n",
       "3           0.0     0.0     0.0     0.0     0.0  \n",
       "4           0.0     0.0     0.0     0.0     0.0  \n",
       "5           0.0     0.0     0.0     0.0     0.0  \n",
       "\n",
       "[5 rows x 8915 columns]"
      ]
     },
     "execution_count": 474,
     "metadata": {},
     "output_type": "execute_result"
    }
   ],
   "source": [
    "# creating our rating matrix\n",
    "M = ratings.pivot(index = \"userId\", columns = \"movieId\", values = \"rating\").fillna(0)\n",
    "movie_Ids_columns = M.columns\n",
    "M.head()"
   ]
  },
  {
   "cell_type": "code",
   "execution_count": 475,
   "metadata": {},
   "outputs": [
    {
     "name": "stdout",
     "output_type": "stream",
     "text": [
      "Number of lines (i.e total number of users) in the matrix M : 718\n",
      "Number of columns (i.e total number of movies) in the matrix M : 8915\n"
     ]
    }
   ],
   "source": [
    "M = np.array(M)\n",
    "\n",
    "print('Number of lines (i.e total number of users) in the matrix M : '+str(M.shape[0]))\n",
    "print('Number of columns (i.e total number of movies) in the matrix M : '+str(M.shape[1]))"
   ]
  },
  {
   "cell_type": "markdown",
   "metadata": {},
   "source": [
    "In this example, zero values correspond to unknown ratings : it is not possible to provide a note smaller than 0.5. The rating range between 0.5 and 5.0. "
   ]
  },
  {
   "cell_type": "code",
   "execution_count": 243,
   "metadata": {},
   "outputs": [
    {
     "name": "stdout",
     "output_type": "stream",
     "text": [
      "The initial sparsity percentage of the M matrix is: 98.43408108458563\n",
      "The new matrix M shape is: (718,8915)\n",
      "The new matrix M shape is: (718,8915)\n",
      "The new sparsity percentage of the M matrix is: 98.43408108458563\n"
     ]
    }
   ],
   "source": [
    "# print M sparsity percentage\n",
    "print('The initial sparsity percentage of the M matrix is: '+str(sum(sum(M==0))/(M.shape[0]*M.shape[1])*100))\n",
    "\n",
    "# Delete all movies for which we do not have any data and therefore which we would not be able to recommend\n",
    "valid_movies = (M!=0).sum(axis=0) > 0 # we collect all movie indexes corresponding to movies rated at least once \n",
    "M = M[:,valid_movies]\n",
    "print('The new matrix M shape is: ('+str(M.shape[0])+','+str(M.shape[1])+')')\n",
    "\n",
    "# Exercice delete all users for who we do not have any data and therefore who will not be able to use the recommending service\n",
    "valid_users = (M!=0).sum(axis=1)>0 \n",
    "M = M[valid_users,:]        \n",
    "print('The new matrix M shape is: ('+str(M.shape[0])+','+str(M.shape[1])+')')\n",
    "\n",
    "print('The new sparsity percentage of the M matrix is: '+str(sum(sum(M==0))/(M.shape[0]*M.shape[1])*100))"
   ]
  },
  {
   "cell_type": "code",
   "execution_count": 503,
   "metadata": {},
   "outputs": [],
   "source": [
    "# Some basic statistics\n",
    "\n",
    "# average rating given by each user\n",
    "user_means = np.array([M[i,M[i,:]!=0].mean() for i in range(M.shape[0])])\n",
    "\n",
    "# movie average rate \n",
    "movie_means = np.array([M[M[:,i]!=0,i].mean() for i in range(M.shape[1])])\n"
   ]
  },
  {
   "cell_type": "code",
   "execution_count": 504,
   "metadata": {},
   "outputs": [
    {
     "data": {
      "text/plain": [
       "Text(0,0.5,'Count')"
      ]
     },
     "execution_count": 504,
     "metadata": {},
     "output_type": "execute_result"
    },
    {
     "data": {
      "image/png": "[encoded data removed]",
      "text/plain": [
       "<Figure size 432x288 with 1 Axes>"
      ]
     },
     "metadata": {},
     "output_type": "display_data"
    }
   ],
   "source": [
    "# User means histogram\n",
    "plt.hist(user_means, bins=20)\n",
    "plt.xlabel(\"Mean User Rating\")\n",
    "plt.ylabel(\"Count\")"
   ]
  },
  {
   "cell_type": "code",
   "execution_count": 505,
   "metadata": {},
   "outputs": [
    {
     "data": {
      "text/plain": [
       "Text(0,0.5,'Count')"
      ]
     },
     "execution_count": 505,
     "metadata": {},
     "output_type": "execute_result"
    },
    {
     "data": {
      "image/png": "[encoded data removed]",
      "text/plain": [
       "<Figure size 432x288 with 1 Axes>"
      ]
     },
     "metadata": {},
     "output_type": "display_data"
    }
   ],
   "source": [
    "# Movie means histogram\n",
    "plt.hist(movie_means, bins=20)\n",
    "plt.xlabel(\"Mean Movie Rating\")\n",
    "plt.ylabel(\"Count\")"
   ]
  },
  {
   "cell_type": "code",
   "execution_count": 506,
   "metadata": {},
   "outputs": [
    {
     "data": {
      "text/plain": [
       "Text(0,0.5,'Number of Movies')"
      ]
     },
     "execution_count": 506,
     "metadata": {},
     "output_type": "execute_result"
    },
    {
     "data": {
      "image/png": "[encoded data removed]",
      "text/plain": [
       "<Figure size 432x288 with 1 Axes>"
      ]
     },
     "metadata": {},
     "output_type": "display_data"
    }
   ],
   "source": [
    "# Number of reviews per movie histogram\n",
    "num_reviews = (M!=0).astype(float).sum(axis=0)\n",
    "plt.hist(num_reviews,bins=np.logspace(np.log10(min(num_reviews)),np.log10(max(num_reviews)),10))\n",
    "plt.gca().set_xscale(\"log\")\n",
    "plt.xlabel(\"Number of Reviews\")\n",
    "plt.ylabel(\"Number of Movies\")"
   ]
  },
  {
   "cell_type": "markdown",
   "metadata": {},
   "source": [
    "$\\textbf{Note:}$ Using a first trivial approach, for each user we can already return the best rated movie which has not been watched yet. But let us personalize our recommendations."
   ]
  },
  {
   "cell_type": "markdown",
   "metadata": {},
   "source": [
    "# 3. <a id=\"sec3\"></a> User-user collaborative filtering "
   ]
  },
  {
   "cell_type": "markdown",
   "metadata": {},
   "source": [
    "$\\textbf{History:}$ \n",
    "\n",
    "User-user collaborative filtering also known as k-NN collaborative filtering was the first of the automated CF methods. \n",
    "\n",
    "<img src=\"user_user_approach.png\" width=\"300px\">  \n",
    "\n",
    "** Idea:**\n",
    "- The active user's preference can be predicted using other selected and aggregated users' opinions \n",
    "\n",
    "** Challenges:**\n",
    "\n",
    "The collaborative filtering requires a similarity function $s :  U^{2} \\rightarrow \\mathbb{R}$ which will compute the similarity between two users. One idea is to use correlation coefficients or other similarity measurement coefficients. This solution raises several issues related to low level of available data : How to compute similarities when only a few common data are available ? \n",
    "\n",
    "** Computing predictions:**\n",
    "\n",
    "In order to generate our predictions for a given user $u$ we first need to find a neighborhood $N \\in U$. Then for all unrated items $i$ we need to compute user $u$ predictions. To do so a commonly used method consist in computing the weighted average : \n",
    "\n",
    " <center> $\\widehat{m}_{ui} := \\overline{m_{u}} + \\frac{\\sum_{u_{n} \\in N}s(u,u_{n})*(m_{u_{n},i}-\\overline{m_{u_{n}}})}{\\sum_{u_{n} \\in N}|s(u,u_{n}|}$ \n",
    "\n",
    "with $s(.,.)$ the user similarity function, $N$ user $u$ neighbors, $\\overline{m_{u}}$ the average rate given by user $u$ and $\\widehat{m}_{ui}$ the estimated rating that user $u$ would give for item $i$ \n",
    "\n",
    "** Computing User Similarity:**\n",
    "\n",
    "One critical design decision is to choose the appropriate similarity function.\n",
    "\n",
    "Only the most common functions will be presented:\n",
    "\n",
    "\n",
    "-** Person correlation:** We compute Person's statistical correlation between user's ratings.\n",
    "\n",
    "<center>$s(u,u_{n}):= \\frac{\\sum_{i \\in I_{u} \\cap I_{u_{n}}}(m_{ui} - \\overline{m_{u}})(m_{u_{n}i} - \\overline{m_{u_{n}}})}{\\sqrt{\\sum_{i \\in I_{u} \\cap I_{u_{n}}}(m_{ui} - \\overline{m_{u}})^{2}}\\sqrt{\\sum_{i \\in I_{u} \\cap I_{u_{n}}}(m_{u_{n}i} - \\overline{m_{u_{n}}})^{2}}}$\n",
    "\n",
    "In order to improve our similarity accuracy we can define a value number threshold under which the similarity function will not computed. Indeed in a two common values case the Person's correlation will exactly be either -1 or 1. In addition it is also possible to scale the similarity when the number of co-rated items falls below a defined threshold. To do so we simply multiply the similarity function by min{$\\frac{|I_{u}\\cap I_{u_{n}}|}{Threshold}$,1}.\n",
    "\n",
    "\n",
    "-** Constrained Person correlation:** We compute a constrained Person's correlation between user's ratings.\n",
    "\n",
    "Historically introduced by the singer Ringo who solicited ratings from its users on a 7-point scale : 1 hate, 7 love and 4 corresponds to a neutral value noted $m_{n}$ $\\textit{i.e}$ the user neither like nor dislike. It is then possible to correlate absolute like/dislike rather than relative deviation as for the standard Person's correlation coefficient. \n",
    "\n",
    "<center> $s(u,u_{n}):= \\frac{\\sum_{i \\in I_{u} \\cap I_{u_{n}}}(m_{ui} - m_{n})(m_{u_{n}i} - m_{n})}{\\sqrt{\\sum_{i\\in I_{u} \\cap I_{u_{n}}(m_{ui} - m_{n})^{2}}}\\sqrt{\\sum_{i\\in I_{u} \\cap I_{u_{n}}(m_{u_{n}i} - m_{n})^{2}}}}$\n",
    "    \n",
    "    \n",
    "-** Spearman rank correlation:** Computing Spearman's correlation. \n",
    "\n",
    "Same principle as for Person's correlation : we just use Spearman's rank correlation instead of Person's coefficient (by definition the Spearman coefficient is defined as the Person coefficient applied to rank variables).\n",
    "\n",
    "<center> $s(u,u_{n}):= 1 - \\frac{6\\sum d_{u u_{n}i}^{2}}{n(n^{2}-1)}$ \n",
    "    \n",
    "with $n := |I_{u}\\cap I_{u_{n}}|$ and $d_{i}:= rank(m_{ui}) - rank(m_{u_{n}i})$\n",
    "    \n",
    "    \n",
    "-** Cosine similarity:**  Computing cosine similarity. \n",
    "\n",
    "We now use a linear algebra based approach instead of a statistical approach : Users are represented as $|I|$-dimensional vectors and the similarity is measured by the cosine distance between two rating vectors.\n",
    "\n",
    "<center>$s(u,u_{n}):= \\frac{m_{u}.m_{u_{n}}}{||m_{u}||_{2}||m_{u_{n}}||_{2}} = \\frac{\\sum_{i}m_{ui}m_{u_{n}i}}{\\sqrt{\\sum_{i}m_{ui}^{2}}\\sqrt{\\sum_{i}m_{u_{n}i}^{2}}}$"
   ]
  },
  {
   "cell_type": "markdown",
   "metadata": {},
   "source": [
    "<div class=\"alert alert-warning\">**Exercice**<br>\n",
    "Can you predict user rates ?\n",
    "\n",
    "Given data :\n",
    "<ul>\n",
    "<li> Rating matrix : $M$\n",
    "<li> User means : user_means\n",
    "<li> Similarity matrix : $S$\n",
    "<li> UserId : $u$\n",
    "</ul>"
   ]
  },
  {
   "cell_type": "code",
   "execution_count": null,
   "metadata": {},
   "outputs": [],
   "source": [
    "# %load solutions/code1.py\n",
    "### WRITE YOUR CODE HERE\n",
    "# If you get stuck, uncomment the line above to load a correction in this cell (then you can execute this code)."
   ]
  },
  {
   "cell_type": "markdown",
   "metadata": {},
   "source": [
    "<div class=\"alert alert-warning\">**Exercice**<br>\n",
    "Can you generate the similarity matrix using the desired method (Person/Spearman correlations or Cosine similarity)?\n",
    "\n",
    "Given data :\n",
    "<ul>\n",
    "<li> Rating matrix : $M$\n",
    "<li> User means : user_means\n",
    "<li> Common threshold : $common\\_items\\_threshold$ \n",
    "</ul>"
   ]
  },
  {
   "cell_type": "code",
   "execution_count": 252,
   "metadata": {},
   "outputs": [],
   "source": [
    "# %load solutions/code2.py\n",
    "### WRITE YOUR CODE HERE\n",
    "# If you get stuck, uncomment the line above to load a correction in this cell (then you can execute this code)."
   ]
  },
  {
   "cell_type": "markdown",
   "metadata": {},
   "source": [
    "<div class=\"alert alert-warning\">**Exercice**<br>\n",
    "Can you generate user 4 top 10 recommendations ?\n",
    "\n",
    "Given data :\n",
    "<ul>\n",
    "<li> Rating matrix : $M$\n",
    "<li> User means : user_means\n",
    "<li> Similarity matrix : $S$ - compute it using your desired method $\\textit{e.g}$ cosine similarity\n",
    "</ul>"
   ]
  },
  {
   "cell_type": "code",
   "execution_count": 273,
   "metadata": {},
   "outputs": [],
   "source": [
    "# %load solutions/code3.py\n",
    "### WRITE YOUR CODE HERE\n",
    "# If you get stuck, uncomment the line above to load a correction in this cell (then you can execute this code)."
   ]
  },
  {
   "cell_type": "markdown",
   "metadata": {},
   "source": [
    "# 4. <a id=\"sec4\"></a> Item-Item collaborative filtering "
   ]
  },
  {
   "cell_type": "markdown",
   "metadata": {},
   "source": [
    "<img src=\"item_item_approach.png\" width=\"300px\">  \n",
    "\n",
    "** Idea:**\n",
    "- If one user has liked an item he/she will probably appreciate similar items.\n",
    "\n",
    "\n",
    "** Computing neighborhood:**\n",
    "In order to estimate user $u$ rating for item $i$, we use all other user $u$ ratings weighted by the similarity between the two items. Thus the recommender system remains unchanged excepted for the similarities which are now calculated using an item similarity function.\n",
    "\n",
    " <center> $\\widehat{m}_{ui} := \\overline{m_{i}} + \\frac{\\sum_{i_{n} \\in N}s(i,i_{n})*(m_{ui_{n}}-\\overline{m_{i_{n}}})}{\\sum_{i_{n} \\in N}|s(i,i_{n}|}$ \n",
    "\n",
    "with $s(.,.)$ the item similarity function, $\\overline{m_{i}}$ the average rate given for item $i$ and $\\widehat{m}_{ui}$ the estimated rating that user $u$ would give for item $i$ "
   ]
  },
  {
   "cell_type": "markdown",
   "metadata": {},
   "source": [
    "<div class=\"alert alert-warning\">**Exercice**<br>\n",
    "Can you predict movie rates?\n",
    "\n",
    "Given data :\n",
    "<ul>\n",
    "<li> Rating matrix : $M$\n",
    "<li> Movie means : item_means\n",
    "<li> Similarity matrix : $S$\n",
    "<li> MovieId : $i$\n",
    "</ul>"
   ]
  },
  {
   "cell_type": "code",
   "execution_count": null,
   "metadata": {},
   "outputs": [],
   "source": [
    "# %load solutions/code4.py\n",
    "### WRITE YOUR CODE HERE\n",
    "# If you get stuck, uncomment the line above to load a correction in this cell (then you can execute this code)."
   ]
  },
  {
   "cell_type": "markdown",
   "metadata": {},
   "source": [
    "<div class=\"alert alert-warning\">**Test**<br>\n",
    "Generate item 10 rate predictions\n",
    "\n",
    "Given data :\n",
    "<ul>\n",
    "<li> Rating matrix : $M$\n",
    "<li> Movie means : movie_means\n",
    "<li> Similarity matrix : $S$ - compute it using your desired method $\\textit{e.g}$ cosine similarity\n",
    "</ul>"
   ]
  },
  {
   "cell_type": "code",
   "execution_count": null,
   "metadata": {},
   "outputs": [],
   "source": [
    "# %load solutions/code5.py\n",
    "### WRITE YOUR CODE HERE\n",
    "# If you get stuck, uncomment the line above to load a correction in this cell (then you can execute this code)."
   ]
  },
  {
   "cell_type": "markdown",
   "metadata": {},
   "source": [
    "<div class=\"alert alert-warning\">**Question**<br>\n",
    "How would you realize user 4 top 10 recommendations ? "
   ]
  },
  {
   "cell_type": "markdown",
   "metadata": {},
   "source": [
    "<div class=\"alert alert-danger\"><a href=\"#answer2\" data-toggle=\"collapse\">**Ready to see the answer? (click to expand)**</a><br>\n",
    "<div id=\"answer2\" class=\"collapse\">\n",
    "To get a list of a user predictions, we need to iterate over all items $\\textit{i.e}$ for the entire rating matrix $M$.\n",
    "</div>\n",
    "</div>"
   ]
  },
  {
   "cell_type": "markdown",
   "metadata": {},
   "source": [
    "<div class=\"alert alert-warning\">**Optional**<br>\n",
    "Generate user 4 top 10 recommendations"
   ]
  },
  {
   "cell_type": "code",
   "execution_count": 471,
   "metadata": {},
   "outputs": [],
   "source": [
    "# %load solutions/code6.py\n",
    "### WRITE YOUR CODE HERE\n",
    "# If you get stuck, uncomment the line above to load a correction in this cell (then you can execute this code)."
   ]
  },
  {
   "cell_type": "markdown",
   "metadata": {},
   "source": [
    "** Conclusion:**\n",
    "\n",
    "The recommendations are slightly differents. It would be interesting to know which one works varying the similarity function. For both approaches we do not scale particularly well massive datasets because of the rating matrix sparsity (computing time increases heavily $\\textit{cf.}$ item-item approach for which we had to realize all possible predictions). In addition when we match to sparse low-level details we assume that the user's preference is well represented which may be false (if one user has listened a dozen of Eminem songs and another has listened a dozen different ones they will have nothing in common even if it seems pretty obvious they share preferences). Finally neighbors are not independent at all, so using a standard similarity metric to define a weighted mean overcounts information $\\textit{e.g}$ if both users have watched Harry Potter movies we will count 8 times the same information. "
   ]
  },
  {
   "cell_type": "markdown",
   "metadata": {},
   "source": [
    "# 5. <a id=\"sec5\"></a> Matrix factorization collaborative filtering (Singular Value Decomposition)"
   ]
  },
  {
   "cell_type": "markdown",
   "metadata": {},
   "source": [
    "**How can we resolve previous challenges ?** \n",
    "\n",
    "One solution is to derive users' tastes and preferences directly from the data. By using the Matrix factorization collaborative filtering which fits better into the machine learning framework and does not rely on the idea of \"nearness\" we will \"learn\" users' tastes. \n",
    "\n",
    "** Idea:**\n",
    "-  \n",
    "Matrix factorization is the breaking down of one matrix in a product of multiple matrices. The goal is to learn the  users' preferences and items' attributes from known ratings in order to predict all missing ratings. In orther words we want to find a smaller number of dimensions, ideally a constant number so that items and users can be represented by $k$-dimensional vectors.\n",
    "\n",
    "**Advantages:**\n",
    "\n",
    "By doing a matrix factorization we rebuild our rating matrix in a lower-rank one which saves memory space(In general rating matrices are large sparse matrices). In addition in this case we will be able to generate recommendations for new users who have not rated any movie.\n",
    "\n",
    "**Singular Value Decomposition example:**\n",
    "\n",
    "To start with the easiest matrix factorization may be singular value decomposition - SVD : it decomposes a matrix $M$ into the best lower rank approximation matrix. \n",
    "\n",
    "<center> $ M = U \\Sigma T^{T}$\n",
    "    \n",
    "with $U$ and $T^{T}$ othogonal matrices and $\\Sigma$ the singular value matrix. $\\Sigma$ represents the movie features matrix, U represents the user feature preferences and $T^{T}$ the movie feature relevancies. \n",
    "\n",
    "<img src=\"fig2.png\" width=\"300px\">  \n",
    "\n",
    "\n",
    "**Dimension reduction:**\n",
    "\n",
    "In order to reduce the approximation rank, we want to keep only the top features which underly users' tastes and preferences. In pratice one way to do so is to select a reasonable number of features that will be used and then to minimize the Root-mean-square error RMSE. That's equivalent of resolving a classical optimization algorithms finding the best lower approximation possible.\n",
    "\n",
    "With SVD decomposition we just have to choose the desired number of features $k$ and it gives directly the corresponding decomposition. Indeed first we realize a non-reduced SVD decomposition (possible for all matrices) and then select the $k$ highest singular values and dump the others. \n",
    "\n",
    "**Computing predictions:**\n",
    "\n",
    "Once the SVD reduction is computed the predicted preference or rating of user $u$ for movie/item $i$ can be computed as the dot product of the user interest vector $\\textbf{u}$ and the movie/topic relevance vector $t$:\n",
    "\n",
    "<center> $\\widehat{m_{ui}} = \\sum_{f}u_{f}d_{f}t_{f}$\n",
    "\n",
    "$d_{f}$ represents the movie feature importances obtained thanks the singular value $D$. Indeed with a SVD decomposition we generate our predictions using a weighted dot product.\n",
    "\n",
    "$\\textit{Remark:}$ The matrix factorization for collaborative filtering is quite close from the Principal component analysis decomposition (PCA) used in unsupervized learning. In both case we want to find a matrix low-rank approximation. However while with PCA we try to find an approximation that matches all $M$ entries with matrix factorization for CF we only consider observed entry losses. "
   ]
  },
  {
   "cell_type": "markdown",
   "metadata": {},
   "source": [
    "<div class=\"alert alert-warning\">**Question**<br>\n",
    "Generate all predicted rating using SVD matrix factorization\n",
    "\n",
    "$\\textbf{Help:}$ see svds notice"
   ]
  },
  {
   "cell_type": "code",
   "execution_count": 580,
   "metadata": {},
   "outputs": [],
   "source": [
    "# %load solutions/code7.py\n",
    "### WRITE YOUR CODE HERE\n",
    "# If you get stuck, uncomment the line above to load a correction in this cell (then you can execute this code)."
   ]
  },
  {
   "cell_type": "code",
   "execution_count": 570,
   "metadata": {},
   "outputs": [],
   "source": [
    "def recommend_movies(predictions_df, userID, movies_df, original_ratings_df, num_recommendations=5):\n",
    "    # Get and sort the user's predictions\n",
    "    user_row_number = userID - 1 # UserID starts at 1, not 0\n",
    "    sorted_user_predictions = predictions_df[user_row_number].sort_values(ascending=False) # UserID starts at 1\n",
    "    # Get the user's data and merge in the movie information.\n",
    "    user_data = original_ratings_df[original_ratings_df.userId == (userID)]\n",
    "    user_full = (user_data.merge(movies_df, how = 'left', left_on = 'movieId', right_on = 'movieId').\n",
    "                     sort_values(['rating'], ascending=False))\n",
    "    # Recommend the highest predicted rating movies that the user hasn't seen yet.\n",
    "    temp = pd.DataFrame(sorted_user_predictions).reset_index()\n",
    "    temp.columns = ['movieId','rating']\n",
    "    recommendations = (movies_df[~movies_df['movieId'].isin(user_full['movieId'])].\n",
    "         merge(temp, how = 'left',left_on = 'movieId',right_on = 'movieId').rename(columns = {user_row_number: 'predictions'}).\n",
    "         sort_values('rating', ascending = False).iloc[:num_recommendations, :-1])\n",
    "    print('User '+str(userID)+' has already rated '+ str(user_full.shape[0]) +' movies')\n",
    "    print('Recommending highest '+str(num_recommendations) + ' predicted ratings movies not already rated :')\n",
    "    return user_full, recommendations"
   ]
  },
  {
   "cell_type": "code",
   "execution_count": 574,
   "metadata": {},
   "outputs": [
    {
     "name": "stdout",
     "output_type": "stream",
     "text": [
      "User 4 has already rated 24 movies\n",
      "Recommending highest 10 predicted ratings movies not already rated :\n"
     ]
    },
    {
     "data": {
      "text/html": [
       "<div>\n",
       "<style scoped>\n",
       "    .dataframe tbody tr th:only-of-type {\n",
       "        vertical-align: middle;\n",
       "    }\n",
       "\n",
       "    .dataframe tbody tr th {\n",
       "        vertical-align: top;\n",
       "    }\n",
       "\n",
       "    .dataframe thead th {\n",
       "        text-align: right;\n",
       "    }\n",
       "</style>\n",
       "<table border=\"1\" class=\"dataframe\">\n",
       "  <thead>\n",
       "    <tr style=\"text-align: right;\">\n",
       "      <th></th>\n",
       "      <th>movieId</th>\n",
       "      <th>title</th>\n",
       "      <th>genres</th>\n",
       "    </tr>\n",
       "  </thead>\n",
       "  <tbody>\n",
       "    <tr>\n",
       "      <th>54</th>\n",
       "      <td>61</td>\n",
       "      <td>Eye for an Eye (1996)</td>\n",
       "      <td>Drama|Thriller</td>\n",
       "    </tr>\n",
       "    <tr>\n",
       "      <th>397</th>\n",
       "      <td>454</td>\n",
       "      <td>Firm  The (1993)</td>\n",
       "      <td>Drama|Thriller</td>\n",
       "    </tr>\n",
       "    <tr>\n",
       "      <th>381</th>\n",
       "      <td>437</td>\n",
       "      <td>Cops and Robbersons (1994)</td>\n",
       "      <td>Comedy</td>\n",
       "    </tr>\n",
       "    <tr>\n",
       "      <th>90</th>\n",
       "      <td>102</td>\n",
       "      <td>Mr. Wrong (1996)</td>\n",
       "      <td>Comedy</td>\n",
       "    </tr>\n",
       "    <tr>\n",
       "      <th>159</th>\n",
       "      <td>185</td>\n",
       "      <td>Net  The (1995)</td>\n",
       "      <td>Action|Crime|Thriller</td>\n",
       "    </tr>\n",
       "    <tr>\n",
       "      <th>214</th>\n",
       "      <td>246</td>\n",
       "      <td>Hoop Dreams (1994)</td>\n",
       "      <td>Documentary</td>\n",
       "    </tr>\n",
       "    <tr>\n",
       "      <th>113</th>\n",
       "      <td>129</td>\n",
       "      <td>Pie in the Sky (1996)</td>\n",
       "      <td>Comedy|Romance</td>\n",
       "    </tr>\n",
       "    <tr>\n",
       "      <th>162</th>\n",
       "      <td>188</td>\n",
       "      <td>Prophecy  The (1995)</td>\n",
       "      <td>Fantasy|Horror|Mystery</td>\n",
       "    </tr>\n",
       "    <tr>\n",
       "      <th>107</th>\n",
       "      <td>122</td>\n",
       "      <td>Boomerang (1992)</td>\n",
       "      <td>Comedy|Romance</td>\n",
       "    </tr>\n",
       "    <tr>\n",
       "      <th>64</th>\n",
       "      <td>71</td>\n",
       "      <td>Fair Game (1995)</td>\n",
       "      <td>Action</td>\n",
       "    </tr>\n",
       "  </tbody>\n",
       "</table>\n",
       "</div>"
      ],
      "text/plain": [
       "     movieId                       title                  genres\n",
       "54        61       Eye for an Eye (1996)          Drama|Thriller\n",
       "397      454            Firm  The (1993)          Drama|Thriller\n",
       "381      437  Cops and Robbersons (1994)                  Comedy\n",
       "90       102            Mr. Wrong (1996)                  Comedy\n",
       "159      185             Net  The (1995)   Action|Crime|Thriller\n",
       "214      246          Hoop Dreams (1994)             Documentary\n",
       "113      129       Pie in the Sky (1996)          Comedy|Romance\n",
       "162      188        Prophecy  The (1995)  Fantasy|Horror|Mystery\n",
       "107      122            Boomerang (1992)          Comedy|Romance\n",
       "64        71            Fair Game (1995)                  Action"
      ]
     },
     "execution_count": 574,
     "metadata": {},
     "output_type": "execute_result"
    }
   ],
   "source": [
    "# Generate user 4  top 10 recommendations\n",
    "already_rated,recommendations = recommend_movies(preds,4,movies,ratings,10)\n",
    "recommendations"
   ]
  },
  {
   "cell_type": "markdown",
   "metadata": {},
   "source": [
    "**Non-Negative Matrix Factorization example**\n",
    "\n",
    "Another MF commonly used is the non-negative matrix factorization : we approximate the non negative rating matrix M as a product of two non negative lower rank matrices. \n",
    "\n",
    "$\\textit{Remark:} We can assume M is positive with no loss of generality as the rating scale can be defined in order not to have negative rates.\n",
    "\n",
    "<center> $M = UT^{T}$\n",
    "    \n",
    "The $U$ & $T^{T}$ matrices' interpretentation remain unchanged : U represents the user feature preferences and T the movie feature relevancies.\n",
    "\n",
    "<img src=\"fig3.png\" width=\"400px\"> \n",
    "\n",
    "**Dimension reduction:**\n",
    "\n",
    "As explained previously, in order to reduce the matrix dimensions we choose a desired number of features $k$ and then minimize the squared loss function\n",
    "\n",
    "<center> $minimize_{u_{1:m},t_{1:n}} \\sum_{ui \\in S} (u_{u}t^{T}_{i} - M_{ui})^{2}$\n",
    "\n",
    "To solve this optimization problem, a common practice is to use the $\\textit{alternating least squares algorithm}$ or $\\textit{gradient descent algorithm}$. \n",
    "\n",
    "$\\textit{Remark:}$ \n",
    "If we do not want to define a number of features $k$ we can minimize a slightly modified loss function : \n",
    "<center> $minimize_{u_{1:m},t_{1:n}} \\sum_{ui \\in S} (u_{u}t^{T}_{i} - M_{ui})^{2} + \\lambda (||u_{u}||_{1} + ||t_{i}||_{1})$\n",
    "\n",
    "$\\lambda (||u_{u}||_{1} + ||t_{i}||_{1})$ represents the regularization term. As we have seen during the unsupervized learning courses the convex hull of the counting function is exactly the $||.||_{1}$ norm. \n",
    "\n",
    "** Computing predictions:**\n",
    "\n",
    "The prediction $\\widehat{mui}$ is once more given by :\n",
    "\n",
    "<center>  $\\widehat{m_{ui}}= u_{u}t_{i}^{T}$\n",
    "    \n",
    "\n"
   ]
  },
  {
   "cell_type": "markdown",
   "metadata": {},
   "source": [
    "<div class=\"alert alert-warning\">**Question**<br>\n",
    "- Generate all predicted rating using Non-Negative Matrix Factorization (NMF)\n",
    "- Generate user 4  top 10 recommendations\n",
    "\n",
    "\n",
    "$\\textbf{Help:}$ see NMF notice"
   ]
  },
  {
   "cell_type": "code",
   "execution_count": 575,
   "metadata": {},
   "outputs": [],
   "source": [
    "from sklearn.decomposition import NMF\n",
    "\n",
    "# %load solutions/code8.py\n",
    "### WRITE YOUR CODE HERE\n",
    "# If you get stuck, uncomment the line above to load a correction in this cell (then you can execute this code)."
   ]
  },
  {
   "cell_type": "code",
   "execution_count": null,
   "metadata": {},
   "outputs": [],
   "source": []
  }
 ],
 "metadata": {
  "kernelspec": {
   "display_name": "Python 3",
   "language": "python",
   "name": "python3"
  },
  "language_info": {
   "codemirror_mode": {
    "name": "ipython",
    "version": 3
   },
   "file_extension": ".py",
   "mimetype": "text/x-python",
   "name": "python",
   "nbconvert_exporter": "python",
   "pygments_lexer": "ipython3",
   "version": "3.6.5"
  }
 },
 "nbformat": 4,
 "nbformat_minor": 2
}
