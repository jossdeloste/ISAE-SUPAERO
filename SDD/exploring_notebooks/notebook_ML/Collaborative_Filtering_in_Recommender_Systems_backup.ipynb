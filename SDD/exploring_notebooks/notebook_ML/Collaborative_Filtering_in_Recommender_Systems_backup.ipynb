{
 "cells": [
  {
   "cell_type": "markdown",
   "metadata": {},
   "source": [
    "This notebook was created by Josselin Deloste."
   ]
  },
  {
   "cell_type": "markdown",
   "metadata": {},
   "source": [
    "<div style=\"font-size:22pt; line-height:25pt; font-weight:bold; text-align:center;\">Collaborative Filtering in Recommender Systems</div>\n",
    "\n",
    "This notebook aims to explain and experiment how collaborative filtering are used in recommender systems through easy examples.\n",
    "\n",
    "1. [Recommender systems](#sec1)\n",
    "2. [Item based collaborative filtering](#sec2)\n",
    "3. [User based collaborative filtering](#sec3)\n"
   ]
  },
  {
   "cell_type": "markdown",
   "metadata": {},
   "source": [
    "# 1. <a id=\"sec2\"></a>Recommander Systems\n",
    "\n",
    "Recommender systems are omnipresent in most of your everyday consulted websites. Indeed you all have been recommanded either a movie to watch (on Netflix, Amazon prime), a song to listen (on Deezer or Spotify), an item to buy (Ebay, Amazon), a person to follow (Instagram, Facebook, Twitter). All of these approaches are the results of recommander systems.\n",
    "\n",
    "Recommender systems have obvious applications\n",
    "\n",
    "\n",
    "\n",
    "**Idea:**\n",
    "\n",
    "<img src=\"fig1.jpg\" width=\"600px\">  \n",
    "Word-of-mouth has always been one of the most powerful marketing tool ! Have you liked something recently ? It is highly likely that your best friend will appreciate it too or that you would like a similar product !\n",
    "\n",
    "\n",
    "**Some notations:**\n",
    "- $b_{u,i}$ : baseline prediction for user $u$ and item $i$\n",
    "- $r_{u,i}$ : rating score gave by user $u$ for item $i$\n",
    "- $\\mu$ : overall average rating\n",
    "- $\\overline{\\mu_{u}}$ : average rating by user $u$ \n",
    "- $\\overline{\\mu_{i}}$ : average rating for item $i$\n",
    "- $\\beta_{u}, \\beta_{i}$ : user and item biases"
   ]
  },
  {
   "cell_type": "markdown",
   "metadata": {},
   "source": [
    "Baseline predictors : \n",
    "- $b_{u} := \\frac{1}{\\mid I_{u} \\mid + \\beta_{u}} \\underset{i \\in I_{u}}{\\sum}(r_{u,i} - \\mu)$ : user baseline predictor\n",
    "- $b_{i} := \\frac{1}{\\mid U_{i} \\mid + \\beta_{i}} \\underset{u \\in U_{i}}{\\sum}(r_{u,i} - b_{u} - \\mu)$ : item baseline predictor\n",
    "- $b_{u,i} := \\mu + b_{u} + b_{i}$ : overall baseline predictor"
   ]
  },
  {
   "cell_type": "markdown",
   "metadata": {},
   "source": [
    "Remark : we can first generate predictions using the user's preference and then produce his recommendations by ranking candidate items by predicted preferences. "
   ]
  },
  {
   "cell_type": "markdown",
   "metadata": {},
   "source": [
    "# 3. <a id=\"sec2\"></a> Item-based collaborative filtering "
   ]
  },
  {
   "cell_type": "markdown",
   "metadata": {},
   "source": [
    "** Idea:**\n",
    "- A user who liked a specific item is likely to like a similar item (content-based filtering)"
   ]
  },
  {
   "cell_type": "code",
   "execution_count": 2,
   "metadata": {},
   "outputs": [],
   "source": [
    "import pandas as pd\n",
    "from scipy.spatial.distance import cosine"
   ]
  },
  {
   "cell_type": "code",
   "execution_count": 7,
   "metadata": {},
   "outputs": [
    {
     "name": "stdout",
     "output_type": "stream",
     "text": [
      "       user  a perfect circle  abba  ac/dc  adam green  aerosmith  afi  air  \\\n",
      "0         1                 0     0      0           0          0    0    0   \n",
      "1        33                 0     0      0           1          0    0    0   \n",
      "2        42                 0     0      0           0          0    0    0   \n",
      "3        51                 0     0      0           0          0    0    0   \n",
      "4        62                 0     0      0           0          0    0    0   \n",
      "5        75                 0     0      0           0          0    0    0   \n",
      "6       130                 0     0      0           0          0    0    0   \n",
      "7       141                 0     0      0           0          0    0    0   \n",
      "8       144                 0     0      0           0          0    0    0   \n",
      "9       150                 0     0      0           0          0    0    0   \n",
      "10      205                 0     0      0           0          0    0    0   \n",
      "11      247                 0     0      0           0          0    0    0   \n",
      "12      256                 0     0      0           0          0    0    0   \n",
      "13      299                 0     0      0           0          0    0    0   \n",
      "14      313                 0     0      0           0          0    0    0   \n",
      "15      319                 0     0      0           0          0    0    0   \n",
      "16      336                 0     0      0           0          0    1    0   \n",
      "17      367                 0     0      0           0          0    0    0   \n",
      "18      371                 0     0      0           0          0    0    0   \n",
      "19      383                 0     0      0           0          0    0    0   \n",
      "20      422                 0     0      0           0          0    0    0   \n",
      "21      428                 0     0      1           0          0    0    0   \n",
      "22      438                 0     0      0           0          0    0    0   \n",
      "23      447                 0     0      0           0          0    0    0   \n",
      "24      458                 0     0      0           0          0    0    0   \n",
      "25      472                 0     0      0           0          0    0    0   \n",
      "26      477                 0     0      0           0          0    0    1   \n",
      "27      504                 0     0      0           0          0    0    0   \n",
      "28      508                 0     0      0           0          0    0    0   \n",
      "29      543                 0     0      0           0          0    0    0   \n",
      "...     ...               ...   ...    ...         ...        ...  ...  ...   \n",
      "1227  19207                 0     0      0           0          0    1    0   \n",
      "1228  19213                 0     0      0           0          0    0    0   \n",
      "1229  19227                 0     0      0           0          0    0    0   \n",
      "1230  19236                 1     0      0           0          0    0    0   \n",
      "1231  19262                 0     0      0           0          0    0    0   \n",
      "1232  19278                 0     0      0           0          0    0    0   \n",
      "1233  19329                 0     0      0           0          0    0    0   \n",
      "1234  19359                 0     0      0           0          0    0    0   \n",
      "1235  19384                 0     0      0           0          0    0    0   \n",
      "1236  19398                 0     0      0           0          0    0    0   \n",
      "1237  19439                 0     0      0           0          0    0    1   \n",
      "1238  19441                 0     0      0           0          0    0    0   \n",
      "1239  19470                 0     0      0           0          0    0    0   \n",
      "1240  19472                 0     0      0           0          0    0    0   \n",
      "1241  19474                 0     0      0           0          0    0    0   \n",
      "1242  19499                 0     0      0           0          0    0    0   \n",
      "1243  19501                 0     0      0           0          0    0    0   \n",
      "1244  19515                 0     0      0           0          0    0    1   \n",
      "1245  19521                 0     0      0           1          0    0    1   \n",
      "1246  19565                 0     0      0           1          0    0    0   \n",
      "1247  19581                 0     0      0           0          0    0    0   \n",
      "1248  19596                 0     0      0           0          0    0    0   \n",
      "1249  19623                 0     0      0           0          0    0    0   \n",
      "1250  19629                 1     0      0           0          0    0    0   \n",
      "1251  19637                 0     0      0           0          0    0    0   \n",
      "1252  19639                 0     0      1           1          1    0    0   \n",
      "1253  19642                 0     0      0           0          0    0    0   \n",
      "1254  19662                 0     0      1           0          0    0    0   \n",
      "1255  19672                 0     0      0           0          0    0    0   \n",
      "1256  19695                 0     0      0           1          0    0    0   \n",
      "\n",
      "      alanis morissette  alexisonfire      ...       timbaland  tom waits  \\\n",
      "0                     0             0      ...               0          0   \n",
      "1                     0             0      ...               0          0   \n",
      "2                     0             0      ...               0          0   \n",
      "3                     0             0      ...               0          0   \n",
      "4                     0             0      ...               0          0   \n",
      "5                     0             1      ...               0          0   \n",
      "6                     0             0      ...               0          0   \n",
      "7                     0             0      ...               0          0   \n",
      "8                     0             0      ...               0          0   \n",
      "9                     0             0      ...               0          0   \n",
      "10                    0             0      ...               1          0   \n",
      "11                    0             0      ...               0          0   \n",
      "12                    0             0      ...               0          0   \n",
      "13                    0             0      ...               0          0   \n",
      "14                    0             0      ...               0          0   \n",
      "15                    0             0      ...               0          0   \n",
      "16                    0             0      ...               0          0   \n",
      "17                    0             0      ...               0          0   \n",
      "18                    0             0      ...               0          0   \n",
      "19                    0             0      ...               1          0   \n",
      "20                    0             0      ...               0          0   \n",
      "21                    0             0      ...               0          0   \n",
      "22                    0             0      ...               0          1   \n",
      "23                    0             0      ...               0          0   \n",
      "24                    0             0      ...               0          0   \n",
      "25                    0             0      ...               0          0   \n",
      "26                    0             0      ...               0          0   \n",
      "27                    0             0      ...               0          0   \n",
      "28                    0             0      ...               0          0   \n",
      "29                    0             0      ...               0          0   \n",
      "...                 ...           ...      ...             ...        ...   \n",
      "1227                  0             0      ...               0          0   \n",
      "1228                  0             0      ...               0          0   \n",
      "1229                  0             0      ...               0          0   \n",
      "1230                  0             0      ...               0          1   \n",
      "1231                  0             0      ...               0          0   \n",
      "1232                  0             0      ...               0          0   \n",
      "1233                  0             0      ...               0          1   \n",
      "1234                  0             0      ...               0          0   \n",
      "1235                  0             0      ...               0          0   \n",
      "1236                  0             0      ...               1          0   \n",
      "1237                  0             0      ...               0          1   \n",
      "1238                  0             0      ...               0          0   \n",
      "1239                  0             0      ...               0          0   \n",
      "1240                  0             0      ...               0          0   \n",
      "1241                  0             0      ...               0          0   \n",
      "1242                  0             0      ...               0          0   \n",
      "1243                  0             0      ...               0          0   \n",
      "1244                  0             0      ...               0          0   \n",
      "1245                  0             0      ...               0          0   \n",
      "1246                  0             0      ...               0          0   \n",
      "1247                  0             0      ...               0          0   \n",
      "1248                  0             0      ...               0          0   \n",
      "1249                  0             0      ...               0          0   \n",
      "1250                  0             0      ...               0          0   \n",
      "1251                  0             0      ...               0          0   \n",
      "1252                  0             0      ...               0          0   \n",
      "1253                  0             0      ...               0          0   \n",
      "1254                  0             0      ...               0          0   \n",
      "1255                  0             0      ...               0          0   \n",
      "1256                  0             0      ...               0          1   \n",
      "\n",
      "      tool  tori amos  travis  trivium  u2  underoath  volbeat  yann tiersen  \n",
      "0        0          0       0        0   0          0        0             0  \n",
      "1        0          0       0        0   0          0        0             0  \n",
      "2        0          0       0        0   0          0        0             0  \n",
      "3        0          0       0        0   0          0        0             0  \n",
      "4        0          0       0        0   0          0        0             0  \n",
      "5        0          0       0        0   0          0        0             0  \n",
      "6        0          1       0        0   0          0        0             0  \n",
      "7        0          0       0        1   0          0        0             0  \n",
      "8        0          0       0        0   0          0        0             0  \n",
      "9        0          0       0        0   0          0        0             0  \n",
      "10       0          0       0        0   0          0        0             0  \n",
      "11       0          0       0        0   0          0        0             0  \n",
      "12       0          0       0        0   0          0        0             0  \n",
      "13       0          0       0        1   0          0        0             0  \n",
      "14       0          0       0        0   0          0        0             0  \n",
      "15       0          0       0        0   0          0        0             0  \n",
      "16       0          0       0        0   0          0        0             0  \n",
      "17       0          0       0        0   0          1        0             0  \n",
      "18       0          0       0        0   0          0        0             0  \n",
      "19       0          0       0        0   0          0        0             0  \n",
      "20       0          0       0        0   0          0        0             0  \n",
      "21       0          0       0        0   1          0        1             0  \n",
      "22       0          0       0        0   0          0        0             0  \n",
      "23       1          0       0        0   0          0        1             1  \n",
      "24       0          0       0        0   0          0        0             0  \n",
      "25       0          0       0        0   0          0        0             0  \n",
      "26       0          0       0        0   0          0        0             0  \n",
      "27       0          0       0        0   0          0        0             0  \n",
      "28       0          0       0        0   0          0        0             0  \n",
      "29       0          0       0        0   0          0        0             0  \n",
      "...    ...        ...     ...      ...  ..        ...      ...           ...  \n",
      "1227     0          0       0        0   0          0        0             0  \n",
      "1228     0          0       0        0   0          0        0             0  \n",
      "1229     0          0       0        0   0          0        0             0  \n",
      "1230     1          1       0        0   0          0        0             0  \n",
      "1231     0          0       0        0   0          0        0             1  \n",
      "1232     0          0       0        0   0          0        1             0  \n",
      "1233     0          0       0        0   0          0        0             1  \n",
      "1234     0          0       0        0   0          0        0             0  \n",
      "1235     0          0       0        1   0          0        0             0  \n",
      "1236     0          0       0        0   0          0        0             0  \n",
      "1237     0          0       0        0   0          0        0             0  \n",
      "1238     0          0       0        0   0          0        0             0  \n",
      "1239     0          0       0        0   1          0        0             0  \n",
      "1240     0          0       0        0   0          0        0             0  \n",
      "1241     0          0       0        0   0          0        0             0  \n",
      "1242     0          0       0        0   0          0        0             0  \n",
      "1243     0          0       0        0   0          0        0             0  \n",
      "1244     0          0       0        0   0          0        0             0  \n",
      "1245     1          1       0        0   0          0        0             0  \n",
      "1246     0          0       0        0   0          0        0             1  \n",
      "1247     0          0       0        0   0          0        0             0  \n",
      "1248     0          0       0        0   0          0        0             0  \n",
      "1249     0          0       0        0   0          0        0             0  \n",
      "1250     0          0       0        0   0          0        0             0  \n",
      "1251     0          0       0        0   0          0        0             0  \n",
      "1252     0          0       0        0   0          0        0             0  \n",
      "1253     1          0       0        0   0          0        0             0  \n",
      "1254     0          0       0        0   0          0        0             0  \n",
      "1255     0          0       0        0   0          0        0             0  \n",
      "1256     0          0       0        0   0          0        0             0  \n",
      "\n",
      "[1257 rows x 286 columns]\n"
     ]
    }
   ],
   "source": [
    "data = pd.read_csv('./Divers/data.csv')\n",
    "\n",
    "print(data)"
   ]
  },
  {
   "cell_type": "code",
   "execution_count": 6,
   "metadata": {},
   "outputs": [
    {
     "name": "stdout",
     "output_type": "stream",
     "text": [
      "(100234, 4)\n",
      "   userId  movieId  rating  timestamp\n",
      "0       1        1     5.0  847117005\n",
      "1       1        2     3.0  847642142\n",
      "2       1       10     3.0  847641896\n",
      "3       1       32     4.0  847642008\n",
      "4       1       34     4.0  847641956\n"
     ]
    },
    {
     "data": {
      "text/plain": [
       "718"
      ]
     },
     "execution_count": 6,
     "metadata": {},
     "output_type": "execute_result"
    }
   ],
   "source": [
    "ratings = pd.read_csv('./Movies_data/ratings.csv')\n",
    "\n",
    "print(ratings.shape)\n",
    "print(ratings.head())\n",
    "max(ratings['userId'])"
   ]
  },
  {
   "cell_type": "code",
   "execution_count": 9,
   "metadata": {},
   "outputs": [
    {
     "ename": "TypeError",
     "evalue": "Index(...) must be called with a collection of some kind, 8927 was passed",
     "output_type": "error",
     "traceback": [
      "\u001b[0;31m---------------------------------------------------------------------------\u001b[0m",
      "\u001b[0;31mTypeError\u001b[0m                                 Traceback (most recent call last)",
      "\u001b[0;32m<ipython-input-9-7b9c0b5e79eb>\u001b[0m in \u001b[0;36m<module>\u001b[0;34m()\u001b[0m\n\u001b[1;32m      1\u001b[0m \u001b[0mmovies_data\u001b[0m \u001b[0;34m=\u001b[0m \u001b[0mratings\u001b[0m\u001b[0;34m.\u001b[0m\u001b[0mdrop\u001b[0m\u001b[0;34m(\u001b[0m\u001b[0;34m\"userId\"\u001b[0m\u001b[0;34m,\u001b[0m\u001b[0;36m1\u001b[0m\u001b[0;34m)\u001b[0m\u001b[0;34m\u001b[0m\u001b[0m\n\u001b[1;32m      2\u001b[0m \u001b[0mmovies_data\u001b[0m \u001b[0;34m=\u001b[0m \u001b[0mmovies_data\u001b[0m\u001b[0;34m.\u001b[0m\u001b[0mdrop\u001b[0m\u001b[0;34m(\u001b[0m\u001b[0;34m\"timestamp\"\u001b[0m\u001b[0;34m,\u001b[0m\u001b[0;36m1\u001b[0m\u001b[0;34m)\u001b[0m\u001b[0;34m\u001b[0m\u001b[0m\n\u001b[0;32m----> 3\u001b[0;31m \u001b[0mmovies_temp\u001b[0m \u001b[0;34m=\u001b[0m \u001b[0mpd\u001b[0m\u001b[0;34m.\u001b[0m\u001b[0mDataFrame\u001b[0m\u001b[0;34m(\u001b[0m\u001b[0mindex\u001b[0m \u001b[0;34m=\u001b[0m \u001b[0mmax\u001b[0m\u001b[0;34m(\u001b[0m\u001b[0mratings\u001b[0m\u001b[0;34m[\u001b[0m\u001b[0;34m'userId'\u001b[0m\u001b[0;34m]\u001b[0m\u001b[0;34m)\u001b[0m\u001b[0;34m,\u001b[0m \u001b[0mcolumns\u001b[0m \u001b[0;34m=\u001b[0m \u001b[0mmovies\u001b[0m\u001b[0;34m.\u001b[0m\u001b[0mshape\u001b[0m\u001b[0;34m[\u001b[0m\u001b[0;36m0\u001b[0m\u001b[0;34m]\u001b[0m\u001b[0;34m)\u001b[0m\u001b[0;34m\u001b[0m\u001b[0m\n\u001b[0m\u001b[1;32m      4\u001b[0m \u001b[0;34m\u001b[0m\u001b[0m\n\u001b[1;32m      5\u001b[0m \u001b[0mprint\u001b[0m\u001b[0;34m(\u001b[0m\u001b[0mmovies_data\u001b[0m\u001b[0;34m.\u001b[0m\u001b[0mshape\u001b[0m\u001b[0;34m)\u001b[0m\u001b[0;34m\u001b[0m\u001b[0m\n",
      "\u001b[0;32m/Volumes/SSD/anaconda3/lib/python3.6/site-packages/pandas/core/frame.py\u001b[0m in \u001b[0;36m__init__\u001b[0;34m(self, data, index, columns, dtype, copy)\u001b[0m\n\u001b[1;32m    346\u001b[0m                                  dtype=dtype, copy=copy)\n\u001b[1;32m    347\u001b[0m         \u001b[0;32melif\u001b[0m \u001b[0misinstance\u001b[0m\u001b[0;34m(\u001b[0m\u001b[0mdata\u001b[0m\u001b[0;34m,\u001b[0m \u001b[0mdict\u001b[0m\u001b[0;34m)\u001b[0m\u001b[0;34m:\u001b[0m\u001b[0;34m\u001b[0m\u001b[0m\n\u001b[0;32m--> 348\u001b[0;31m             \u001b[0mmgr\u001b[0m \u001b[0;34m=\u001b[0m \u001b[0mself\u001b[0m\u001b[0;34m.\u001b[0m\u001b[0m_init_dict\u001b[0m\u001b[0;34m(\u001b[0m\u001b[0mdata\u001b[0m\u001b[0;34m,\u001b[0m \u001b[0mindex\u001b[0m\u001b[0;34m,\u001b[0m \u001b[0mcolumns\u001b[0m\u001b[0;34m,\u001b[0m \u001b[0mdtype\u001b[0m\u001b[0;34m=\u001b[0m\u001b[0mdtype\u001b[0m\u001b[0;34m)\u001b[0m\u001b[0;34m\u001b[0m\u001b[0m\n\u001b[0m\u001b[1;32m    349\u001b[0m         \u001b[0;32melif\u001b[0m \u001b[0misinstance\u001b[0m\u001b[0;34m(\u001b[0m\u001b[0mdata\u001b[0m\u001b[0;34m,\u001b[0m \u001b[0mma\u001b[0m\u001b[0;34m.\u001b[0m\u001b[0mMaskedArray\u001b[0m\u001b[0;34m)\u001b[0m\u001b[0;34m:\u001b[0m\u001b[0;34m\u001b[0m\u001b[0m\n\u001b[1;32m    350\u001b[0m             \u001b[0;32mimport\u001b[0m \u001b[0mnumpy\u001b[0m\u001b[0;34m.\u001b[0m\u001b[0mma\u001b[0m\u001b[0;34m.\u001b[0m\u001b[0mmrecords\u001b[0m \u001b[0;32mas\u001b[0m \u001b[0mmrecords\u001b[0m\u001b[0;34m\u001b[0m\u001b[0m\n",
      "\u001b[0;32m/Volumes/SSD/anaconda3/lib/python3.6/site-packages/pandas/core/frame.py\u001b[0m in \u001b[0;36m_init_dict\u001b[0;34m(self, data, index, columns, dtype)\u001b[0m\n\u001b[1;32m    430\u001b[0m         \"\"\"\n\u001b[1;32m    431\u001b[0m         \u001b[0;32mif\u001b[0m \u001b[0mcolumns\u001b[0m \u001b[0;32mis\u001b[0m \u001b[0;32mnot\u001b[0m \u001b[0;32mNone\u001b[0m\u001b[0;34m:\u001b[0m\u001b[0;34m\u001b[0m\u001b[0m\n\u001b[0;32m--> 432\u001b[0;31m             \u001b[0marrays\u001b[0m \u001b[0;34m=\u001b[0m \u001b[0mSeries\u001b[0m\u001b[0;34m(\u001b[0m\u001b[0mdata\u001b[0m\u001b[0;34m,\u001b[0m \u001b[0mindex\u001b[0m\u001b[0;34m=\u001b[0m\u001b[0mcolumns\u001b[0m\u001b[0;34m,\u001b[0m \u001b[0mdtype\u001b[0m\u001b[0;34m=\u001b[0m\u001b[0mobject\u001b[0m\u001b[0;34m)\u001b[0m\u001b[0;34m\u001b[0m\u001b[0m\n\u001b[0m\u001b[1;32m    433\u001b[0m             \u001b[0mdata_names\u001b[0m \u001b[0;34m=\u001b[0m \u001b[0marrays\u001b[0m\u001b[0;34m.\u001b[0m\u001b[0mindex\u001b[0m\u001b[0;34m\u001b[0m\u001b[0m\n\u001b[1;32m    434\u001b[0m \u001b[0;34m\u001b[0m\u001b[0m\n",
      "\u001b[0;32m/Volumes/SSD/anaconda3/lib/python3.6/site-packages/pandas/core/series.py\u001b[0m in \u001b[0;36m__init__\u001b[0;34m(self, data, index, dtype, name, copy, fastpath)\u001b[0m\n\u001b[1;32m    180\u001b[0m \u001b[0;34m\u001b[0m\u001b[0m\n\u001b[1;32m    181\u001b[0m             \u001b[0;32mif\u001b[0m \u001b[0mindex\u001b[0m \u001b[0;32mis\u001b[0m \u001b[0;32mnot\u001b[0m \u001b[0;32mNone\u001b[0m\u001b[0;34m:\u001b[0m\u001b[0;34m\u001b[0m\u001b[0m\n\u001b[0;32m--> 182\u001b[0;31m                 \u001b[0mindex\u001b[0m \u001b[0;34m=\u001b[0m \u001b[0m_ensure_index\u001b[0m\u001b[0;34m(\u001b[0m\u001b[0mindex\u001b[0m\u001b[0;34m)\u001b[0m\u001b[0;34m\u001b[0m\u001b[0m\n\u001b[0m\u001b[1;32m    183\u001b[0m \u001b[0;34m\u001b[0m\u001b[0m\n\u001b[1;32m    184\u001b[0m             \u001b[0;32mif\u001b[0m \u001b[0mdata\u001b[0m \u001b[0;32mis\u001b[0m \u001b[0;32mNone\u001b[0m\u001b[0;34m:\u001b[0m\u001b[0;34m\u001b[0m\u001b[0m\n",
      "\u001b[0;32m/Volumes/SSD/anaconda3/lib/python3.6/site-packages/pandas/core/indexes/base.py\u001b[0m in \u001b[0;36m_ensure_index\u001b[0;34m(index_like, copy)\u001b[0m\n\u001b[1;32m   4955\u001b[0m             \u001b[0mindex_like\u001b[0m \u001b[0;34m=\u001b[0m \u001b[0mcopy\u001b[0m\u001b[0;34m(\u001b[0m\u001b[0mindex_like\u001b[0m\u001b[0;34m)\u001b[0m\u001b[0;34m\u001b[0m\u001b[0m\n\u001b[1;32m   4956\u001b[0m \u001b[0;34m\u001b[0m\u001b[0m\n\u001b[0;32m-> 4957\u001b[0;31m     \u001b[0;32mreturn\u001b[0m \u001b[0mIndex\u001b[0m\u001b[0;34m(\u001b[0m\u001b[0mindex_like\u001b[0m\u001b[0;34m)\u001b[0m\u001b[0;34m\u001b[0m\u001b[0m\n\u001b[0m\u001b[1;32m   4958\u001b[0m \u001b[0;34m\u001b[0m\u001b[0m\n\u001b[1;32m   4959\u001b[0m \u001b[0;34m\u001b[0m\u001b[0m\n",
      "\u001b[0;32m/Volumes/SSD/anaconda3/lib/python3.6/site-packages/pandas/core/indexes/base.py\u001b[0m in \u001b[0;36m__new__\u001b[0;34m(cls, data, dtype, copy, name, fastpath, tupleize_cols, **kwargs)\u001b[0m\n\u001b[1;32m    423\u001b[0m                          **kwargs)\n\u001b[1;32m    424\u001b[0m         \u001b[0;32melif\u001b[0m \u001b[0mdata\u001b[0m \u001b[0;32mis\u001b[0m \u001b[0;32mNone\u001b[0m \u001b[0;32mor\u001b[0m \u001b[0mis_scalar\u001b[0m\u001b[0;34m(\u001b[0m\u001b[0mdata\u001b[0m\u001b[0;34m)\u001b[0m\u001b[0;34m:\u001b[0m\u001b[0;34m\u001b[0m\u001b[0m\n\u001b[0;32m--> 425\u001b[0;31m             \u001b[0mcls\u001b[0m\u001b[0;34m.\u001b[0m\u001b[0m_scalar_data_error\u001b[0m\u001b[0;34m(\u001b[0m\u001b[0mdata\u001b[0m\u001b[0;34m)\u001b[0m\u001b[0;34m\u001b[0m\u001b[0m\n\u001b[0m\u001b[1;32m    426\u001b[0m         \u001b[0;32melse\u001b[0m\u001b[0;34m:\u001b[0m\u001b[0;34m\u001b[0m\u001b[0m\n\u001b[1;32m    427\u001b[0m             \u001b[0;32mif\u001b[0m \u001b[0mtupleize_cols\u001b[0m \u001b[0;32mand\u001b[0m \u001b[0mis_list_like\u001b[0m\u001b[0;34m(\u001b[0m\u001b[0mdata\u001b[0m\u001b[0;34m)\u001b[0m \u001b[0;32mand\u001b[0m \u001b[0mdata\u001b[0m\u001b[0;34m:\u001b[0m\u001b[0;34m\u001b[0m\u001b[0m\n",
      "\u001b[0;32m/Volumes/SSD/anaconda3/lib/python3.6/site-packages/pandas/core/indexes/base.py\u001b[0m in \u001b[0;36m_scalar_data_error\u001b[0;34m(cls, data)\u001b[0m\n\u001b[1;32m    881\u001b[0m         raise TypeError('{0}(...) must be called with a collection of some '\n\u001b[1;32m    882\u001b[0m                         'kind, {1} was passed'.format(cls.__name__,\n\u001b[0;32m--> 883\u001b[0;31m                                                       repr(data)))\n\u001b[0m\u001b[1;32m    884\u001b[0m \u001b[0;34m\u001b[0m\u001b[0m\n\u001b[1;32m    885\u001b[0m     \u001b[0;34m@\u001b[0m\u001b[0mclassmethod\u001b[0m\u001b[0;34m\u001b[0m\u001b[0m\n",
      "\u001b[0;31mTypeError\u001b[0m: Index(...) must be called with a collection of some kind, 8927 was passed"
     ]
    }
   ],
   "source": [
    "movies_data = ratings.drop(\"userId\",1)\n",
    "movies_data = movies_data.drop(\"timestamp\",1)\n",
    "movies_temp = pd.DataFrame( index = max(ratings['userId']), columns = movies.shape[0])\n",
    "\n",
    "print(movies_data.shape)\n",
    "print(movies_data.head())"
   ]
  },
  {
   "cell_type": "code",
   "execution_count": 12,
   "metadata": {},
   "outputs": [],
   "source": [
    "item_data = data.drop('user',1)"
   ]
  },
  {
   "cell_type": "code",
   "execution_count": 13,
   "metadata": {},
   "outputs": [],
   "source": [
    "data_bis = pd.DataFrame(index=item_data.columns,columns=item_data.columns)\n",
    "for i in range(0,len(data_bis.columns)) :\n",
    "    # Loop through the columns for each column\n",
    "    for j in range(0,len(data_bis.columns)) :\n",
    "      # Fill in placeholder with cosine similarities\n",
    "      data_bis.iloc[i,j] = 1-cosine(item_data.iloc[:,i],item_data.iloc[:,j])\n",
    "        "
   ]
  },
  {
   "cell_type": "code",
   "execution_count": 14,
   "metadata": {},
   "outputs": [
    {
     "name": "stdout",
     "output_type": "stream",
     "text": [
      "(285, 285)\n",
      "                 a perfect circle       abba      ac/dc adam green  aerosmith\n",
      "a perfect circle                1          0  0.0179172  0.0515539  0.0627765\n",
      "abba                            0          1  0.0522788  0.0250706  0.0610563\n",
      "ac/dc                   0.0179172  0.0522788          1   0.113154   0.177153\n",
      "adam green              0.0515539  0.0250706   0.113154          1  0.0566365\n",
      "aerosmith               0.0627765  0.0610563   0.177153  0.0566365          1\n"
     ]
    }
   ],
   "source": [
    "print(data_bis.shape)\n",
    "print(data_bis.head().iloc[0:5,0:5])\n",
    "#data_neighbours.head(6)"
   ]
  },
  {
   "cell_type": "code",
   "execution_count": 15,
   "metadata": {},
   "outputs": [
    {
     "name": "stdout",
     "output_type": "stream",
     "text": [
      "the kooks         0.308343\n",
      "the fratellis     0.281546\n",
      "the wombats       0.262071\n",
      "arctic monkeys    0.262071\n",
      "mando diao        0.243599\n",
      "bloc party        0.240192\n",
      "kings of leon     0.220493\n",
      "billy talent      0.217262\n",
      "deichkind         0.205963\n",
      "Name: the subways, dtype: object\n"
     ]
    }
   ],
   "source": [
    "the_subways = data_bis['the subways']\n",
    "print(the_subways.sort_values(ascending = False)[1:10])"
   ]
  },
  {
   "cell_type": "markdown",
   "metadata": {},
   "source": [
    "# 4. <a id=\"sec2\"></a> User-based collaborative filtering"
   ]
  },
  {
   "cell_type": "markdown",
   "metadata": {},
   "source": [
    "** Idea:**\n",
    "- The active user's preference can be predicted using other selected and aggregated users' opinions "
   ]
  },
  {
   "cell_type": "code",
   "execution_count": 80,
   "metadata": {},
   "outputs": [],
   "source": [
    "def getScore(history, similarities):\n",
    "   return sum(history*similarities)/sum(similarities)"
   ]
  },
  {
   "cell_type": "code",
   "execution_count": 108,
   "metadata": {},
   "outputs": [],
   "source": [
    "similarities = data\n",
    "data_neighbours = pd.DataFrame(index=data_bis.columns,columns=range(1,11))\n",
    " \n",
    "# Loop through our similarity dataframe and fill in neighbouring item names\n",
    "for i in range(0,len(data_bis.columns)):\n",
    "    data_neighbours.iloc[i,:10] = data_bis.iloc[0:,i].sort_values(ascending=False)[1:11].index"
   ]
  },
  {
   "cell_type": "code",
   "execution_count": 110,
   "metadata": {},
   "outputs": [
    {
     "ename": "TypeError",
     "evalue": "cannot do positional indexing on <class 'pandas.core.indexes.base.Index'> with these indexers [a perfect circle] of <class 'str'>",
     "output_type": "error",
     "traceback": [
      "\u001b[0;31m---------------------------------------------------------------------------\u001b[0m",
      "\u001b[0;31mTypeError\u001b[0m                                 Traceback (most recent call last)",
      "\u001b[0;32m<ipython-input-110-2746f103199d>\u001b[0m in \u001b[0;36m<module>\u001b[0;34m()\u001b[0m\n\u001b[1;32m      7\u001b[0m             \u001b[0msimilarities\u001b[0m\u001b[0;34m.\u001b[0m\u001b[0miloc\u001b[0m\u001b[0;34m[\u001b[0m\u001b[0mi\u001b[0m\u001b[0;34m]\u001b[0m\u001b[0;34m[\u001b[0m\u001b[0mj\u001b[0m\u001b[0;34m]\u001b[0m \u001b[0;34m=\u001b[0m \u001b[0;36m0\u001b[0m\u001b[0;34m\u001b[0m\u001b[0m\n\u001b[1;32m      8\u001b[0m         \u001b[0;32melse\u001b[0m\u001b[0;34m:\u001b[0m\u001b[0;34m\u001b[0m\u001b[0m\n\u001b[0;32m----> 9\u001b[0;31m             \u001b[0mproduct_top_names\u001b[0m \u001b[0;34m=\u001b[0m \u001b[0mdata_neighbours\u001b[0m\u001b[0;34m.\u001b[0m\u001b[0miloc\u001b[0m\u001b[0;34m[\u001b[0m\u001b[0mproduct\u001b[0m\u001b[0;34m]\u001b[0m\u001b[0;34m[\u001b[0m\u001b[0;36m1\u001b[0m\u001b[0;34m:\u001b[0m\u001b[0;36m10\u001b[0m\u001b[0;34m]\u001b[0m\u001b[0;34m\u001b[0m\u001b[0m\n\u001b[0m\u001b[1;32m     10\u001b[0m             \u001b[0mproduct_top_sims\u001b[0m \u001b[0;34m=\u001b[0m \u001b[0mdata_bis\u001b[0m\u001b[0;34m.\u001b[0m\u001b[0miloc\u001b[0m\u001b[0;34m[\u001b[0m\u001b[0mproduct\u001b[0m\u001b[0;34m]\u001b[0m\u001b[0;34m.\u001b[0m\u001b[0msort_values\u001b[0m\u001b[0;34m(\u001b[0m\u001b[0mascending\u001b[0m\u001b[0;34m=\u001b[0m\u001b[0;32mFalse\u001b[0m\u001b[0;34m)\u001b[0m\u001b[0;34m[\u001b[0m\u001b[0;36m1\u001b[0m\u001b[0;34m:\u001b[0m\u001b[0;36m10\u001b[0m\u001b[0;34m]\u001b[0m\u001b[0;34m\u001b[0m\u001b[0m\n\u001b[1;32m     11\u001b[0m             \u001b[0muser_purchases\u001b[0m \u001b[0;34m=\u001b[0m \u001b[0mdata\u001b[0m\u001b[0;34m.\u001b[0m\u001b[0miloc\u001b[0m\u001b[0;34m[\u001b[0m\u001b[0muser\u001b[0m\u001b[0;34m,\u001b[0m\u001b[0mproduct_top_names\u001b[0m\u001b[0;34m]\u001b[0m\u001b[0;34m\u001b[0m\u001b[0m\n",
      "\u001b[0;32m/Volumes/SSD/anaconda3/lib/python3.6/site-packages/pandas/core/indexing.py\u001b[0m in \u001b[0;36m__getitem__\u001b[0;34m(self, key)\u001b[0m\n\u001b[1;32m   1476\u001b[0m \u001b[0;34m\u001b[0m\u001b[0m\n\u001b[1;32m   1477\u001b[0m             \u001b[0mmaybe_callable\u001b[0m \u001b[0;34m=\u001b[0m \u001b[0mcom\u001b[0m\u001b[0;34m.\u001b[0m\u001b[0m_apply_if_callable\u001b[0m\u001b[0;34m(\u001b[0m\u001b[0mkey\u001b[0m\u001b[0;34m,\u001b[0m \u001b[0mself\u001b[0m\u001b[0;34m.\u001b[0m\u001b[0mobj\u001b[0m\u001b[0;34m)\u001b[0m\u001b[0;34m\u001b[0m\u001b[0m\n\u001b[0;32m-> 1478\u001b[0;31m             \u001b[0;32mreturn\u001b[0m \u001b[0mself\u001b[0m\u001b[0;34m.\u001b[0m\u001b[0m_getitem_axis\u001b[0m\u001b[0;34m(\u001b[0m\u001b[0mmaybe_callable\u001b[0m\u001b[0;34m,\u001b[0m \u001b[0maxis\u001b[0m\u001b[0;34m=\u001b[0m\u001b[0maxis\u001b[0m\u001b[0;34m)\u001b[0m\u001b[0;34m\u001b[0m\u001b[0m\n\u001b[0m\u001b[1;32m   1479\u001b[0m \u001b[0;34m\u001b[0m\u001b[0m\n\u001b[1;32m   1480\u001b[0m     \u001b[0;32mdef\u001b[0m \u001b[0m_is_scalar_access\u001b[0m\u001b[0;34m(\u001b[0m\u001b[0mself\u001b[0m\u001b[0;34m,\u001b[0m \u001b[0mkey\u001b[0m\u001b[0;34m)\u001b[0m\u001b[0;34m:\u001b[0m\u001b[0;34m\u001b[0m\u001b[0m\n",
      "\u001b[0;32m/Volumes/SSD/anaconda3/lib/python3.6/site-packages/pandas/core/indexing.py\u001b[0m in \u001b[0;36m_getitem_axis\u001b[0;34m(self, key, axis)\u001b[0m\n\u001b[1;32m   2093\u001b[0m         \u001b[0;31m# a single integer\u001b[0m\u001b[0;34m\u001b[0m\u001b[0;34m\u001b[0m\u001b[0m\n\u001b[1;32m   2094\u001b[0m         \u001b[0;32melse\u001b[0m\u001b[0;34m:\u001b[0m\u001b[0;34m\u001b[0m\u001b[0m\n\u001b[0;32m-> 2095\u001b[0;31m             \u001b[0mkey\u001b[0m \u001b[0;34m=\u001b[0m \u001b[0mself\u001b[0m\u001b[0;34m.\u001b[0m\u001b[0m_convert_scalar_indexer\u001b[0m\u001b[0;34m(\u001b[0m\u001b[0mkey\u001b[0m\u001b[0;34m,\u001b[0m \u001b[0maxis\u001b[0m\u001b[0;34m)\u001b[0m\u001b[0;34m\u001b[0m\u001b[0m\n\u001b[0m\u001b[1;32m   2096\u001b[0m \u001b[0;34m\u001b[0m\u001b[0m\n\u001b[1;32m   2097\u001b[0m             \u001b[0;32mif\u001b[0m \u001b[0;32mnot\u001b[0m \u001b[0mis_integer\u001b[0m\u001b[0;34m(\u001b[0m\u001b[0mkey\u001b[0m\u001b[0;34m)\u001b[0m\u001b[0;34m:\u001b[0m\u001b[0;34m\u001b[0m\u001b[0m\n",
      "\u001b[0;32m/Volumes/SSD/anaconda3/lib/python3.6/site-packages/pandas/core/indexing.py\u001b[0m in \u001b[0;36m_convert_scalar_indexer\u001b[0;34m(self, key, axis)\u001b[0m\n\u001b[1;32m    259\u001b[0m         \u001b[0max\u001b[0m \u001b[0;34m=\u001b[0m \u001b[0mself\u001b[0m\u001b[0;34m.\u001b[0m\u001b[0mobj\u001b[0m\u001b[0;34m.\u001b[0m\u001b[0m_get_axis\u001b[0m\u001b[0;34m(\u001b[0m\u001b[0mmin\u001b[0m\u001b[0;34m(\u001b[0m\u001b[0maxis\u001b[0m\u001b[0;34m,\u001b[0m \u001b[0mself\u001b[0m\u001b[0;34m.\u001b[0m\u001b[0mndim\u001b[0m \u001b[0;34m-\u001b[0m \u001b[0;36m1\u001b[0m\u001b[0;34m)\u001b[0m\u001b[0;34m)\u001b[0m\u001b[0;34m\u001b[0m\u001b[0m\n\u001b[1;32m    260\u001b[0m         \u001b[0;31m# a scalar\u001b[0m\u001b[0;34m\u001b[0m\u001b[0;34m\u001b[0m\u001b[0m\n\u001b[0;32m--> 261\u001b[0;31m         \u001b[0;32mreturn\u001b[0m \u001b[0max\u001b[0m\u001b[0;34m.\u001b[0m\u001b[0m_convert_scalar_indexer\u001b[0m\u001b[0;34m(\u001b[0m\u001b[0mkey\u001b[0m\u001b[0;34m,\u001b[0m \u001b[0mkind\u001b[0m\u001b[0;34m=\u001b[0m\u001b[0mself\u001b[0m\u001b[0;34m.\u001b[0m\u001b[0mname\u001b[0m\u001b[0;34m)\u001b[0m\u001b[0;34m\u001b[0m\u001b[0m\n\u001b[0m\u001b[1;32m    262\u001b[0m \u001b[0;34m\u001b[0m\u001b[0m\n\u001b[1;32m    263\u001b[0m     \u001b[0;32mdef\u001b[0m \u001b[0m_convert_slice_indexer\u001b[0m\u001b[0;34m(\u001b[0m\u001b[0mself\u001b[0m\u001b[0;34m,\u001b[0m \u001b[0mkey\u001b[0m\u001b[0;34m,\u001b[0m \u001b[0maxis\u001b[0m\u001b[0;34m)\u001b[0m\u001b[0;34m:\u001b[0m\u001b[0;34m\u001b[0m\u001b[0m\n",
      "\u001b[0;32m/Volumes/SSD/anaconda3/lib/python3.6/site-packages/pandas/core/indexes/base.py\u001b[0m in \u001b[0;36m_convert_scalar_indexer\u001b[0;34m(self, key, kind)\u001b[0m\n\u001b[1;32m   1635\u001b[0m \u001b[0;34m\u001b[0m\u001b[0m\n\u001b[1;32m   1636\u001b[0m         \u001b[0;32mif\u001b[0m \u001b[0mkind\u001b[0m \u001b[0;34m==\u001b[0m \u001b[0;34m'iloc'\u001b[0m\u001b[0;34m:\u001b[0m\u001b[0;34m\u001b[0m\u001b[0m\n\u001b[0;32m-> 1637\u001b[0;31m             \u001b[0;32mreturn\u001b[0m \u001b[0mself\u001b[0m\u001b[0;34m.\u001b[0m\u001b[0m_validate_indexer\u001b[0m\u001b[0;34m(\u001b[0m\u001b[0;34m'positional'\u001b[0m\u001b[0;34m,\u001b[0m \u001b[0mkey\u001b[0m\u001b[0;34m,\u001b[0m \u001b[0mkind\u001b[0m\u001b[0;34m)\u001b[0m\u001b[0;34m\u001b[0m\u001b[0m\n\u001b[0m\u001b[1;32m   1638\u001b[0m \u001b[0;34m\u001b[0m\u001b[0m\n\u001b[1;32m   1639\u001b[0m         \u001b[0;32mif\u001b[0m \u001b[0mlen\u001b[0m\u001b[0;34m(\u001b[0m\u001b[0mself\u001b[0m\u001b[0;34m)\u001b[0m \u001b[0;32mand\u001b[0m \u001b[0;32mnot\u001b[0m \u001b[0misinstance\u001b[0m\u001b[0;34m(\u001b[0m\u001b[0mself\u001b[0m\u001b[0;34m,\u001b[0m \u001b[0mABCMultiIndex\u001b[0m\u001b[0;34m,\u001b[0m\u001b[0;34m)\u001b[0m\u001b[0;34m:\u001b[0m\u001b[0;34m\u001b[0m\u001b[0m\n",
      "\u001b[0;32m/Volumes/SSD/anaconda3/lib/python3.6/site-packages/pandas/core/indexes/base.py\u001b[0m in \u001b[0;36m_validate_indexer\u001b[0;34m(self, form, key, kind)\u001b[0m\n\u001b[1;32m   4126\u001b[0m             \u001b[0;32mpass\u001b[0m\u001b[0;34m\u001b[0m\u001b[0m\n\u001b[1;32m   4127\u001b[0m         \u001b[0;32melif\u001b[0m \u001b[0mkind\u001b[0m \u001b[0;32min\u001b[0m \u001b[0;34m[\u001b[0m\u001b[0;34m'iloc'\u001b[0m\u001b[0;34m,\u001b[0m \u001b[0;34m'getitem'\u001b[0m\u001b[0;34m]\u001b[0m\u001b[0;34m:\u001b[0m\u001b[0;34m\u001b[0m\u001b[0m\n\u001b[0;32m-> 4128\u001b[0;31m             \u001b[0mself\u001b[0m\u001b[0;34m.\u001b[0m\u001b[0m_invalid_indexer\u001b[0m\u001b[0;34m(\u001b[0m\u001b[0mform\u001b[0m\u001b[0;34m,\u001b[0m \u001b[0mkey\u001b[0m\u001b[0;34m)\u001b[0m\u001b[0;34m\u001b[0m\u001b[0m\n\u001b[0m\u001b[1;32m   4129\u001b[0m         \u001b[0;32mreturn\u001b[0m \u001b[0mkey\u001b[0m\u001b[0;34m\u001b[0m\u001b[0m\n\u001b[1;32m   4130\u001b[0m \u001b[0;34m\u001b[0m\u001b[0m\n",
      "\u001b[0;32m/Volumes/SSD/anaconda3/lib/python3.6/site-packages/pandas/core/indexes/base.py\u001b[0m in \u001b[0;36m_invalid_indexer\u001b[0;34m(self, form, key)\u001b[0m\n\u001b[1;32m   1846\u001b[0m                         \"indexers [{key}] of {kind}\".format(\n\u001b[1;32m   1847\u001b[0m                             \u001b[0mform\u001b[0m\u001b[0;34m=\u001b[0m\u001b[0mform\u001b[0m\u001b[0;34m,\u001b[0m \u001b[0mklass\u001b[0m\u001b[0;34m=\u001b[0m\u001b[0mtype\u001b[0m\u001b[0;34m(\u001b[0m\u001b[0mself\u001b[0m\u001b[0;34m)\u001b[0m\u001b[0;34m,\u001b[0m \u001b[0mkey\u001b[0m\u001b[0;34m=\u001b[0m\u001b[0mkey\u001b[0m\u001b[0;34m,\u001b[0m\u001b[0;34m\u001b[0m\u001b[0m\n\u001b[0;32m-> 1848\u001b[0;31m                             kind=type(key)))\n\u001b[0m\u001b[1;32m   1849\u001b[0m \u001b[0;34m\u001b[0m\u001b[0m\n\u001b[1;32m   1850\u001b[0m     \u001b[0;32mdef\u001b[0m \u001b[0mget_duplicates\u001b[0m\u001b[0;34m(\u001b[0m\u001b[0mself\u001b[0m\u001b[0;34m)\u001b[0m\u001b[0;34m:\u001b[0m\u001b[0;34m\u001b[0m\u001b[0m\n",
      "\u001b[0;31mTypeError\u001b[0m: cannot do positional indexing on <class 'pandas.core.indexes.base.Index'> with these indexers [a perfect circle] of <class 'str'>"
     ]
    }
   ],
   "source": [
    "for i in range(0,len(similarities.index)):\n",
    "    for j in range(1,len(similarities.columns)):\n",
    "        user = similarities.index[i]\n",
    "        product = similarities.columns[j]\n",
    " \n",
    "        if data.iloc[i][j] == 1:\n",
    "            similarities.iloc[i][j] = 0\n",
    "        else:\n",
    "            product_top_names = data_neighbours.iloc[product][1:10]\n",
    "            product_top_sims = data_bis.iloc[product].sort_values(ascending=False)[1:10]\n",
    "            user_purchases = data.iloc[user,product_top_names]\n",
    " \n",
    "            data_sims.iloc[i][j] = getScore(user_purchases,product_top_sims)"
   ]
  },
  {
   "cell_type": "code",
   "execution_count": null,
   "metadata": {},
   "outputs": [],
   "source": [
    "data_recommend = pd.DataFrame(index=data_sims.index, columns=['user','1','2','3','4','5','6'])\n",
    "data_recommend.ix[0:,0] = data_sims.ix[:,0]\n",
    "\n",
    "for i in range(0,len(data_sims.index)):\n",
    "    data_recommend.ix[i,1:] = data_sims.ix[i,:].order(ascending=False).ix[1:7,].index.transpose()\n",
    "    \n",
    "print data_recommend.ix[:10,:4]"
   ]
  },
  {
   "cell_type": "markdown",
   "metadata": {},
   "source": [
    "\n",
    "\n",
    "# divers\n"
   ]
  },
  {
   "cell_type": "code",
   "execution_count": 16,
   "metadata": {},
   "outputs": [
    {
     "name": "stdout",
     "output_type": "stream",
     "text": [
      "(100234, 4)\n",
      "   userId  movieId  rating  timestamp\n",
      "0       1        1     5.0  847117005\n",
      "1       1        2     3.0  847642142\n",
      "2       1       10     3.0  847641896\n",
      "3       1       32     4.0  847642008\n",
      "4       1       34     4.0  847641956\n"
     ]
    },
    {
     "data": {
      "text/plain": [
       "718"
      ]
     },
     "execution_count": 16,
     "metadata": {},
     "output_type": "execute_result"
    }
   ],
   "source": [
    "ratings = pd.read_csv('./Movies_data/ratings.csv')\n",
    "\n",
    "print(ratings.shape)\n",
    "print(ratings.head())\n",
    "max(ratings['userId'])"
   ]
  },
  {
   "cell_type": "code",
   "execution_count": null,
   "metadata": {},
   "outputs": [],
   "source": []
  }
 ],
 "metadata": {
  "kernelspec": {
   "display_name": "Python 3",
   "language": "python",
   "name": "python3"
  },
  "language_info": {
   "codemirror_mode": {
    "name": "ipython",
    "version": 3
   },
   "file_extension": ".py",
   "mimetype": "text/x-python",
   "name": "python",
   "nbconvert_exporter": "python",
   "pygments_lexer": "ipython3",
   "version": "3.6.5"
  }
 },
 "nbformat": 4,
 "nbformat_minor": 2
}
