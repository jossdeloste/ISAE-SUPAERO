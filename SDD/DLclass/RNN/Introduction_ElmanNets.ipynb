{
 "cells": [
  {
   "cell_type": "markdown",
   "metadata": {},
   "source": [
    "# Recurrent Neural Networks\n",
    "\n",
    "<a rel=\"license\" href=\"http://creativecommons.org/licenses/by-nc-sa/4.0/\"><img alt=\"Creative Commons License\" align=\"left\" src=\"https://i.creativecommons.org/l/by-nc-sa/4.0/80x15.png\" /></a>&nbsp;| Dennis G. Wilson | <a href=\"https://supaerodatascience.github.io/deep-learning/\">https://supaerodatascience.github.io/deep-learning/</a>\n",
    "Updates by G.Durantin, 2021"
   ]
  },
  {
   "cell_type": "markdown",
   "metadata": {},
   "source": [
    "In this class, we'll cover a new type of deep neural network layer: recurrent layers. These layer types share the common feature of having internal or **hidden state**. This makes them well-suited to sequential data, such as time series or text data. They are heavily used in Natural Language Processing, the subject of [the next class](https://supaerodatascience.github.io/deep-learning/NLP.html). "
   ]
  },
  {
   "cell_type": "code",
   "execution_count": 10,
   "metadata": {},
   "outputs": [],
   "source": [
    "import os\n",
    "import pyedflib\n",
    "import numpy as np\n",
    "import random as rd\n",
    "import string\n",
    "import torch\n",
    "import torch.nn as nn\n",
    "import torch.optim as optim\n",
    "import matplotlib\n",
    "import matplotlib.pyplot as plt\n",
    "%matplotlib inline"
   ]
  },
  {
   "cell_type": "markdown",
   "metadata": {},
   "source": [
    "## Introductory activity : *Finding Structure in Time* (Elman, 1990)\n",
    "\n",
    "In his fundational work on Recurrent Neural Networks, Elman looked at a variety of problems that could not be solved using \"standard\" Neural Networks.\n",
    "The common feature of these problems, presented in his paper coined *Finding Structure in Time* (published in 1990), is that the data underlying them has structure in time (e.g. it has some sort of periodicity, or is organisez as a sequence).\n",
    "\n",
    "Here we propose to reproduce an adaptation of one of these problems, looking at **learning word boundaries**\n",
    "\n",
    "### 1. Problem : *Le Heron* (La Fontaine, 1678)\n",
    "\n",
    "In his paper, Elman worked with a lexicon composed of 15 english words. In this exercice, we will use French words instead, and use the first 16 words encountered in *Le Héron* (La Fontaine, 1678).\n",
    "\n",
    "<div align=\"center\"><b>Un jour sur ses longs pieds, allait, je ne sais où,<br/>\n",
    "Le Héron au long bec </b> emmanché d'un long cou.<br/>\n",
    "Il côtoyait une rivière.</div>\n",
    "\n",
    "Using these 16 words, we generate plenty of sentences by randomly sampling from the lexicon."
   ]
  },
  {
   "cell_type": "code",
   "execution_count": 6,
   "metadata": {},
   "outputs": [
    {
     "name": "stdout",
     "output_type": "stream",
     "text": [
      "text length (number of characters): 6537 \n",
      " unjoursurseslongspiedsallaitjenesaisouleheronaulongbecjourallaitsurnesesouheronlebecaujelongunsaislongslonglejourallaitlongsjesaispiedsheronauounesesunsesnejoursurousaisheronbeclonglepiedsjeunsuroujourjeallaitlongpiedsseslebecnelongsbecpiedsheronlejeausurjourouallaitsaisjouraujeallaitlongssaislelongbecunsurneouunbecsaisleheronlongsjourousesausurnesesheronjourneaubeclesaispiedslongsurallaitlongssaisunnepiedssurouauheronlelongbecsesouallaitlongsheronpiedsausurnejourlongsaisleunnejourouheronunsaissurbeclongssesaujourjesaislesesneallaitlongsbecsuroupiedsauheronlongaupiedslongsurheronunlongssaisjeallaitoulongpiedsbecjeausaislongsnejourlesessurounepiedssurlongsjourouheronsesaujeunallaitlongsaisnejejoursursaissesunlongsauleheronpiedslongallaitbecousurleheronbeclongsnejelongaupiedsjoursaisunlepiedssaisallaitaujourbecsesunnelongousurheronauallaitsesunlongsbecousurnepiedslejoursaisaulongsbeclongjejourlesesouneunsursaisaunelepiedsjoursurlongssaisoujebeclongsespiedssurjourounebecallaitunlonglongsa\n"
     ]
    }
   ],
   "source": [
    "#lexicon\n",
    "lexicon=[\"un\",\"jour\",\"sur\",\"ses\",\"longs\",\"pieds\",\"allait\",\"je\",\"ne\",\"sais\",\"ou\",\"le\",\"heron\",\"au\",\"long\",\"bec\"]\n",
    "\n",
    "#generate sentences\n",
    "def generateSentence(lexicon,n_words):\n",
    "    return ''.join(rd.sample(lexicon,n_words))\n",
    "\n",
    "text=''.join(lexicon)\n",
    "for n_sentences in range(150):\n",
    "    text+=generateSentence(lexicon,rd.randrange(11,16))\n",
    "\n",
    "print(\"text length (number of characters):\",len(text),\"\\n\",text[0:1000])"
   ]
  },
  {
   "cell_type": "markdown",
   "metadata": {},
   "source": [
    "As you will notice, the text has been preprocessed (removal of all punctuation, accents, etc...), and all the words and sentences have been appended. **What remains is a long sequence of characters, with no word boundaries remaining**.\n",
    "\n",
    "### 2. Data preparation and task Definition\n",
    "\n",
    "To work with pyTorch, we need to organize data in tensors. \n",
    "Each character in the text is one of the 26 letters of the alphabets. Therefore, *5 bits* are enough to encode each of the characters.\n",
    "\n",
    "The task Elman proposes to focus on for this problem is **predicting the next character of the sequence**. Performing well at this task would mean that the network has managed to understand that sequences of characters form words, and are therefore predictable.\n",
    "To implement the task in pyTorch, we need to create 2 tensors : one defining the $input$ that will be given to the network (i.e the current character), and the $target$ (i.e. the following character)\n",
    "\n"
   ]
  },
  {
   "cell_type": "code",
   "execution_count": 14,
   "metadata": {},
   "outputs": [
    {
     "name": "stdout",
     "output_type": "stream",
     "text": [
      "tensors size : torch.Size([6536, 5])\n",
      "first input :  tensor([1., 0., 1., 0., 0.], dtype=torch.float64)\n",
      "first target :  tensor([0., 1., 1., 0., 1.], dtype=torch.float64)\n"
     ]
    }
   ],
   "source": [
    "# Convert a character into a 5 bits encoding\n",
    "def encodeCharacter(char):\n",
    "    index=string.ascii_lowercase.index(char) #Index in the alphabet l'alphabet du caractère\n",
    "    output = [float(x) for x in '{:05b}'.format(index)] #convert to 5 bits\n",
    "    return output \n",
    "\n",
    "# Encode sequence\n",
    "input=[]\n",
    "target=[]\n",
    "for i in range(len(text)-1):\n",
    "    input.append(encodeCharacter(text[i]))\n",
    "    target.append(encodeCharacter(text[i+1]))\n",
    "#convert to tensors\n",
    "input=torch.from_numpy(np.array(input))\n",
    "target=torch.from_numpy(np.array(target))\n",
    "\n",
    "print(\"tensors size :\", input.size())\n",
    "print(\"first input : \", input[0])\n",
    "print(\"first target : \", target[0])"
   ]
  },
  {
   "cell_type": "markdown",
   "metadata": {},
   "source": [
    "### 3. Simple approach : ANN with one hidden layer\n",
    "\n",
    "As a first approach and a baseline, we propose to look at how well a network with one hidden layer would perform."
   ]
  },
  {
   "cell_type": "code",
   "execution_count": 15,
   "metadata": {},
   "outputs": [],
   "source": [
    "class LinearNN(nn.Module):\n",
    "    def __init__(self, input_size, hidden_size, output_size):\n",
    "        super(LinearNN, self).__init__()\n",
    "        self.hidden_size = hidden_size\n",
    "        self.linear1 = nn.Linear(input_size, hidden_size)\n",
    "        self.linear2 = nn.Linear(hidden_size, output_size)\n",
    "        self.sig=nn.Sigmoid()\n",
    "\n",
    "    def forward(self, input):\n",
    "        hidden = self.linear1(input)\n",
    "        output = self.sig(self.linear2(hidden))\n",
    "        return output"
   ]
  },
  {
   "cell_type": "markdown",
   "metadata": {},
   "source": [
    "To implement train the network, we will use the same parameters as what Elman proposes in his paper : \n",
    "- input and output layers of size 5 (corresponding to the encoding size of the letters)\n",
    "- hidden layer of size 20\n",
    "- training consisting of 10 complete iterations over the sequence."
   ]
  },
  {
   "cell_type": "code",
   "execution_count": 53,
   "metadata": {},
   "outputs": [
    {
     "name": "stdout",
     "output_type": "stream",
     "text": [
      "iter  0  average loss on iteration : 0.22483940117900095\n",
      "iter  1  average loss on iteration : 0.22433305273976223\n",
      "iter  2  average loss on iteration : 0.22433069438964337\n",
      "iter  3  average loss on iteration : 0.22433054623479745\n",
      "iter  4  average loss on iteration : 0.2243305379296426\n",
      "iter  5  average loss on iteration : 0.22433053747992102\n",
      "iter  6  average loss on iteration : 0.22433053745585302\n",
      "iter  7  average loss on iteration : 0.2243305374545707\n",
      "iter  8  average loss on iteration : 0.22433053745450324\n",
      "iter  9  average loss on iteration : 0.2243305374544993\n"
     ]
    }
   ],
   "source": [
    "n_hidden = 20\n",
    "#network initialization\n",
    "linearnn = LinearNN(5, n_hidden, 5).double()\n",
    "\n",
    "#criterion and optimizer for training\n",
    "criterion = nn.MSELoss()\n",
    "optimizer = torch.optim.SGD(linearnn.parameters(), lr=0.1, momentum=0.9)\n",
    "\n",
    "#training iterations\n",
    "for iter in range(10):\n",
    "    running_loss=0\n",
    "    for char in range(input.size(0)) :\n",
    "        optimizer.zero_grad()\n",
    "        output = linearnn(input[char].reshape(1,5))\n",
    "        loss = criterion(output, target[char].reshape(1,5))\n",
    "        loss.backward(retain_graph=True)\n",
    "        running_loss+=loss.item()\n",
    "        optimizer.step()\n",
    "    print(\"iter \",str(iter),\" average loss on iteration :\",str(running_loss/input.size(0)))"
   ]
  },
  {
   "cell_type": "markdown",
   "metadata": {},
   "source": [
    "Looking at the loss, the network does not seem to have learned much. Let's look at a portion of the error when trying to use the network."
   ]
  },
  {
   "cell_type": "code",
   "execution_count": 54,
   "metadata": {},
   "outputs": [
    {
     "data": {
      "image/png": "[encoded data removed]",
      "text/plain": [
       "<Figure size 432x288 with 1 Axes>"
      ]
     },
     "metadata": {
      "needs_background": "light"
     },
     "output_type": "display_data"
    }
   ],
   "source": [
    "losses=np.empty(1)\n",
    "with torch.no_grad():\n",
    "    for i in range(input.size(0)) :\n",
    "        output = linearnn(input[i].reshape(1,5))\n",
    "        losses=np.append(losses,criterion(output, target[i].reshape(1,5)).detach().numpy())\n",
    "        \n",
    "max_char=40\n",
    "offset=1\n",
    "#ERROR PLOT\n",
    "plt.plot(losses[offset:max_char+offset])\n",
    "plt.ylabel('error')\n",
    "for i in range(max_char):\n",
    "    plt.text(i,losses[i+offset],text[i+offset]) #print the target letter for each step\n",
    "plt.show()"
   ]
  },
  {
   "cell_type": "markdown",
   "metadata": {},
   "source": [
    "Although the graph should look disappointing, there may be a pattern that start to emerge here : you may notice that the error is higher at the beginning of words. We will come back to this interpretation later.\n",
    "\n",
    "However, it is clear that the network performs badly at learning to predict the next letter from the current one. Elman's interpretation of this result is that one fundamental aspect missing from the implementation : **recurrence**.\n",
    "\n",
    "In fact, when predicting the next letter from the current one, it may be useful to keep in memory what the network predicted before. This memory enables the network to not only take into account its current state when predicting the outcome, but also to take into account the previous state.\n",
    "For data organized in logically structured sequences (e.g. words), the concept of recurrence is crucial for good results."
   ]
  },
  {
   "cell_type": "markdown",
   "metadata": {},
   "source": [
    "### 4. Introducing recurrence\n",
    "\n",
    "Elman's proposition is to add a **recurrent layer**. At each step, the hidden layer receives input not only from the input layer, but also from the recurrent layer. The state of the hidden layer is then copied into the recurrent layer for the next step.\n",
    "This allows the network to keep some memory of the previous state.\n",
    "\n",
    "<img src=\"img/elman.png\">\n",
    "\n",
    "*Note : Elman was not the first to propose this implementation. Jordan (1986) had already implemented recurrence, but had proposed to keep in memory the state of the output layer instead of the hidden layer*\n",
    "\n",
    "Let's modify our network to introduce Elman's recurrence. In pyTorch, this can be done using the **RNNCell** layer."
   ]
  },
  {
   "cell_type": "code",
   "execution_count": 49,
   "metadata": {},
   "outputs": [],
   "source": [
    "class RNN(nn.Module):\n",
    "    def __init__(self, input_size, hidden_size, output_size):\n",
    "        super(RNN, self).__init__()\n",
    "        self.hidden_size = hidden_size\n",
    "        self.rnn1 = nn.RNNCell(input_size, hidden_size)\n",
    "        self.linear = nn.Linear(hidden_size, output_size)\n",
    "        self.sig=nn.Sigmoid()\n",
    "\n",
    "    def forward(self, input, hidden):\n",
    "        hidden = self.rnn1(input, hidden)\n",
    "        output = self.sig(self.linear(hidden))\n",
    "        return output, hidden #we return both output and hidden state, as both will be needed for the next step\n",
    "    \n",
    "    def init_hidden(self):\n",
    "        return torch.zeros(1, self.hidden_size, dtype=torch.double)"
   ]
  },
  {
   "cell_type": "markdown",
   "metadata": {},
   "source": [
    "**Note : as you can see, in pyTorch, recurrence means that the hidden state is kept in memory through iterations**. That means that the forward method takes this recurrent state as an argument, and returns the updated state.\n",
    "For the first step, the network's recurrent state will need to be initialized (here with zeros). The method init_hidden enables to do so."
   ]
  },
  {
   "cell_type": "code",
   "execution_count": 50,
   "metadata": {},
   "outputs": [
    {
     "name": "stdout",
     "output_type": "stream",
     "text": [
      "iter  0  average loss on iteration : 0.21551823112621737\n",
      "iter  1  average loss on iteration : 0.20423883736559068\n",
      "iter  2  average loss on iteration : 0.19608462517727\n",
      "iter  3  average loss on iteration : 0.18940068561914383\n",
      "iter  4  average loss on iteration : 0.18995041049630979\n",
      "iter  5  average loss on iteration : 0.18444476770856824\n",
      "iter  6  average loss on iteration : 0.18258888306199303\n",
      "iter  7  average loss on iteration : 0.18936660971637137\n",
      "iter  8  average loss on iteration : 0.1801964577130335\n",
      "iter  9  average loss on iteration : 0.1767399351545655\n"
     ]
    }
   ],
   "source": [
    "n_hidden = 20\n",
    "#network initialization\n",
    "rnn = RNN(5, n_hidden, 5).double()\n",
    "\n",
    "#criterion and optimizer for training\n",
    "criterion = nn.MSELoss()\n",
    "optimizer = torch.optim.SGD(rnn.parameters(), lr=0.1, momentum=0.9)\n",
    "\n",
    "#training iterations\n",
    "for iter in range(10):\n",
    "    running_loss=0\n",
    "    hidden=rnn.init_hidden() #initialize hidden state\n",
    "    for i in range(input.size(0)) :\n",
    "        optimizer.zero_grad()\n",
    "        output, hidden = rnn(input[i].reshape(1,5),hidden.detach())\n",
    "        loss = criterion(output, target[i].reshape(1,5))\n",
    "        loss.backward(retain_graph=True)\n",
    "        running_loss+=loss.item()\n",
    "        optimizer.step()\n",
    "    print(\"iter \",str(iter),\" average loss on iteration :\",str(running_loss/input.size(0)))"
   ]
  },
  {
   "cell_type": "markdown",
   "metadata": {},
   "source": [
    "You should notice some convergence, even if not very convincing (as the task remains hard). Now, let's plot the error as we did with the standard ANN."
   ]
  },
  {
   "cell_type": "code",
   "execution_count": 51,
   "metadata": {},
   "outputs": [
    {
     "data": {
      "image/png": "[encoded data removed]",
      "text/plain": [
       "<Figure size 432x288 with 1 Axes>"
      ]
     },
     "metadata": {
      "needs_background": "light"
     },
     "output_type": "display_data"
    }
   ],
   "source": [
    "losses=np.empty(1)\n",
    "with torch.no_grad():\n",
    "    hidden=rnn.init_hidden() #initialize hidden state\n",
    "    for i in range(input.size(0)) :\n",
    "        output,hidden = rnn(input[i].reshape(1,5),hidden)\n",
    "        losses=np.append(losses,criterion(output, target[i].reshape(1,5)).detach().numpy())\n",
    "        \n",
    "max_char=40\n",
    "offset=1\n",
    "#ERROR PLOT\n",
    "plt.plot(losses[offset:max_char+offset])\n",
    "plt.ylabel('error')\n",
    "for i in range(max_char):\n",
    "    plt.text(i,losses[i+offset],text[i+offset]) #print the target letter for each step\n",
    "plt.show()"
   ]
  },
  {
   "cell_type": "markdown",
   "metadata": {},
   "source": [
    "The pattern we started to see previously should appear very clearly now : the error is high at the beginning of words, and then decreases as the word becomes clearer. \n",
    "\n",
    "This corresponds quite well with the way a human would solve this problem : *predicting the next letter from the current one is impossible, unless there is some structure (imposed by words) in this sequence*.\n",
    "For instance, when just given the letter \"h\", there is no way for you to predict the next letter efficiently. However, as you continue reading, and manage to remember that the first letters are \"*hero*\", it is much more likely for you to predict the next letter to be \"n\" (to form the word \"*heron*\").\n",
    "\n",
    "**In practice, our Recurrent Neural network has managed to learn the structure of words.**"
   ]
  }
 ],
 "metadata": {
  "@webio": {
   "lastCommId": null,
   "lastKernelId": null
  },
  "kernelspec": {
   "display_name": "Python 3",
   "language": "python",
   "name": "python3"
  },
  "language_info": {
   "codemirror_mode": {
    "name": "ipython",
    "version": 3
   },
   "file_extension": ".py",
   "mimetype": "text/x-python",
   "name": "python",
   "nbconvert_exporter": "python",
   "pygments_lexer": "ipython3",
   "version": "3.6.9"
  }
 },
 "nbformat": 4,
 "nbformat_minor": 2
}
