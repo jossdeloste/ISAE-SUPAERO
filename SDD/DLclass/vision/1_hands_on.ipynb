{
 "cells": [
  {
   "cell_type": "markdown",
   "id": "7b11e219",
   "metadata": {
    "id": "2iUXCk7tC1x5",
    "tags": []
   },
   "source": [
    "# Session 1 : Training your first aircraft classifier with pytorch\n",
    "\n",
    "<a rel=\"license\" href=\"http://creativecommons.org/licenses/by-nc-sa/4.0/\"><img alt=\"Creative Commons License\" align=\"left\" src=\"https://i.creativecommons.org/l/by-nc-sa/4.0/80x15.png\" /></a>&nbsp;| Florient Chouteau | <a href=\"https://supaerodatascience.github.io/deep-learning/\">https://supaerodatascience.github.io/deep-learning/</a>"
   ]
  },
  {
   "cell_type": "markdown",
   "id": "1bab7ddc",
   "metadata": {
    "id": "yfn1RtChC1yD",
    "tags": []
   },
   "source": [
    "## Intro\n",
    "\n",
    "The objectives of this session is to apply what you learned during [the previous class on Deep Learning](https://supaerodatascience.github.io/deep-learning/) on a real dataset of satellite images.\n",
    "\n",
    "Most of the vocabulary and concepts of Deep Learning and Convolutionnal Neural Network has been defined on the class linked above so you should refer to it.\n",
    "\n",
    "In this session you will:\n",
    "- Train a basic NN on a basic dataset\n",
    "- Plot ROC curve & confusion matrix to diagnose your dataset\n",
    "\n",
    "During session 2 you will be experimenting with harder datasets\n",
    "\n",
    "If you haven't done so, go to the previous notebooks to get a hands on pytorch and CNNs"
   ]
  },
  {
   "cell_type": "code",
   "execution_count": null,
   "id": "3c8e2be0",
   "metadata": {
    "id": "xEo4VpHqC1yF"
   },
   "outputs": [],
   "source": [
    "%matplotlib inline"
   ]
  },
  {
   "cell_type": "code",
   "execution_count": null,
   "id": "f5b663a9",
   "metadata": {
    "id": "FG3_sWsWC1yH"
   },
   "outputs": [],
   "source": [
    "# Put your imports here\n",
    "import numpy as np"
   ]
  },
  {
   "cell_type": "markdown",
   "id": "9c6e9c2e",
   "metadata": {
    "id": "1nb7isjuC1yI"
   },
   "source": [
    "## Dataset\n",
    "\n",
    "Récupération et exploration du datset"
   ]
  },
  {
   "cell_type": "code",
   "execution_count": null,
   "id": "5c3d158e",
   "metadata": {
    "id": "XLml82VWC1yK"
   },
   "outputs": [],
   "source": [
    "# Configuration variables\n",
    "TOY_DATASET_URL = \"https://storage.googleapis.com/fchouteau-isae-deep-learning/toy_aircraft_dataset.npz\""
   ]
  },
  {
   "cell_type": "markdown",
   "id": "b915adcd",
   "metadata": {
    "id": "Shmmb50XC1yK"
   },
   "source": [
    "### Image (reminders)\n",
    "\n",
    "A digital image is an image composed of picture elements, also known as pixels, each with finite, discrete quantities of numeric representation for its intensity or gray level that is an output from its two-dimensional functions fed as input by its spatial coordinates denoted with x, y on the x-axis and y-axis, respectively.\n",
    "\n",
    "We represent images as matrixes,\n",
    "\n",
    "Images are made of pixels, and pixels are made of combinations of primary colors (in our case Red, Green and Blue). In this context, images have chanels that are the grayscale image of the same size as a color image, made of just one of these primary colors. For instance, an image from a standard digital camera will have a red, green and blue channel. A grayscale image has just one channel.\n",
    "\n",
    "In geographic information systems, channels are often referred to as raster bands.\n",
    "\n",
    "![img](https://static.packt-cdn.com/products/9781789613964/graphics/e91171a3-f7ea-411e-a3e1-6d3892b8e1e5.png)\n",
    "\n",
    "\n",
    "For the rest of this workshop we will use the following axis conventions for images\n",
    "\n",
    "![conventions](https://storage.googleapis.com/fchouteau-isae-deep-learning/static/image_coordinates.png)"
   ]
  },
  {
   "cell_type": "markdown",
   "id": "2d73c994",
   "metadata": {
    "id": "nPa5zHUBC1yN"
   },
   "source": [
    "### Downloading the dataset\n",
    "\n",
    "We will be using [numpy datasources](https://docs.scipy.org/doc/numpy/reference/generated/numpy.DataSource.html?highlight=datasources) to download the dataset. DataSources can be local files or remote files/URLs. The files may also be compressed or uncompressed. DataSource hides some of the low-level details of downloading the file, allowing you to simply pass in a valid file path (or URL) and obtain a file object.\n",
    "\n",
    "The dataset is in npz format which is a packaging format where we store several numpy arrays in key-value format\n",
    "\n",
    "Note:\n",
    "If you get an error with the code below run:\n",
    "```python\n",
    "!gsutil -m cp -r gs://isae-deep-learning/toy_aircraft_dataset.npz /tmp/storage.googleapis.com/isae-deep-learning/toy_aircraft_dataset.npz\n",
    "```\n",
    "in a cell above the cell below"
   ]
  },
  {
   "cell_type": "code",
   "execution_count": null,
   "id": "265a7b8c",
   "metadata": {
    "id": "aPxBx-2-C1yP"
   },
   "outputs": [],
   "source": [
    "ds = np.DataSource(destpath=\"/tmp/\")\n",
    "f = ds.open(TOY_DATASET_URL, \"rb\")\n",
    "\n",
    "toy_dataset = np.load(f)\n",
    "trainval_images = toy_dataset[\"train_images\"]\n",
    "trainval_labels = toy_dataset[\"train_labels\"]\n",
    "test_images = toy_dataset[\"test_images\"]\n",
    "test_labels = toy_dataset[\"test_labels\"]"
   ]
  },
  {
   "cell_type": "markdown",
   "id": "389efc35",
   "metadata": {
    "id": "dRMdfPRKC1yR"
   },
   "source": [
    "### A bit of data exploration"
   ]
  },
  {
   "cell_type": "markdown",
   "id": "2c491c41",
   "metadata": {
    "id": "KLD83Y7vC1yR"
   },
   "source": [
    "**Q1. Labels counting**\n",
    "\n",
    "a. What is the dataset size ?\n",
    "\n",
    "b. How many images representing aircrafts ?\n",
    "\n",
    "c. How many images representing backgrounds ?\n",
    "\n",
    "d. What are the dimensions (height and width) of the images ? What are the number of channels ?"
   ]
  },
  {
   "cell_type": "markdown",
   "id": "a0bd9160",
   "metadata": {
    "id": "5xkrtVx-C1yS"
   },
   "source": [
    "**Q2. Can you plot at least 8 examples of each label ? In a 4x4 grid ?**"
   ]
  },
  {
   "cell_type": "markdown",
   "id": "440bff37",
   "metadata": {
    "id": "n_fynC7iC1yT"
   },
   "source": [
    "Here are some examples that help you answer this question. Try them and make your own. A well-understandood dataset is the key to an efficient model."
   ]
  },
  {
   "cell_type": "code",
   "execution_count": null,
   "id": "f54270b3",
   "metadata": {
    "id": "7XcQrRWKC1yT"
   },
   "outputs": [],
   "source": [
    "import cv2\n",
    "import matplotlib.pyplot as plt"
   ]
  },
  {
   "cell_type": "code",
   "execution_count": null,
   "id": "f4418f2e",
   "metadata": {
    "colab": {
     "base_uri": "https://localhost:8080/"
    },
    "id": "l7wcKYZBC1yU",
    "outputId": "4068a524-b60a-48ec-f40d-9538e2ea425f"
   },
   "outputs": [],
   "source": [
    "LABEL_NAMES = [\"Not an aircraft\", \"Aircraft\"]\n",
    "\n",
    "print(\"Labels counts :\")\n",
    "for l, c, label in zip(*np.unique(trainval_labels, return_counts=True), LABEL_NAMES):\n",
    "    print(f\" Label: {label} , value: {l}, count: {c}\")\n",
    "\n",
    "for l, label in enumerate(LABEL_NAMES):\n",
    "    print(f\"Examples shape for label {l} : {trainval_images[trainval_labels == l, ::].shape}\")"
   ]
  },
  {
   "cell_type": "code",
   "execution_count": null,
   "id": "44b54097",
   "metadata": {
    "colab": {
     "base_uri": "https://localhost:8080/"
    },
    "id": "ArvB0PsXC1yW",
    "outputId": "84db6bb2-22b4-4384-d197-2ddcac18d9fd"
   },
   "outputs": [],
   "source": [
    "LABEL_NAMES = [\"Not an aircraft\", \"Aircraft\"]\n",
    "\n",
    "print(\"Labels counts :\")\n",
    "for l, c, label in zip(*np.unique(test_labels, return_counts=True), LABEL_NAMES):\n",
    "    print(f\" Label: {label} , value: {l}, count: {c}\")\n",
    "\n",
    "for l, label in enumerate(LABEL_NAMES):\n",
    "    print(f\"Examples shape for label {l} : {test_images[test_labels == l, ::].shape}\")"
   ]
  },
  {
   "cell_type": "code",
   "execution_count": null,
   "id": "a3340b6a",
   "metadata": {
    "colab": {
     "base_uri": "https://localhost:8080/",
     "height": 594
    },
    "id": "ol6QpoP6C1yX",
    "outputId": "5d445c41-2ed8-4f75-ed45-5ba1e25a2c8f"
   },
   "outputs": [],
   "source": [
    "grid_size = 4\n",
    "grid = np.zeros((grid_size * 64, grid_size * 64, 3)).astype(np.uint8)\n",
    "for i in range(grid_size):\n",
    "    for j in range(grid_size):\n",
    "        tile = np.copy(trainval_images[i * grid_size + j])\n",
    "        label = np.copy(trainval_labels[i * grid_size + j])\n",
    "        color = (0, 255, 0) if label == 1 else (255, 0, 0)\n",
    "        tile = cv2.rectangle(tile, (0, 0), (64, 64), color, thickness=2)\n",
    "        grid[i * 64 : (i + 1) * 64, j * 64 : (j + 1) * 64, :] = tile\n",
    "\n",
    "fig = plt.figure(figsize=(10, 10))\n",
    "ax = fig.add_subplot(1, 1, 1)\n",
    "ax.imshow(grid)\n",
    "plt.show()"
   ]
  },
  {
   "cell_type": "markdown",
   "id": "a1dea9b8",
   "metadata": {
    "id": "gFtNYE6EC1yY"
   },
   "source": [
    "### A bit about train-test\n",
    "\n",
    "You just downloaded a training and a test set.\n",
    "\n",
    "- We use the training set for forward/backward\n",
    "- We use the validation set to tune hyperparameters (optimizers, early stopping)\n",
    "- We use the test set for final metrics on our tuned model\n",
    "\n",
    "![](https://i.stack.imgur.com/osBuF.png)\n",
    "\n",
    "For more information as to why we use train/validation and test refer to these articles:\n",
    "\n",
    "- https://towardsdatascience.com/train-validation-and-test-sets-72cb40cba9e7\n",
    "- https://www.freecodecamp.org/news/what-to-do-when-your-training-and-testing-data-come-from-different-distributions-d89674c6ecd8/\n",
    "- https://kevinzakka.github.io/2016/09/26/applying-deep-learning/\n",
    "\n",
    "We will now create our validation dataset,\n",
    "\n",
    "Since we know the dataset is balanced, we can evenly sample from the dataset without taking too many risks\n",
    "\n",
    "We will do a 80/20 sampling"
   ]
  },
  {
   "cell_type": "code",
   "execution_count": null,
   "id": "ae6dde0c",
   "metadata": {
    "id": "gHmjoZhLC1yZ"
   },
   "outputs": [],
   "source": [
    "idxs = np.random.permutation(np.arange(trainval_images.shape[0]))\n",
    "\n",
    "train_idxs, val_idxs = idxs[: int(0.8 * len(idxs))], idxs[int(0.8 * len(idxs)) :]\n",
    "\n",
    "train_images = trainval_images[train_idxs]\n",
    "train_labels = trainval_labels[train_idxs]\n",
    "val_images = trainval_images[val_idxs]\n",
    "val_labels = trainval_labels[val_idxs]"
   ]
  },
  {
   "cell_type": "code",
   "execution_count": null,
   "id": "8068b7a6",
   "metadata": {
    "colab": {
     "base_uri": "https://localhost:8080/"
    },
    "id": "7cfe6Yu6C1yZ",
    "outputId": "9d35706f-c6b9-4d44-fde4-e7509580b865"
   },
   "outputs": [],
   "source": [
    "train_images.shape"
   ]
  },
  {
   "cell_type": "markdown",
   "id": "e5883cc3",
   "metadata": {},
   "source": [
    "What is the mean of our data ? \n",
    "Whats is the standard deviation ?"
   ]
  },
  {
   "cell_type": "code",
   "execution_count": null,
   "id": "75c9b386",
   "metadata": {},
   "outputs": [],
   "source": [
    "# Compute the dataset statistics in [0.,1.], we're going to use it to normalize our data\n",
    "\n",
    "mean = np.mean(train_images, axis=(0, 1, 2)) / 255.0\n",
    "std = np.std(train_images, axis=(0, 1, 2)) / 255.0\n",
    "\n",
    "mean, std"
   ]
  },
  {
   "cell_type": "markdown",
   "id": "3eae323c",
   "metadata": {
    "id": "SZ6VBCvQC1ya"
   },
   "source": [
    "## Preparing our training\n",
    "\n",
    "Remember that training a deep learning model requires:\n",
    "\n",
    "- Defining a model to train\n",
    "- Defining a loss function (cost function) to compute gradients with\n",
    "- Defining an optimizer to update parameters\n",
    "- Putting the model on the accelerator device that trains very fast (GPU, TPU)... You'll learn about GPUs later :)\n",
    "\n",
    "![](https://pbs.twimg.com/media/E_1d06cVIAcYheX?format=jpg)\n",
    "\n",
    "The training loop is \"quite basic\" : We loop over samples of the dataset (in batches) several times over :\n",
    "\n",
    "![](https://pbs.twimg.com/media/E_1d06XVcA8Dhzs?format=jpg)\n"
   ]
  },
  {
   "cell_type": "code",
   "execution_count": null,
   "id": "4670c0e4",
   "metadata": {
    "id": "10ow7xWIC1ya",
    "lines_to_next_cell": 1
   },
   "outputs": [],
   "source": [
    "from typing import Callable\n",
    "\n",
    "import torch\n",
    "import torch.nn.functional as F\n",
    "from PIL import Image\n",
    "from torch import nn, optim\n",
    "from torch.utils.data import DataLoader, Dataset\n",
    "from torchvision import datasets, transforms"
   ]
  },
  {
   "cell_type": "markdown",
   "id": "4079bbdd",
   "metadata": {
    "id": "AKqUcnCcC1yb"
   },
   "source": [
    "### Defining Dataset & Transforms\n",
    "\n",
    "First, we need to tell pytorch how to load our data.\n",
    "\n",
    "Have a look at : https://pytorch.org/tutorials/beginner/basics/data_tutorial.html\n",
    "\n",
    "We write our own `torch.data.Dataset` class"
   ]
  },
  {
   "cell_type": "code",
   "execution_count": null,
   "id": "9ce385d6",
   "metadata": {
    "id": "uvFjmzHoC1yb"
   },
   "outputs": [],
   "source": [
    "class NpArrayDataset(Dataset):\n",
    "    def __init__(\n",
    "        self,\n",
    "        images: np.ndarray,\n",
    "        labels: np.ndarray,\n",
    "        image_transforms: Callable = None,\n",
    "        label_transforms: Callable = None,\n",
    "    ):\n",
    "        self.images = images\n",
    "        self.labels = labels\n",
    "        self.image_transforms = image_transforms\n",
    "        self.label_transforms = label_transforms\n",
    "\n",
    "    def __len__(self):\n",
    "        return self.images.shape[0]\n",
    "\n",
    "    def __getitem__(self, index: int):\n",
    "        x = self.images[index]\n",
    "        y = self.labels[index]\n",
    "\n",
    "        if self.image_transforms is not None:\n",
    "            x = self.image_transforms(x)\n",
    "        else:\n",
    "            x = torch.tensor(x)\n",
    "\n",
    "        if self.label_transforms is not None:\n",
    "            y = self.label_transforms(y)\n",
    "        else:\n",
    "            y = torch.tensor(y)\n",
    "\n",
    "        return x, y"
   ]
  },
  {
   "cell_type": "markdown",
   "id": "4f9f9850",
   "metadata": {
    "id": "0Z4N5o8AC1yb"
   },
   "source": [
    "Then we need to process our data (images) into \"tensors\" that torch can process, we define \"transforms\""
   ]
  },
  {
   "cell_type": "code",
   "execution_count": null,
   "id": "18d8cc53",
   "metadata": {
    "id": "PahdjhR5C1yc"
   },
   "outputs": [],
   "source": [
    "# transform to convert np array in range [0,255] to torch.Tensor [0.,1.]\n",
    "# then normalize by doing x = (x - mean) / std\n",
    "image_transforms = transforms.Compose(\n",
    "    [\n",
    "        transforms.ToTensor(),\n",
    "        transforms.Normalize(mean, std),\n",
    "    ]\n",
    ")\n",
    "\n",
    "# here we don't have anything to do\n",
    "target_transforms = None"
   ]
  },
  {
   "cell_type": "markdown",
   "id": "bcad8c99",
   "metadata": {
    "id": "p9QH51F-C1yc"
   },
   "source": [
    "Now we put everything together into something to load our data"
   ]
  },
  {
   "cell_type": "code",
   "execution_count": null,
   "id": "85dc7649",
   "metadata": {
    "colab": {
     "base_uri": "https://localhost:8080/"
    },
    "id": "CR14oNXyC1yd",
    "outputId": "55d52439-7ffc-46a6-d7fb-13c0b173e761"
   },
   "outputs": [],
   "source": [
    "# load the training data\n",
    "train_set = NpArrayDataset(\n",
    "    images=train_images, labels=train_labels, image_transforms=image_transforms, label_transforms=target_transforms\n",
    ")\n",
    "\n",
    "print(len(train_set))\n",
    "\n",
    "train_loader = DataLoader(train_set, batch_size=64, shuffle=True)\n",
    "\n",
    "# load the validation data\n",
    "validation_set = NpArrayDataset(\n",
    "    images=val_images, labels=val_labels, image_transforms=image_transforms, label_transforms=target_transforms\n",
    ")\n",
    "\n",
    "print(len(validation_set))\n",
    "\n",
    "val_loader = DataLoader(validation_set, batch_size=64, shuffle=True)"
   ]
  },
  {
   "cell_type": "markdown",
   "id": "3dbcd426",
   "metadata": {
    "id": "0yxUYemIC1yd"
   },
   "source": [
    "### Check that your dataset outputs correct data\n",
    "\n",
    "Always to this as a sanity check to catch bugs in your data processing pipeline\n",
    "\n",
    "Write the inverse transformation by hand to ensure it's ok\n",
    "\n",
    "![andrej](https://storage.googleapis.com/fchouteau-isae-deep-learning/static/andrej_tweet_1.png)"
   ]
  },
  {
   "cell_type": "code",
   "execution_count": null,
   "id": "61dfba5d",
   "metadata": {
    "colab": {
     "base_uri": "https://localhost:8080/",
     "height": 116
    },
    "id": "Ic2sE836C1ye",
    "outputId": "db784726-e3e0-40c3-d9ff-9e0ec597d28e"
   },
   "outputs": [],
   "source": [
    "k = np.random.randint(len(train_set))\n",
    "x, y = train_set[k]\n",
    "\n",
    "# From torch\n",
    "# Inverse transform\n",
    "x = x.numpy()\n",
    "x = x.transpose((1, 2, 0))\n",
    "x = x * std + mean\n",
    "x = x.clip(0.0, 1.0)\n",
    "x = (x * 255.0).astype(np.uint8)\n",
    "\n",
    "print(\"Inverse transform is OK ?\")\n",
    "print(\"Label {}\".format(y))\n",
    "plt.imshow(x)\n",
    "plt.show()\n",
    "\n",
    "plt.imshow(train_set.images[k])\n",
    "plt.show()"
   ]
  },
  {
   "cell_type": "markdown",
   "id": "75cba1fa",
   "metadata": {
    "id": "4np1A43JC1yf"
   },
   "source": [
    "Model"
   ]
  },
  {
   "cell_type": "code",
   "execution_count": null,
   "id": "3d0bf742",
   "metadata": {
    "colab": {
     "base_uri": "https://localhost:8080/"
    },
    "id": "BmV9carLC1yf",
    "outputId": "dba28689-a129-4ae1-facc-41f9d3e55f8e"
   },
   "outputs": [],
   "source": [
    "DEVICE = torch.device(\"cuda:0\" if torch.cuda.is_available() else \"cpu\")\n",
    "\n",
    "print(DEVICE)"
   ]
  },
  {
   "cell_type": "markdown",
   "id": "01785ad9",
   "metadata": {
    "id": "AJ3oVqOHC1yg"
   },
   "source": [
    "### Defining a model\n",
    "\n",
    "Now we have to define a CNN to train. It's usually called a \"network\", and we define its \"architecture\".\n",
    "\n",
    "Defining a good architecture is a huge field of research (a pandora's box) that takes a lot of time, but we can define \"sane architectures\" easily:\n",
    "\n",
    "Basically, CNN architectures are a stacks of :\n",
    "- Convolution layers + non linearities\n",
    "- Pooling layer\n",
    "- A final \"activation\" layer at the end (for classification) that allows us to output probabilities\n",
    "\n",
    "![](https://idiotdeveloper.com/wp-content/uploads/2021/05/1_uAeANQIOQPqWZnnuH-VEyw.jpg)\n",
    "\n",
    "Let's define a model together:\n",
    "\n",
    "```python\n",
    "model = nn.Sequential(\n",
    "    # A block of 2 convolutions + non linearities & a pooling layers\n",
    "    # IN SHAPE (3,64,64)\n",
    "    nn.Conv2d(in_channels=3, out_channels=16, kernel_size=3),\n",
    "    # OUT SHAPE (16,62,62)\n",
    "    nn.ReLU(),\n",
    "    # IN SHAPE (16,62,62)\n",
    "    nn.Conv2d(in_channels=16, out_channels=16, kernel_size=3),\n",
    "    # OUT SHAPE (16,60,60)\n",
    "    nn.ReLU(),\n",
    "    nn.MaxPool2d(2),\n",
    "    # OUT SHAPE (16,30,30)\n",
    "    # Another stack of these\n",
    "    nn.Conv2d(in_channels=16, out_channels=32, kernel_size=3),\n",
    "    # OUT SHAPE (?,?,?)\n",
    "    nn.ReLU(),\n",
    "    nn.Conv2d(in_channels=32, out_channels=32, kernel_size=3),\n",
    "    nn.ReLU(),\n",
    "    nn.Conv2d(in_channels=32, out_channels=32, kernel_size=3),\n",
    "    nn.ReLU(),\n",
    "    nn.MaxPool2d(2),\n",
    "    # OUT SHAPE (?,?,?)\n",
    "    # Another stack of these\n",
    "    nn.Conv2d(in_channels=32, out_channels=64, kernel_size=3),\n",
    "    # OUT SHAPE (?,?,?)\n",
    "    nn.ReLU(),\n",
    "    nn.Conv2d(in_channels=64, out_channels=64, kernel_size=3),\n",
    "    # OUT SHAPE (?,?,?)\n",
    "    nn.ReLU(),\n",
    "    nn.MaxPool2d(2),\n",
    "    # OUT SHAPE (?,?,?)\n",
    "    # A final classifier\n",
    "    nn.Flatten(),\n",
    "    nn.Linear(in_features=4 * 4 * 64, out_features=256), # do you understand why 4 * 4 * 64 ?\n",
    "    nn.ReLU(),\n",
    "    nn.Dropout(p=0.25),\n",
    "    nn.Linear(in_features=256, out_features=64),\n",
    "    nn.ReLU(),\n",
    "    nn.Dropout(p=0.25),\n",
    "    nn.Linear(in_features=64, out_features=1),\n",
    "    nn.Sigmoid(),\n",
    ")\n",
    "```\n",
    "\n",
    "**Questions**\n",
    "\n",
    "Knowing that the input image size is (3,64,64), go through the model step by step,\n",
    "\n",
    "Can you fill the blanks for the shapes ?\n",
    "\n",
    "Do you understand why ? "
   ]
  },
  {
   "cell_type": "code",
   "execution_count": null,
   "id": "fe2b3b96",
   "metadata": {
    "colab": {
     "base_uri": "https://localhost:8080/"
    },
    "id": "hd06b1EnC1yh",
    "outputId": "039eb3c0-b120-4288-e404-f1e70bb76a48"
   },
   "outputs": [],
   "source": [
    "# Let's test this !\n",
    "\n",
    "some_model = nn.Sequential(\n",
    "    nn.Conv2d(in_channels=3, out_channels=16, kernel_size=3),\n",
    "    nn.ReLU(),\n",
    "    nn.Conv2d(in_channels=16, out_channels=16, kernel_size=3),\n",
    "    nn.ReLU(),\n",
    "    nn.MaxPool2d(2),\n",
    "    # Another stack of these\n",
    "    nn.Conv2d(in_channels=16, out_channels=32, kernel_size=3),\n",
    "    nn.ReLU(),\n",
    "    nn.Conv2d(in_channels=32, out_channels=32, kernel_size=3),\n",
    "    nn.ReLU(),\n",
    "    nn.MaxPool2d(2),\n",
    "    # Another stack of these\n",
    "    nn.Conv2d(in_channels=32, out_channels=64, kernel_size=3),\n",
    "    nn.ReLU(),\n",
    "    nn.Conv2d(in_channels=64, out_channels=64, kernel_size=3),\n",
    "    nn.ReLU(),\n",
    "    nn.MaxPool2d(2),\n",
    "    # A final classifier\n",
    "    nn.Flatten(),\n",
    "    nn.Linear(in_features=4 * 4 * 64, out_features=256),\n",
    "    nn.ReLU(),\n",
    "    nn.Dropout(p=0.25),\n",
    "    nn.Linear(in_features=256, out_features=64),\n",
    "    nn.ReLU(),\n",
    "    nn.Dropout(p=0.25),\n",
    "    nn.Linear(in_features=64, out_features=1),\n",
    "    nn.Sigmoid(),\n",
    ")\n",
    "\n",
    "x = torch.rand((16, 3, 64, 64))  # We define an input of dimensions batch_size, channels, height, width\n",
    "\n",
    "y = some_model(x)\n",
    "\n",
    "print(y.shape)\n",
    "\n",
    "# let's delete the model now, we won't need it\n",
    "\n",
    "del some_model"
   ]
  },
  {
   "cell_type": "markdown",
   "id": "192f803e",
   "metadata": {
    "id": "YPpPpXwZC1yh"
   },
   "source": [
    "Do it yourself !"
   ]
  },
  {
   "cell_type": "code",
   "execution_count": null,
   "id": "fb7ccc84",
   "metadata": {
    "colab": {
     "base_uri": "https://localhost:8080/",
     "height": 398
    },
    "id": "d5nx-e0VC1yh",
    "outputId": "b4f8293d-996e-4e95-bcbc-0442c991ebbe"
   },
   "outputs": [],
   "source": [
    "# Let's define another model, except this time there are blanks ... it's up to you to fill them\n",
    "\n",
    "\n",
    "def model_fn():\n",
    "    model = nn.Sequential(\n",
    "        # A first convolution block\n",
    "        nn.Conv2d(in_channels=3, out_channels=16, kernel_size=3),\n",
    "        nn.ReLU(),\n",
    "        nn.Conv2d(in_channels=..., out_channels=16, kernel_size=3),\n",
    "        nn.ReLU(),\n",
    "        nn.MaxPool2d(2),\n",
    "        # Another stack of these\n",
    "        nn.Conv2d(in_channels=..., out_channels=32, kernel_size=3),\n",
    "        nn.ReLU(),\n",
    "        nn.Conv2d(in_channels=..., out_channels=..., kernel_size=3),\n",
    "        nn.ReLU(),\n",
    "        nn.Conv2d(in_channels=32, out_channels=32, kernel_size=3),\n",
    "        nn.ReLU(),\n",
    "        nn.MaxPool2d(2),\n",
    "        # A final classifier\n",
    "        nn.Flatten(),\n",
    "        nn.Linear(in_features=... * ... * ..., out_features=64),\n",
    "        nn.ReLU(),\n",
    "        nn.Dropout(p=0.1),\n",
    "        nn.Linear(in_features=64, out_features=1),\n",
    "        nn.Sigmoid(),\n",
    "    )\n",
    "\n",
    "    return model\n",
    "\n",
    "\n",
    "model = model_fn()\n",
    "\n",
    "print(model)\n",
    "\n",
    "x = torch.rand((16, 3, 64, 64))  # We define an input of dimensions batch_size, channels, height, width\n",
    "\n",
    "print(x.shape)\n",
    "\n",
    "y = model(x)\n",
    "\n",
    "print(y.shape)\n",
    "\n",
    "# THIS CELL SHOULD NOT GIVE AN ERROR !"
   ]
  },
  {
   "cell_type": "markdown",
   "id": "a018981a",
   "metadata": {
    "id": "nxb-JeDnC1yk"
   },
   "source": [
    "Hint: The answer (and there can only be one) is :\n",
    "\n",
    "```python\n",
    "model = nn.Sequential(\n",
    "    # A first convolution block\n",
    "    nn.Conv2d(in_channels=3, out_channels=16, kernel_size=3),\n",
    "    nn.ReLU(),\n",
    "    nn.Conv2d(in_channels=16, out_channels=16, kernel_size=3),\n",
    "    nn.ReLU(),\n",
    "    nn.MaxPool2d(2),\n",
    "    # Another stack of these\n",
    "    nn.Conv2d(in_channels=16, out_channels=32, kernel_size=3),\n",
    "    nn.ReLU(),\n",
    "    nn.Conv2d(in_channels=32, out_channels=32, kernel_size=3),\n",
    "    nn.ReLU(),\n",
    "    nn.Conv2d(in_channels=32, out_channels=32, kernel_size=3),\n",
    "    nn.ReLU(),\n",
    "    nn.MaxPool2d(2),\n",
    "    # A final classifier\n",
    "    nn.Flatten(),\n",
    "    nn.Linear(in_features=12 * 12 * 32, out_features=64),\n",
    "    nn.ReLU(),\n",
    "    nn.Dropout(p=0.1),\n",
    "    nn.Linear(in_features=64, out_features=1),\n",
    "    nn.Sigmoid(),\n",
    ")\n",
    "```\n",
    "\n",
    "You should be able to understand this"
   ]
  },
  {
   "cell_type": "code",
   "execution_count": null,
   "id": "5e32015e",
   "metadata": {
    "colab": {
     "base_uri": "https://localhost:8080/"
    },
    "id": "DAv9FrjAC1yl",
    "outputId": "6b42440f-8806-41e3-dc97-ecb499de36bd"
   },
   "outputs": [],
   "source": [
    "# moving model to gpu if available\n",
    "model = model.to(DEVICE)"
   ]
  },
  {
   "cell_type": "markdown",
   "id": "3a96c770",
   "metadata": {
    "id": "LhpN-UNfC1yl"
   },
   "source": [
    "### Defining our loss and optimizer\n",
    "\n",
    "Check the definition of the binary cross entropy:\n",
    "\n",
    "https://pytorch.org/docs/stable/generated/torch.nn.BCELoss.html#torch.nn.BCELoss"
   ]
  },
  {
   "cell_type": "code",
   "execution_count": null,
   "id": "8e2bf056",
   "metadata": {
    "id": "6w1BHLnoC1ym"
   },
   "outputs": [],
   "source": [
    "criterion = nn.BCELoss(reduction=\"mean\")\n",
    "optimizer = optim.SGD(model.parameters(), lr=1e-2)"
   ]
  },
  {
   "cell_type": "markdown",
   "id": "ebe7afde",
   "metadata": {
    "id": "8d1qaMZ8C1ym"
   },
   "source": [
    "## Training with pytorch\n",
    "\n",
    "We will actually train the model, and plot training & validation metrics during training"
   ]
  },
  {
   "cell_type": "code",
   "execution_count": null,
   "id": "9b1fb004",
   "metadata": {
    "id": "xfP8tBSMC1yn"
   },
   "outputs": [],
   "source": [
    "def train_one_epoch(model, train_loader):\n",
    "\n",
    "    epoch_loss = []\n",
    "\n",
    "    for i, batch in enumerate(train_loader):\n",
    "\n",
    "        # get one batch\n",
    "        x, y_true = batch\n",
    "        x = x.to(DEVICE)\n",
    "        y_true = y_true.to(DEVICE)\n",
    "\n",
    "        # format the y_true so that it is compatible with the loss\n",
    "        y_true = y_true.view((-1, 1)).float()\n",
    "\n",
    "        # zero the parameter gradients\n",
    "        optimizer.zero_grad()\n",
    "\n",
    "        # forward\n",
    "        y_pred = model(x)\n",
    "\n",
    "        # compute loss\n",
    "        loss = criterion(y_pred, y_true)\n",
    "\n",
    "        # backward\n",
    "        loss.backward()\n",
    "\n",
    "        # update parameters\n",
    "        optimizer.step()\n",
    "\n",
    "        # save statistics\n",
    "        epoch_loss.append(loss.item())\n",
    "\n",
    "        if i % 10 == 0:\n",
    "            print(f\"Batch {i}, curr loss = {loss.item():.03f}\")\n",
    "\n",
    "    return np.asarray(epoch_loss).mean()\n",
    "\n",
    "\n",
    "def valid_one_epoch(model, valid_loader):\n",
    "\n",
    "    epoch_loss = []\n",
    "\n",
    "    for i, batch in enumerate(valid_loader):\n",
    "        with torch.no_grad():\n",
    "            # get one batch\n",
    "            x, y_true = batch\n",
    "            x = x.to(DEVICE)\n",
    "            y_true = y_true.to(DEVICE)\n",
    "\n",
    "            # format the y_true so that it is compatible with the loss\n",
    "            y_true = y_true.view((-1, 1)).float()\n",
    "\n",
    "            # forward\n",
    "            y_pred = model(x)\n",
    "\n",
    "            # compute loss\n",
    "            loss = criterion(y_pred, y_true)\n",
    "\n",
    "            # save statistics\n",
    "            epoch_loss.append(loss.item())\n",
    "\n",
    "    return np.asarray(epoch_loss).mean()"
   ]
  },
  {
   "cell_type": "code",
   "execution_count": null,
   "id": "8f60dc9a",
   "metadata": {
    "colab": {
     "base_uri": "https://localhost:8080/"
    },
    "id": "6fwFxOOFGQkZ",
    "outputId": "a6da7c86-8233-4257-cf0f-86d6ff13ea88"
   },
   "outputs": [],
   "source": [
    "EPOCHS = 10  # Set number of epochs, example 100\n",
    "\n",
    "# Send model to GPU\n",
    "model = model.to(DEVICE)\n",
    "\n",
    "train_losses = []\n",
    "valid_losses = []\n",
    "\n",
    "# loop over the dataset multiple times\n",
    "for epoch in range(EPOCHS):\n",
    "    model.train()\n",
    "    train_epoch_loss = train_one_epoch(model, train_loader)\n",
    "    model.eval()\n",
    "    valid_epoch_loss = valid_one_epoch(model, val_loader)\n",
    "\n",
    "    print(f\"EPOCH={epoch}, TRAIN={train_epoch_loss}, VAL={valid_epoch_loss}\")\n",
    "\n",
    "    train_losses.append(train_epoch_loss)\n",
    "    valid_losses.append(valid_epoch_loss)"
   ]
  },
  {
   "cell_type": "code",
   "execution_count": null,
   "id": "c65952c1",
   "metadata": {
    "colab": {
     "base_uri": "https://localhost:8080/",
     "height": 279
    },
    "id": "sFTlE66MC1yo",
    "outputId": "3f24cd80-7722-4228-e74e-7b4e2759fcb1"
   },
   "outputs": [],
   "source": [
    "# Plot training / validation loss\n",
    "plt.plot(train_losses, label=\"Training Loss\")\n",
    "plt.plot(valid_losses, label=\"Validation Loss\")\n",
    "plt.xlabel(\"No. of Epochs\")\n",
    "plt.ylabel(\"Loss\")\n",
    "plt.legend(frameon=False)\n",
    "plt.show()"
   ]
  },
  {
   "cell_type": "markdown",
   "id": "a266ce55",
   "metadata": {},
   "source": [
    "Save the model"
   ]
  },
  {
   "cell_type": "code",
   "execution_count": null,
   "id": "90cc7905",
   "metadata": {},
   "outputs": [],
   "source": [
    "with open(\"model.pt\", \"wb\") as f:\n",
    "    torch.save(model.state_dict(), f)"
   ]
  },
  {
   "cell_type": "markdown",
   "id": "5986f8d5",
   "metadata": {
    "id": "VqMkcDroC1yp"
   },
   "source": [
    "Now, clear the model from memory"
   ]
  },
  {
   "cell_type": "code",
   "execution_count": null,
   "id": "4d99bef8",
   "metadata": {
    "id": "btrb85LmC1yp"
   },
   "outputs": [],
   "source": [
    "del model"
   ]
  },
  {
   "cell_type": "markdown",
   "id": "b8bedfd1",
   "metadata": {
    "id": "QW5XvyyZC1yq"
   },
   "source": [
    "## Testing our models and computing metrics\n",
    "\n",
    "Now that we have a trained network, it is important to measure how well it performs. We do not do that during training because theoretically we try to test on a context closer to how the final model will be used, meaning this can be another pipeline and is usually outside the training engine.\n",
    "\n",
    "You can refer to your ML course or on resources on the web to see how we can measure it."
   ]
  },
  {
   "cell_type": "markdown",
   "id": "5ea5b129",
   "metadata": {
    "id": "g0TldNDQC1yq"
   },
   "source": [
    "### Loading saved model"
   ]
  },
  {
   "cell_type": "code",
   "execution_count": null,
   "id": "ed04c43f",
   "metadata": {
    "id": "Q-kCmgWEC1yr"
   },
   "outputs": [],
   "source": [
    "# Instantiate a new empty model\n",
    "model = model_fn()\n",
    "\n",
    "print(model)\n",
    "\n",
    "# Load state\n",
    "checkpoint_path = \"model.pt\"\n",
    "model.load_state_dict(torch.load(checkpoint_path))\n",
    "\n",
    "print(\"Model Loaded\")"
   ]
  },
  {
   "cell_type": "markdown",
   "id": "0626969f",
   "metadata": {
    "id": "a-rbNh7qC1yr"
   },
   "source": [
    "### Inferencing on the test dataset\n",
    "\n",
    "Now we will run predictions on the test dataset using the newly loaded model"
   ]
  },
  {
   "cell_type": "code",
   "execution_count": null,
   "id": "06b30845",
   "metadata": {
    "id": "LjlrKEEOC1yr"
   },
   "outputs": [],
   "source": [
    "test_ds = NpArrayDataset(\n",
    "    images=test_images, labels=test_labels, image_transforms=image_transforms, label_transforms=target_transforms\n",
    ")"
   ]
  },
  {
   "cell_type": "code",
   "execution_count": null,
   "id": "78832b19",
   "metadata": {
    "id": "Jf3oIRA4C1yr"
   },
   "outputs": [],
   "source": [
    "import tqdm"
   ]
  },
  {
   "cell_type": "code",
   "execution_count": null,
   "id": "c49674ec",
   "metadata": {
    "id": "VWM757ggC1ys"
   },
   "outputs": [],
   "source": [
    "y_true = []\n",
    "y_pred = []\n",
    "\n",
    "# Send model to correct device\n",
    "model.to(DEVICE)\n",
    "\n",
    "# Put model in evaluatio mode (very important)\n",
    "model.eval()\n",
    "\n",
    "# Disable all gradients things\n",
    "with torch.no_grad():\n",
    "    for x, y_t in tqdm.tqdm(test_ds, \"predicting\"):\n",
    "        x = x.reshape((-1,) + x.shape)\n",
    "        x = x.to(DEVICE)\n",
    "        y = model.forward(x)\n",
    "        y = y.to(\"cpu\").numpy()\n",
    "\n",
    "        y_t = int(y_t.to(\"cpu\").numpy())\n",
    "\n",
    "        y_pred.append(y)\n",
    "        y_true.append(y_t)\n",
    "y_pred = np.concatenate(y_pred, axis=0)\n",
    "y_true = np.asarray(y_true)"
   ]
  },
  {
   "cell_type": "code",
   "execution_count": null,
   "id": "795ba069",
   "metadata": {
    "id": "awHUQ2KxC1ys"
   },
   "outputs": [],
   "source": [
    "print(y_pred.shape)\n",
    "\n",
    "print(y_pred[4])"
   ]
  },
  {
   "cell_type": "code",
   "execution_count": null,
   "id": "a348b2c4",
   "metadata": {
    "id": "aGqeE1UJC1ys"
   },
   "outputs": [],
   "source": [
    "y_pred_classes = y_pred[:, 0] > 0.5"
   ]
  },
  {
   "cell_type": "markdown",
   "id": "08f7fa88",
   "metadata": {
    "id": "wMuCtss8C1ys"
   },
   "source": [
    "### Confusion matrix\n",
    "Here, we are first computing the [confusion matrix]():"
   ]
  },
  {
   "cell_type": "code",
   "execution_count": null,
   "id": "2d2c0cab",
   "metadata": {
    "id": "QSq5-t7dC1yt"
   },
   "outputs": [],
   "source": [
    "from sklearn.metrics import ConfusionMatrixDisplay, confusion_matrix\n",
    "\n",
    "print(\"Confusion matrix\")\n",
    "cm = confusion_matrix(y_true, y_pred_classes)\n",
    "\n",
    "disp = ConfusionMatrixDisplay(confusion_matrix=cm, display_labels=[\"background\", \"aircraft\"])\n",
    "\n",
    "disp.plot()\n",
    "plt.show()"
   ]
  },
  {
   "cell_type": "markdown",
   "id": "8ca067d9",
   "metadata": {
    "id": "Ao41bfOuC1yt",
    "tags": []
   },
   "source": [
    "### ROC curve\n",
    "\n",
    "The next metric we are computing is the [Receiver Operating Characteristic](https://scikit-learn.org/stable/auto_examples/model_selection/plot_roc.html). A receiver operating characteristic curve, or ROC curve, is a graphical plot that illustrates the diagnostic ability of a binary classifier system as its discrimination threshold is varied. The method was originally developed for operators of military radar receivers starting in 1941, which led to its name. \n",
    "\n",
    "![](https://upload.wikimedia.org/wikipedia/commons/thumb/1/13/Roc_curve.svg/512px-Roc_curve.svg.png)\n",
    "\n",
    "![](http://algolytics.com/wp-content/uploads/2018/05/roc1_en.png)\n",
    "\n",
    "It is used to choose a threshold on the output probability in case you are interesting in controling the false positive rate."
   ]
  },
  {
   "cell_type": "code",
   "execution_count": null,
   "id": "4cb4b084",
   "metadata": {
    "id": "sEj4ZBgTC1yt"
   },
   "outputs": [],
   "source": [
    "# Compute ROC curve and Area Under Curver\n",
    "\n",
    "from sklearn.metrics import auc, roc_curve\n",
    "\n",
    "# We round predictions for better readability\n",
    "y_pred_probas = np.round(y_pred[:, 0], 2)\n",
    "\n",
    "fpr, tpr, thresholds = roc_curve(y_true, y_pred_probas)\n",
    "roc_auc = auc(fpr, tpr)"
   ]
  },
  {
   "cell_type": "code",
   "execution_count": null,
   "id": "435ccddb",
   "metadata": {
    "id": "KGD6ukiMC1yu"
   },
   "outputs": [],
   "source": [
    "plt.figure()\n",
    "lw = 2\n",
    "plt.plot(fpr, tpr, color=\"darkorange\", lw=lw, label=\"ROC curve (area = %0.2f)\" % roc_auc)\n",
    "plt.plot([0, 1], [0, 1], color=\"navy\", lw=lw, linestyle=\"--\")\n",
    "plt.xlim([0.0, 1.0])\n",
    "plt.ylim([0.0, 1.05])\n",
    "plt.xlabel(\"False Positive Rate\")\n",
    "plt.ylabel(\"True Positive Rate\")\n",
    "plt.title(\"Receiver operating characteristic example\")\n",
    "plt.legend(loc=\"lower right\")\n",
    "plt.show()"
   ]
  },
  {
   "cell_type": "markdown",
   "id": "55ae477d",
   "metadata": {},
   "source": [
    "### Using the ROC curve to select an optimal threshold\n",
    "\n",
    "The ROC curve can be used to select the best decision threshold for classifying an aircraft as positive.\n",
    "\n",
    "Plot the ROC curve with thresholds assigned to points in the curve (you can round the predictions for a simpler curve)"
   ]
  },
  {
   "cell_type": "code",
   "execution_count": null,
   "id": "b72269f9",
   "metadata": {
    "tags": []
   },
   "outputs": [],
   "source": [
    "# We round predictions every 0.05 for readability\n",
    "y_pred_probas = (y_pred[:, 0] / 0.05).astype(np.int) * 0.05\n",
    "\n",
    "fpr, tpr, thresholds = roc_curve(y_true, y_pred_probas)\n",
    "roc_auc = auc(fpr, tpr)\n",
    "\n",
    "plt.clf()\n",
    "fig = plt.figure(figsize=(10, 10))\n",
    "plt.step(fpr, tpr, \"bo\", alpha=0.2, where=\"post\")\n",
    "plt.fill_between(fpr, tpr, alpha=0.2, color=\"b\", step=\"post\")\n",
    "\n",
    "plt.xlabel(\"False Positive Rate\")\n",
    "plt.ylabel(\"True Positive Rate\")\n",
    "plt.ylim([0.0, 1.05])\n",
    "plt.xlim([0.0, 1.0])\n",
    "plt.title(\"2-class ROC curve: AUC={:0.2f}\".format(roc_auc))\n",
    "plt.plot([0, 1], [0, 1], color=\"darkblue\", linestyle=\"--\")\n",
    "\n",
    "for tp, fp, t in zip(tpr, fpr, thresholds):\n",
    "    plt.annotate(\n",
    "        np.round(t, 2),\n",
    "        xy=(fp, tp),\n",
    "        xytext=(fp - 0.05, tp - 0.05),\n",
    "        arrowprops=dict(arrowstyle=\"->\", connectionstyle=\"arc3\"),\n",
    "    )\n",
    "plt.savefig(\"roc_curve_thresholds.png\")\n",
    "plt.show()"
   ]
  },
  {
   "cell_type": "markdown",
   "id": "bf116bb1",
   "metadata": {},
   "source": [
    "Now, choose a threshold on the curve where you miss less than 10% of the aircrafts"
   ]
  },
  {
   "cell_type": "code",
   "execution_count": null,
   "id": "b7dd9d28",
   "metadata": {},
   "outputs": [],
   "source": [
    "selected_threshold = ...\n",
    "\n",
    "print(\"Confusion matrix\")\n",
    "\n",
    "y_pred_classes = y_pred_probas > selected_threshold\n",
    "\n",
    "cm = confusion_matrix(y_true, y_pred_classes)\n",
    "\n",
    "disp = ConfusionMatrixDisplay(confusion_matrix=cm, display_labels=[\"background\", \"aircraft\"])\n",
    "\n",
    "disp.plot()\n",
    "plt.show()\n",
    "\n",
    "# How did the confusion matrix evolve ? Does it match your intuition ?"
   ]
  },
  {
   "cell_type": "markdown",
   "id": "84387a8e",
   "metadata": {
    "id": "ql5f8eLHC1yu"
   },
   "source": [
    "### Misclassified examples\n",
    "\n",
    "It is always interesting to check mis classified examples.\n",
    "\n",
    "It usually provides tips on how to improve your model."
   ]
  },
  {
   "cell_type": "code",
   "execution_count": null,
   "id": "c60f4120",
   "metadata": {
    "id": "Z0wvNDzmC1yv"
   },
   "outputs": [],
   "source": [
    "misclassified_idxs = np.where(y_pred_classes != y_true)[0]\n",
    "\n",
    "print(len(misclassified_idxs))\n",
    "\n",
    "print(misclassified_idxs)\n",
    "\n",
    "misclassified_images = test_images[misclassified_idxs]\n",
    "misclassified_true_labels = test_labels[misclassified_idxs]\n",
    "misclassified_pred_labels = y_pred_classes[misclassified_idxs]\n",
    "\n",
    "grid_size = 4\n",
    "grid = np.zeros((grid_size * 64, grid_size * 64, 3)).astype(np.uint8)\n",
    "for i in range(grid_size):\n",
    "    for j in range(grid_size):\n",
    "        img = np.copy(misclassified_images[i * grid_size + j])\n",
    "        pred = np.copy(misclassified_pred_labels[i * grid_size + j])\n",
    "        color = (0, 255, 0) if pred == 1 else (255, 0, 0)\n",
    "        tile = cv2.rectangle(img, (0, 0), (64, 64), color, thickness=2)\n",
    "        grid[i * 64 : (i + 1) * 64, j * 64 : (j + 1) * 64, :] = img\n",
    "\n",
    "fig = plt.figure(figsize=(10, 10))\n",
    "ax = fig.add_subplot(1, 1, 1)\n",
    "ax.imshow(grid)\n",
    "plt.show()"
   ]
  },
  {
   "cell_type": "markdown",
   "id": "94d295c6",
   "metadata": {
    "id": "-DDeFy4cC1yv"
   },
   "source": [
    "## Improving our training / validation loop\n",
    "\n",
    "We will add more advanced features to our training loop for better models\n",
    "\n",
    "Copy the train / valid loop and update it accordingly"
   ]
  },
  {
   "cell_type": "markdown",
   "id": "078e9666",
   "metadata": {},
   "source": [
    "### Computing accuracy during training / validation\n",
    "\n",
    "Update the `valid_one_epoch` to compute accuracy during during the validation loop, and plot its evolution during training\n",
    "\n",
    "Use the ROC curve computation where we compute the pred / true classes as inspiration\n",
    "\n",
    "Here's an example (that needs to be modified)\n",
    "```python\n",
    "\n",
    "correct_pred = 0\n",
    "total_pred = 0\n",
    "with torch.no_grad():\n",
    "    for data in valid_loader:\n",
    "        images, labels = data\n",
    "        outputs = net(images)\n",
    "        predictions = torch.round(outputs)[:,0]\n",
    "        # collect the correct predictions\n",
    "        for label, prediction in zip(labels, predictions):\n",
    "            if label == prediction:\n",
    "                correct_pred += 1\n",
    "            total_pred += 1\n",
    "            \n",
    "    # print accuracy\n",
    "    accuracy = 100 * (total_pred / total_pred)\n",
    "    print(\"Accuracy is: {:.1f} %\".format(accuracy))\n",
    "\n",
    "```                                             "
   ]
  },
  {
   "cell_type": "markdown",
   "id": "d982a41b",
   "metadata": {},
   "source": [
    "### Best checkpoint\n",
    "\n",
    "You've seen how to save model checkpoint. However we saved the model at the end of training. What if there is an issue (like overfitting ? or our computer crashes !!!) ? \n",
    "\n",
    "How to keep a good copy of our model at any point ? \n",
    "\n",
    "The idea is that during the training, we always save the checkpoint with the lowest valid loss.\n",
    "\n",
    "**Modify the train loop to keep the best model state dict at any point**\n"
   ]
  },
  {
   "cell_type": "code",
   "execution_count": null,
   "id": "0b103bd9",
   "metadata": {},
   "outputs": [],
   "source": [
    "# Here"
   ]
  },
  {
   "cell_type": "markdown",
   "id": "c65b34b3",
   "metadata": {
    "id": "84qzXDMGC1yw"
   },
   "source": [
    "### Early stopping\n",
    "\n",
    "You've seen that it is possible to overfit it you're not careful,\n",
    "\n",
    "**Go back to your previous class and adapt the training loop to add early stopping**"
   ]
  },
  {
   "cell_type": "code",
   "execution_count": null,
   "id": "da3f9d2c",
   "metadata": {
    "id": "NW7rLbdGC1yx"
   },
   "outputs": [],
   "source": [
    "# Here"
   ]
  },
  {
   "cell_type": "markdown",
   "id": "f7128b67",
   "metadata": {
    "id": "4XRzekUGC1yy"
   },
   "source": [
    "### Data Augmentation\n",
    "\n",
    "\n",
    "One technique for training CNNs on images is to put your training data through data augmentation to generate similar-but-different examples to make your network more robust.\n",
    "\n",
    "You can generate \"augmented images\" on the fly or use composition to generate data\n",
    "\n",
    "- We are going to wrap our numpy arrays with `torch.utils.data.Dataset` class\n",
    "\n",
    "https://pytorch.org/tutorials/beginner/data_loading_tutorial.html#dataset-class\n",
    "\n",
    "- Here is how we use torch Compose to augment data\n",
    "\n",
    "https://pytorch.org/docs/stable/torchvision/transforms.html\n",
    "\n",
    "https://pytorch.org/tutorials/beginner/data_loading_tutorial.html#compose-transforms\n",
    "\n",
    "Note: This step requires a bit of tinkering from numpy arrays to torch datasets, it's fine if you skip it. For the next notebook it may prove a useful way of gaining performance\n",
    "\n",
    "**Remember : We apply data augmentation only during training**\n"
   ]
  },
  {
   "cell_type": "code",
   "execution_count": null,
   "id": "a37f2392",
   "metadata": {
    "id": "ua4UQAZWC1yy"
   },
   "outputs": [],
   "source": [
    "import torch.functional as F\n",
    "import torch.utils\n",
    "import torchvision.transforms"
   ]
  },
  {
   "cell_type": "code",
   "execution_count": null,
   "id": "bc287145",
   "metadata": {
    "id": "em78uFlnC1yy"
   },
   "outputs": [],
   "source": [
    "# Example (very simple) data augmentation to get your started, you can add more transforms to this list\n",
    "\n",
    "train_transform = torchvision.transforms.Compose(\n",
    "    [\n",
    "        torchvision.transforms.ToPILImage(),\n",
    "        torchvision.transforms.RandomHorizontalFlip(p=0.5),\n",
    "        torchvision.transforms.RandomVerticalFlip(p=0.5),\n",
    "        torchvision.transforms.ToTensor(),\n",
    "        torchvision.transforms.Normalize(mean, std),\n",
    "    ]\n",
    ")"
   ]
  },
  {
   "cell_type": "code",
   "execution_count": null,
   "id": "8ba018b8",
   "metadata": {
    "id": "5yPlhQbzC1yy"
   },
   "outputs": [],
   "source": [
    "trainset_augmented = NpArrayDataset(\n",
    "    images=train_images, labels=train_labels, image_transforms=train_transform, label_transforms=None\n",
    ")"
   ]
  },
  {
   "cell_type": "code",
   "execution_count": null,
   "id": "81c2871c",
   "metadata": {
    "id": "MeKVDcHrC1yz"
   },
   "outputs": [],
   "source": [
    "# Get image from dataset. Note: it has been converted as a torch tensor in CHW format in float32 normalized !\n",
    "img, label = trainset_augmented[0]\n",
    "img = img.numpy().transpose((1, 2, 0)) * std + mean\n",
    "img = img.clip(0.0, 1.0)\n",
    "img = (img * 255.0).astype(np.uint8)\n",
    "plt.imshow(img)\n",
    "plt.show()\n",
    "\n",
    "# Compare effects of data augmentation\n",
    "img_orig = trainset_augmented.images[0]\n",
    "plt.imshow(img_orig)\n",
    "plt.show()"
   ]
  },
  {
   "cell_type": "code",
   "execution_count": null,
   "id": "144aea65",
   "metadata": {
    "id": "ej7Jb0SNC1yz"
   },
   "outputs": [],
   "source": [
    "# do another training and plot our metrics again. Did we change something ?"
   ]
  },
  {
   "cell_type": "markdown",
   "id": "d6bd9262",
   "metadata": {},
   "source": [
    "### [Optional] ReduceLR On Plateau\n",
    "\n",
    "Sometimes it's best to reduce the learning rate if you stop improving\n",
    "\n",
    "Tutorial : https://www.deeplearningwizard.com/deep_learning/boosting_models_pytorch/lr_scheduling/#reduce-on-loss-plateau-decay"
   ]
  },
  {
   "cell_type": "code",
   "execution_count": null,
   "id": "c0468f22",
   "metadata": {},
   "outputs": [],
   "source": []
  },
  {
   "cell_type": "markdown",
   "id": "69baada5",
   "metadata": {},
   "source": [
    "## [Optional] Hyperparameter Tuning\n",
    "\n",
    "If you're done with this, you can explore a little bit more : Now that we have a nice training loop we can do hyperparameter tuning !\n",
    "\n",
    "As you can see, there are a lot of parameters we can choose:\n",
    "\n",
    "- the optimizer\n",
    "- the learning rate\n",
    "- the model architecture\n",
    " \n",
    "etc... !"
   ]
  },
  {
   "cell_type": "markdown",
   "id": "a02894e0",
   "metadata": {},
   "source": [
    "### Optimizer Changes\n",
    "Change the optimizer from SGD to optim.Adam. Is it better ? "
   ]
  },
  {
   "cell_type": "code",
   "execution_count": null,
   "id": "da781ee4",
   "metadata": {},
   "outputs": [],
   "source": [
    "# HERE"
   ]
  },
  {
   "cell_type": "markdown",
   "id": "141f2555",
   "metadata": {},
   "source": [
    "### Batch Normalization\n",
    "\n",
    "One of the most used \"layer\" beyond conv / pool / relu is \"batch normalization\",\n",
    "\n",
    "http://d2l.ai/chapter_convolutional-modern/batch-norm.html\n",
    "\n",
    "Try adding it to your network and see what happens !\n",
    "\n",
    "```python\n",
    "def model_fn():\n",
    "    model = nn.Sequential(\n",
    "        # A first convolution block\n",
    "        nn.Conv2d(in_channels=3, out_channels=16, kernel_size=3),\n",
    "        nn.BatchNorm2d(16),\n",
    "        nn.ReLU(),\n",
    "        nn.Conv2d(in_channels=16, out_channels=16, kernel_size=3),\n",
    "        nn.BatchNorm2d(16),\n",
    "        nn.ReLU(),\n",
    "        nn.MaxPool2d(2),\n",
    "        # Another stack of these\n",
    "        nn.Conv2d(in_channels=16, out_channels=32, kernel_size=3),\n",
    "        nn.BatchNorm2d(32),\n",
    "        nn.ReLU(),\n",
    "        nn.Conv2d(in_channels=32, out_channels=32, kernel_size=3),\n",
    "        nn.BatchNorm2d(32),\n",
    "        nn.ReLU(),\n",
    "        nn.Conv2d(in_channels=32, out_channels=32, kernel_size=3),\n",
    "        nn.BatchNorm2d(32),\n",
    "        nn.ReLU(),\n",
    "        nn.MaxPool2d(2),\n",
    "        # A final classifier\n",
    "        nn.Flatten(),\n",
    "        nn.Linear(in_features=12 * 12 * 32, out_features=64),\n",
    "        nn.BatchNorm1d(64),\n",
    "        nn.ReLU(),\n",
    "        nn.Dropout(p=0.1),\n",
    "        nn.Linear(in_features=64, out_features=1),\n",
    "        nn.Sigmoid(),\n",
    "    )\n",
    "\n",
    "    return model\n",
    "```"
   ]
  },
  {
   "cell_type": "markdown",
   "id": "cd3dd44e",
   "metadata": {
    "id": "xUlVYFuPC1yz"
   },
   "source": [
    "### Trying other models\n",
    "\n",
    "You have seen a class on different model structure,\n",
    "https://supaerodatascience.github.io/deep-learning/slides/2_architectures.html#/\n",
    "\n",
    "Now is the time to try and implement them. For example, try to write a VGG-11 with fewer filters by yourself... or a very small resnet using [this](https://github.com/a-martyn/resnet/blob/master/resnet.py) as inspiration\n",
    "\n",
    "You can also use models from [torchvision](https://pytorch.org/docs/stable/torchvision/models.html#classification) in your loop, or as inspiration\n"
   ]
  },
  {
   "cell_type": "markdown",
   "id": "9f4fddf0",
   "metadata": {
    "id": "L5vTgr9OC1yz"
   },
   "source": [
    "**Modify the model structure and launch another training... Is it better ?**"
   ]
  },
  {
   "cell_type": "code",
   "execution_count": null,
   "id": "b21c807c",
   "metadata": {},
   "outputs": [],
   "source": [
    "# HERE"
   ]
  },
  {
   "cell_type": "markdown",
   "id": "5427e561",
   "metadata": {},
   "source": [
    "### Transfer Learning\n",
    "\n",
    "For usual tasks such as classification or detection, we use \"transfer learning\":\n",
    "\n",
    "    In practice, very few people train an entire Convolutional Network from scratch (with random initialization), because it is relatively rare to have a dataset of sufficient size. Instead, it is common to pretrain a ConvNet on a very large dataset (e.g. ImageNet, which contains 1.2 million images with 1000 categories), and then use the ConvNet either as an initialization or a fixed feature extractor for the task of interest.\n",
    "    \n",
    "Adapt this tutorial to do transfer learning from a network available in torchvision to our use case\n",
    "\n",
    "https://pytorch.org/tutorials/beginner/transfer_learning_tutorial.html\n",
    "\n",
    "I advise you to select resnet18\n",
    "\n",
    "The biggest library of pretrained models is available here :\n",
    "\n",
    "https://github.com/rwightman/pytorch-image-models"
   ]
  },
  {
   "cell_type": "code",
   "execution_count": null,
   "id": "ec3fd18e",
   "metadata": {},
   "outputs": [],
   "source": []
  },
  {
   "cell_type": "markdown",
   "id": "38aefa68",
   "metadata": {
    "id": "kGeb1jfrC1y0"
   },
   "source": [
    "## [Optional] Next steps before the next notebooks\n",
    "\n",
    "- Try to play with network hyperparameters. The dataset is small and allow fast iterations so use it to have an idea on hyperparameter sensitivity.\n",
    "    number of convolutions, other network structures, learning rates, optimizers,...\n",
    "\n",
    "- Example: Compare again SGD and ADAM\n",
    "\n",
    "- Try to use the ROC curve to select a threshold to filter only negative examples without losing any positive examples\n",
    "\n",
    "When you are done with the warmup, go to the next notebook. But remember that next datasets will be larger and you will not have the time (trainings will take longer ) to experiment on hyperparameters.\n",
    "\n",
    "**Try more things before going to the next notebook**"
   ]
  },
  {
   "cell_type": "code",
   "execution_count": null,
   "id": "c51f19a4",
   "metadata": {
    "id": "PE1sArquC1y0"
   },
   "outputs": [],
   "source": []
  },
  {
   "cell_type": "markdown",
   "id": "4d4f9d33",
   "metadata": {
    "id": "HO3KmuKCC1y0"
   },
   "source": [
    "## [Optional] Food for thoughts: Tooling\n",
    "\n",
    "To conclude this notebook, reflect on the following,\n",
    "\n",
    "You have launched different experiences and obtained different results,\n",
    "\n",
    "Did you feel the notebook you used was sufficient ? Which tools would you like to have in order to properly run your experiments ? (Quick google search or ask someone) Do they already exist ?"
   ]
  },
  {
   "cell_type": "markdown",
   "id": "ab704f71",
   "metadata": {
    "id": "SMpLWDs-C1y0"
   },
   "source": [
    "### High level frameworks\n",
    "\n",
    "<img src=\"https://raw.githubusercontent.com/pytorch/ignite/master/assets/logo/ignite_logo_mixed.svg\" alt=\"ignite\" style=\"width: 400px;\"/>\n",
    "\n",
    "Pytorch ignite is what we call a \"high-level library\" over pytorch, its objectives is to abstract away most of the boilerplate code for training deep neural network.\n",
    "\n",
    "Usually, they make the development process easier by enabling you to focus on what's important instead of writing distributed and optimized training loops and plugging metrics / callbacks. Because we all forgot to call `.backward()` or `.zero_grad()` at least once.\n",
    "\n",
    "Here an overview of the high-level libraries available for pytorch,\n",
    "\n",
    "https://neptune.ai/blog/model-training-libraries-pytorch-ecosystem?utm_source=twitter&utm_medium=tweet&utm_campaign=blog-model-training-libraries-pytorch-ecosystem\n",
    "\n",
    "Of these, we would like to highlight three of them:\n",
    "\n",
    "- pytorch-ignite, officially sanctioned by the pytorch team (its repo lives at https://pytorch.org/ignite/), which is developped by [someone from Toulouse](https://twitter.com/vfdev_5) - yes there is a member of the pytorch team living in Toulouse, we are not THAT behind in ML/DL :wishful-thinking:\n",
    "\n",
    "- pytorch-lightning (https://www.pytorchlightning.ai/) which has recently seen its 1.0 milestone and has been developped to a company. It is more \"research oriented\" that pytorch-ignite, and with a lower abstraction level, but seems to enable more use case.\n",
    "\n",
    "- catalyst (https://github.com/catalyst-team/catalyst) \n",
    "\n",
    "- skorch (https://github.com/skorch-dev/skorch). This class was previously written in skorch. Skorch mimics the scikit-learn API and allows bridging the two libraries together. It's a bit less powerful but you write much less code than the two libraries above, and if you are very familiar with scikit-learn, it could be very useful for fast prototyping\n",
    "\n",
    "\n",
    "**Take a look at the [previous class](https://nbviewer.jupyter.org/github/SupaeroDataScience/deep-learning/blob/main/deep/PyTorch%20Ignite.ipynb), the [official examples](https://nbviewer.jupyter.org/github/pytorch/ignite/tree/master/examples/notebooks/) or the [documentation](https://pytorch.org/ignite/) if want to learn about Ignite**"
   ]
  }
 ],
 "metadata": {
  "jupytext": {
   "cell_metadata_json": true,
   "encoding": "# -*- coding: utf-8 -*-",
   "formats": "ipynb,py:percent"
  },
  "kernelspec": {
   "display_name": "Python 3 (ipykernel)",
   "language": "python",
   "name": "python3"
  }
 },
 "nbformat": 4,
 "nbformat_minor": 5
}
