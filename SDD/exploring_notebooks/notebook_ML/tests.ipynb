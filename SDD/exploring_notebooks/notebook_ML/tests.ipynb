{
 "cells": [
  {
   "cell_type": "code",
   "execution_count": 1,
   "metadata": {},
   "outputs": [
    {
     "name": "stdout",
     "output_type": "stream",
     "text": [
      "(100234, 4)\n",
      "   userId  movieId  rating  timestamp\n",
      "0       1        1     5.0  847117005\n",
      "1       1        2     3.0  847642142\n",
      "2       1       10     3.0  847641896\n",
      "3       1       32     4.0  847642008\n",
      "4       1       34     4.0  847641956\n",
      "1.0\n"
     ]
    },
    {
     "data": {
      "text/plain": [
       "0.5"
      ]
     },
     "execution_count": 1,
     "metadata": {},
     "output_type": "execute_result"
    }
   ],
   "source": [
    "import pandas as pd\n",
    "from scipy.spatial.distance import cosine\n",
    "\n",
    "ratings = pd.read_csv('./Movies_data/ratings.csv')\n",
    "movies = pd.read_csv('./Movies_data/movies.csv')\n",
    "print(ratings.shape)\n",
    "print(ratings.head())\n",
    "max(ratings['userId'])\n",
    "import numpy as np\n",
    "print(np.array(ratings)[3,0])\n",
    "min(ratings['rating'])"
   ]
  },
  {
   "cell_type": "code",
   "execution_count": 2,
   "metadata": {},
   "outputs": [
    {
     "name": "stdout",
     "output_type": "stream",
     "text": [
      "(8927, 3)\n",
      "   movieId                               title  \\\n",
      "0        1                    Toy Story (1995)   \n",
      "1        2                      Jumanji (1995)   \n",
      "2        3             Grumpier Old Men (1995)   \n",
      "3        4            Waiting to Exhale (1995)   \n",
      "4        5  Father of the Bride Part II (1995)   \n",
      "\n",
      "                                        genres  \n",
      "0  Adventure|Animation|Children|Comedy|Fantasy  \n",
      "1                   Adventure|Children|Fantasy  \n",
      "2                               Comedy|Romance  \n",
      "3                         Comedy|Drama|Romance  \n",
      "4                                       Comedy  \n",
      "   movieId                               title\n",
      "0        1                    Toy Story (1995)\n",
      "1        2                      Jumanji (1995)\n",
      "2        3             Grumpier Old Men (1995)\n",
      "3        4            Waiting to Exhale (1995)\n",
      "4        5  Father of the Bride Part II (1995)\n",
      "   userId  movieId  rating  timestamp\n",
      "0       1        1     5.0  847117005\n",
      "1       1        2     3.0  847642142\n",
      "2       1       10     3.0  847641896\n",
      "3       1       32     4.0  847642008\n",
      "4       1       34     4.0  847641956\n"
     ]
    }
   ],
   "source": [
    "print(movies.shape)\n",
    "print(movies.head())\n",
    "movies = movies.drop('genres',1)\n",
    "print(movies.head())\n",
    "print(ratings.head())\n",
    "ratings = ratings.drop('timestamp',1)"
   ]
  },
  {
   "cell_type": "code",
   "execution_count": 55,
   "metadata": {},
   "outputs": [],
   "source": [
    "def Matrix(movies, ratings):\n",
    "    I = max(ratings['userId'])\n",
    "    J = max(movies['movieId'])\n",
    "    temp = pd.DataFrame(data = 0,index = range(I), columns = range(J))\n",
    "    movies_bis = np.array(ratings)\n",
    "    for i in range(I):\n",
    "        temp[movies_bis[i,0],movies_bis[i,1]]=movies_bis[i,2]/5\n",
    "    return(temp)\n",
    "        \n",
    "        \n",
    "            "
   ]
  },
  {
   "cell_type": "code",
   "execution_count": 49,
   "metadata": {},
   "outputs": [],
   "source": [
    "test = Matrix(movies,ratings)"
   ]
  },
  {
   "cell_type": "code",
   "execution_count": 50,
   "metadata": {},
   "outputs": [
    {
     "name": "stdout",
     "output_type": "stream",
     "text": [
      "(718, 136605)\n"
     ]
    },
    {
     "data": {
      "text/plain": [
       "135887"
      ]
     },
     "execution_count": 50,
     "metadata": {},
     "output_type": "execute_result"
    }
   ],
   "source": [
    "print(test.shape)\n",
    "test[1]\n",
    "max(movies['movieId'])"
   ]
  },
  {
   "cell_type": "code",
   "execution_count": 51,
   "metadata": {},
   "outputs": [
    {
     "name": "stdout",
     "output_type": "stream",
     "text": [
      "     0  1  2  3  4  5  6  7  8  9      ...        (5.0, 2792.0)  \\\n",
      "0    0  0  0  0  0  0  0  0  0  0      ...                  0.4   \n",
      "1    0  0  0  0  0  0  0  0  0  0      ...                  0.4   \n",
      "2    0  0  0  0  0  0  0  0  0  0      ...                  0.4   \n",
      "3    0  0  0  0  0  0  0  0  0  0      ...                  0.4   \n",
      "4    0  0  0  0  0  0  0  0  0  0      ...                  0.4   \n",
      "5    0  0  0  0  0  0  0  0  0  0      ...                  0.4   \n",
      "6    0  0  0  0  0  0  0  0  0  0      ...                  0.4   \n",
      "7    0  0  0  0  0  0  0  0  0  0      ...                  0.4   \n",
      "8    0  0  0  0  0  0  0  0  0  0      ...                  0.4   \n",
      "9    0  0  0  0  0  0  0  0  0  0      ...                  0.4   \n",
      "10   0  0  0  0  0  0  0  0  0  0      ...                  0.4   \n",
      "11   0  0  0  0  0  0  0  0  0  0      ...                  0.4   \n",
      "12   0  0  0  0  0  0  0  0  0  0      ...                  0.4   \n",
      "13   0  0  0  0  0  0  0  0  0  0      ...                  0.4   \n",
      "14   0  0  0  0  0  0  0  0  0  0      ...                  0.4   \n",
      "15   0  0  0  0  0  0  0  0  0  0      ...                  0.4   \n",
      "16   0  0  0  0  0  0  0  0  0  0      ...                  0.4   \n",
      "17   0  0  0  0  0  0  0  0  0  0      ...                  0.4   \n",
      "18   0  0  0  0  0  0  0  0  0  0      ...                  0.4   \n",
      "19   0  0  0  0  0  0  0  0  0  0      ...                  0.4   \n",
      "20   0  0  0  0  0  0  0  0  0  0      ...                  0.4   \n",
      "21   0  0  0  0  0  0  0  0  0  0      ...                  0.4   \n",
      "22   0  0  0  0  0  0  0  0  0  0      ...                  0.4   \n",
      "23   0  0  0  0  0  0  0  0  0  0      ...                  0.4   \n",
      "24   0  0  0  0  0  0  0  0  0  0      ...                  0.4   \n",
      "25   0  0  0  0  0  0  0  0  0  0      ...                  0.4   \n",
      "26   0  0  0  0  0  0  0  0  0  0      ...                  0.4   \n",
      "27   0  0  0  0  0  0  0  0  0  0      ...                  0.4   \n",
      "28   0  0  0  0  0  0  0  0  0  0      ...                  0.4   \n",
      "29   0  0  0  0  0  0  0  0  0  0      ...                  0.4   \n",
      "..  .. .. .. .. .. .. .. .. .. ..      ...                  ...   \n",
      "688  0  0  0  0  0  0  0  0  0  0      ...                  0.4   \n",
      "689  0  0  0  0  0  0  0  0  0  0      ...                  0.4   \n",
      "690  0  0  0  0  0  0  0  0  0  0      ...                  0.4   \n",
      "691  0  0  0  0  0  0  0  0  0  0      ...                  0.4   \n",
      "692  0  0  0  0  0  0  0  0  0  0      ...                  0.4   \n",
      "693  0  0  0  0  0  0  0  0  0  0      ...                  0.4   \n",
      "694  0  0  0  0  0  0  0  0  0  0      ...                  0.4   \n",
      "695  0  0  0  0  0  0  0  0  0  0      ...                  0.4   \n",
      "696  0  0  0  0  0  0  0  0  0  0      ...                  0.4   \n",
      "697  0  0  0  0  0  0  0  0  0  0      ...                  0.4   \n",
      "698  0  0  0  0  0  0  0  0  0  0      ...                  0.4   \n",
      "699  0  0  0  0  0  0  0  0  0  0      ...                  0.4   \n",
      "700  0  0  0  0  0  0  0  0  0  0      ...                  0.4   \n",
      "701  0  0  0  0  0  0  0  0  0  0      ...                  0.4   \n",
      "702  0  0  0  0  0  0  0  0  0  0      ...                  0.4   \n",
      "703  0  0  0  0  0  0  0  0  0  0      ...                  0.4   \n",
      "704  0  0  0  0  0  0  0  0  0  0      ...                  0.4   \n",
      "705  0  0  0  0  0  0  0  0  0  0      ...                  0.4   \n",
      "706  0  0  0  0  0  0  0  0  0  0      ...                  0.4   \n",
      "707  0  0  0  0  0  0  0  0  0  0      ...                  0.4   \n",
      "708  0  0  0  0  0  0  0  0  0  0      ...                  0.4   \n",
      "709  0  0  0  0  0  0  0  0  0  0      ...                  0.4   \n",
      "710  0  0  0  0  0  0  0  0  0  0      ...                  0.4   \n",
      "711  0  0  0  0  0  0  0  0  0  0      ...                  0.4   \n",
      "712  0  0  0  0  0  0  0  0  0  0      ...                  0.4   \n",
      "713  0  0  0  0  0  0  0  0  0  0      ...                  0.4   \n",
      "714  0  0  0  0  0  0  0  0  0  0      ...                  0.4   \n",
      "715  0  0  0  0  0  0  0  0  0  0      ...                  0.4   \n",
      "716  0  0  0  0  0  0  0  0  0  0      ...                  0.4   \n",
      "717  0  0  0  0  0  0  0  0  0  0      ...                  0.4   \n",
      "\n",
      "     (5.0, 2797.0)  (5.0, 2804.0)  (5.0, 2819.0)  (5.0, 2829.0)  \\\n",
      "0              0.8            0.8            0.6            1.0   \n",
      "1              0.8            0.8            0.6            1.0   \n",
      "2              0.8            0.8            0.6            1.0   \n",
      "3              0.8            0.8            0.6            1.0   \n",
      "4              0.8            0.8            0.6            1.0   \n",
      "5              0.8            0.8            0.6            1.0   \n",
      "6              0.8            0.8            0.6            1.0   \n",
      "7              0.8            0.8            0.6            1.0   \n",
      "8              0.8            0.8            0.6            1.0   \n",
      "9              0.8            0.8            0.6            1.0   \n",
      "10             0.8            0.8            0.6            1.0   \n",
      "11             0.8            0.8            0.6            1.0   \n",
      "12             0.8            0.8            0.6            1.0   \n",
      "13             0.8            0.8            0.6            1.0   \n",
      "14             0.8            0.8            0.6            1.0   \n",
      "15             0.8            0.8            0.6            1.0   \n",
      "16             0.8            0.8            0.6            1.0   \n",
      "17             0.8            0.8            0.6            1.0   \n",
      "18             0.8            0.8            0.6            1.0   \n",
      "19             0.8            0.8            0.6            1.0   \n",
      "20             0.8            0.8            0.6            1.0   \n",
      "21             0.8            0.8            0.6            1.0   \n",
      "22             0.8            0.8            0.6            1.0   \n",
      "23             0.8            0.8            0.6            1.0   \n",
      "24             0.8            0.8            0.6            1.0   \n",
      "25             0.8            0.8            0.6            1.0   \n",
      "26             0.8            0.8            0.6            1.0   \n",
      "27             0.8            0.8            0.6            1.0   \n",
      "28             0.8            0.8            0.6            1.0   \n",
      "29             0.8            0.8            0.6            1.0   \n",
      "..             ...            ...            ...            ...   \n",
      "688            0.8            0.8            0.6            1.0   \n",
      "689            0.8            0.8            0.6            1.0   \n",
      "690            0.8            0.8            0.6            1.0   \n",
      "691            0.8            0.8            0.6            1.0   \n",
      "692            0.8            0.8            0.6            1.0   \n",
      "693            0.8            0.8            0.6            1.0   \n",
      "694            0.8            0.8            0.6            1.0   \n",
      "695            0.8            0.8            0.6            1.0   \n",
      "696            0.8            0.8            0.6            1.0   \n",
      "697            0.8            0.8            0.6            1.0   \n",
      "698            0.8            0.8            0.6            1.0   \n",
      "699            0.8            0.8            0.6            1.0   \n",
      "700            0.8            0.8            0.6            1.0   \n",
      "701            0.8            0.8            0.6            1.0   \n",
      "702            0.8            0.8            0.6            1.0   \n",
      "703            0.8            0.8            0.6            1.0   \n",
      "704            0.8            0.8            0.6            1.0   \n",
      "705            0.8            0.8            0.6            1.0   \n",
      "706            0.8            0.8            0.6            1.0   \n",
      "707            0.8            0.8            0.6            1.0   \n",
      "708            0.8            0.8            0.6            1.0   \n",
      "709            0.8            0.8            0.6            1.0   \n",
      "710            0.8            0.8            0.6            1.0   \n",
      "711            0.8            0.8            0.6            1.0   \n",
      "712            0.8            0.8            0.6            1.0   \n",
      "713            0.8            0.8            0.6            1.0   \n",
      "714            0.8            0.8            0.6            1.0   \n",
      "715            0.8            0.8            0.6            1.0   \n",
      "716            0.8            0.8            0.6            1.0   \n",
      "717            0.8            0.8            0.6            1.0   \n",
      "\n",
      "     (5.0, 2841.0)  (5.0, 2858.0)  (5.0, 2859.0)  (5.0, 2863.0)  (5.0, 2867.0)  \n",
      "0              0.6            1.0            1.0            1.0            0.8  \n",
      "1              0.6            1.0            1.0            1.0            0.8  \n",
      "2              0.6            1.0            1.0            1.0            0.8  \n",
      "3              0.6            1.0            1.0            1.0            0.8  \n",
      "4              0.6            1.0            1.0            1.0            0.8  \n",
      "5              0.6            1.0            1.0            1.0            0.8  \n",
      "6              0.6            1.0            1.0            1.0            0.8  \n",
      "7              0.6            1.0            1.0            1.0            0.8  \n",
      "8              0.6            1.0            1.0            1.0            0.8  \n",
      "9              0.6            1.0            1.0            1.0            0.8  \n",
      "10             0.6            1.0            1.0            1.0            0.8  \n",
      "11             0.6            1.0            1.0            1.0            0.8  \n",
      "12             0.6            1.0            1.0            1.0            0.8  \n",
      "13             0.6            1.0            1.0            1.0            0.8  \n",
      "14             0.6            1.0            1.0            1.0            0.8  \n",
      "15             0.6            1.0            1.0            1.0            0.8  \n",
      "16             0.6            1.0            1.0            1.0            0.8  \n",
      "17             0.6            1.0            1.0            1.0            0.8  \n",
      "18             0.6            1.0            1.0            1.0            0.8  \n",
      "19             0.6            1.0            1.0            1.0            0.8  \n",
      "20             0.6            1.0            1.0            1.0            0.8  \n",
      "21             0.6            1.0            1.0            1.0            0.8  \n",
      "22             0.6            1.0            1.0            1.0            0.8  \n",
      "23             0.6            1.0            1.0            1.0            0.8  \n",
      "24             0.6            1.0            1.0            1.0            0.8  \n",
      "25             0.6            1.0            1.0            1.0            0.8  \n",
      "26             0.6            1.0            1.0            1.0            0.8  \n",
      "27             0.6            1.0            1.0            1.0            0.8  \n",
      "28             0.6            1.0            1.0            1.0            0.8  \n",
      "29             0.6            1.0            1.0            1.0            0.8  \n",
      "..             ...            ...            ...            ...            ...  \n",
      "688            0.6            1.0            1.0            1.0            0.8  \n",
      "689            0.6            1.0            1.0            1.0            0.8  \n",
      "690            0.6            1.0            1.0            1.0            0.8  \n",
      "691            0.6            1.0            1.0            1.0            0.8  \n",
      "692            0.6            1.0            1.0            1.0            0.8  \n",
      "693            0.6            1.0            1.0            1.0            0.8  \n",
      "694            0.6            1.0            1.0            1.0            0.8  \n",
      "695            0.6            1.0            1.0            1.0            0.8  \n",
      "696            0.6            1.0            1.0            1.0            0.8  \n",
      "697            0.6            1.0            1.0            1.0            0.8  \n",
      "698            0.6            1.0            1.0            1.0            0.8  \n",
      "699            0.6            1.0            1.0            1.0            0.8  \n",
      "700            0.6            1.0            1.0            1.0            0.8  \n",
      "701            0.6            1.0            1.0            1.0            0.8  \n",
      "702            0.6            1.0            1.0            1.0            0.8  \n",
      "703            0.6            1.0            1.0            1.0            0.8  \n",
      "704            0.6            1.0            1.0            1.0            0.8  \n",
      "705            0.6            1.0            1.0            1.0            0.8  \n",
      "706            0.6            1.0            1.0            1.0            0.8  \n",
      "707            0.6            1.0            1.0            1.0            0.8  \n",
      "708            0.6            1.0            1.0            1.0            0.8  \n",
      "709            0.6            1.0            1.0            1.0            0.8  \n",
      "710            0.6            1.0            1.0            1.0            0.8  \n",
      "711            0.6            1.0            1.0            1.0            0.8  \n",
      "712            0.6            1.0            1.0            1.0            0.8  \n",
      "713            0.6            1.0            1.0            1.0            0.8  \n",
      "714            0.6            1.0            1.0            1.0            0.8  \n",
      "715            0.6            1.0            1.0            1.0            0.8  \n",
      "716            0.6            1.0            1.0            1.0            0.8  \n",
      "717            0.6            1.0            1.0            1.0            0.8  \n",
      "\n",
      "[718 rows x 136605 columns]\n"
     ]
    }
   ],
   "source": [
    "print(test)\n",
    "import csv\n",
    "\n",
    "test = np.array(test)\n",
    "csvfile = csv.writer(open('./Movies_data/data.csv', \"w\"))\n",
    "for i in range(test.shape[0]):\n",
    "    csvfile.writerow(test[i,:])"
   ]
  },
  {
   "cell_type": "code",
   "execution_count": null,
   "metadata": {},
   "outputs": [],
   "source": [
    "data = pd.read_csv('./Movies_data/data.csv')\n",
    "\n",
    "print(data)"
   ]
  },
  {
   "cell_type": "code",
   "execution_count": null,
   "metadata": {},
   "outputs": [],
   "source": [
    "data_bis = pd.DataFrame(index=data.columns,columns=data.columns)\n",
    "for i in range(0,len(data_bis.columns)) :\n",
    "    # Loop through the columns for each column\n",
    "    for j in range(0,len(data_bis.columns)) :\n",
    "      # Fill in placeholder with cosine similarities\n",
    "      data_bis.iloc[i,j] = 1-cosine(data.iloc[:,i],data.iloc[:,j])"
   ]
  },
  {
   "cell_type": "code",
   "execution_count": null,
   "metadata": {},
   "outputs": [],
   "source": [
    "item = data_bis.iloc[:,10]\n",
    "print(item.sort_values(ascending = False)[1:10])"
   ]
  },
  {
   "cell_type": "code",
   "execution_count": null,
   "metadata": {},
   "outputs": [],
   "source": []
  },
  {
   "cell_type": "code",
   "execution_count": null,
   "metadata": {},
   "outputs": [],
   "source": []
  }
 ],
 "metadata": {
  "kernelspec": {
   "display_name": "Python 3",
   "language": "python",
   "name": "python3"
  },
  "language_info": {
   "codemirror_mode": {
    "name": "ipython",
    "version": 3
   },
   "file_extension": ".py",
   "mimetype": "text/x-python",
   "name": "python",
   "nbconvert_exporter": "python",
   "pygments_lexer": "ipython3",
   "version": "3.6.5"
  }
 },
 "nbformat": 4,
 "nbformat_minor": 2
}
